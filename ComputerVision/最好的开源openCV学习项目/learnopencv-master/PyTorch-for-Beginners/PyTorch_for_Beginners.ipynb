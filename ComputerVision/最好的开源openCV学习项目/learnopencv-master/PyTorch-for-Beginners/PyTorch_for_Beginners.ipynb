{
  "nbformat": 4,
  "nbformat_minor": 0,
  "metadata": {
    "colab": {
      "name": "PyTorch for Beginners.ipynb",
      "version": "0.3.2",
      "provenance": []
    },
    "kernelspec": {
      "name": "python3",
      "display_name": "Python 3"
    },
    "accelerator": "GPU"
  },
  "cells": [
    {
      "cell_type": "markdown",
      "metadata": {
        "id": "VqhklyZ_zeFa",
        "colab_type": "text"
      },
      "source": [
        "# PyTorch for Beginners\n",
        "\n",
        "In this notebook, we will try out the codes we used in the [PyTorch for Beginners](https://www.learnopencv.com/pytorch-for-beginners-basics/) blog.\n",
        "\n",
        "Let's start off by installing PyTorch."
      ]
    },
    {
      "cell_type": "code",
      "metadata": {
        "id": "lu6Nap-AzvIk",
        "colab_type": "code",
        "colab": {
          "base_uri": "https://localhost:8080/",
          "height": 51
        },
        "outputId": "37730e3d-0a28-4f24-e17b-f3d6dcc64d32"
      },
      "source": [
        "# Use this if you have conda installed\n",
        "# !conda install -c pytorch pytorch\n",
        "\n",
        "# Use this if you are on Google Colab\n",
        "# or don't have conda installed\n",
        "!pip3 install torch"
      ],
      "execution_count": 7,
      "outputs": [
        {
          "output_type": "stream",
          "text": [
            "Requirement already satisfied: torch in /usr/local/lib/python3.6/dist-packages (1.1.0)\n",
            "Requirement already satisfied: numpy in /usr/local/lib/python3.6/dist-packages (from torch) (1.16.4)\n"
          ],
          "name": "stdout"
        }
      ]
    },
    {
      "cell_type": "markdown",
      "metadata": {
        "id": "qXlDsyiT0QkG",
        "colab_type": "text"
      },
      "source": [
        "Let's verify that we have the latest PyTorch version (1.1.0)"
      ]
    },
    {
      "cell_type": "code",
      "metadata": {
        "id": "XTu5IogH3Xgq",
        "colab_type": "code",
        "colab": {}
      },
      "source": [
        "import torch"
      ],
      "execution_count": 0,
      "outputs": []
    },
    {
      "cell_type": "code",
      "metadata": {
        "id": "4peb4GAdVnVI",
        "colab_type": "code",
        "outputId": "85a71c85-19f4-46b4-d208-e2541866e7a4",
        "colab": {
          "base_uri": "https://localhost:8080/",
          "height": 34
        }
      },
      "source": [
        "print(\"torch version : {}\".format(torch.__version__))"
      ],
      "execution_count": 9,
      "outputs": [
        {
          "output_type": "stream",
          "text": [
            "torch version : 1.1.0\n"
          ],
          "name": "stdout"
        }
      ]
    },
    {
      "cell_type": "markdown",
      "metadata": {
        "id": "Kp--FrJM0eoO",
        "colab_type": "text"
      },
      "source": [
        "# Introduction to Tensors\n",
        "\n",
        "## Construct your first Tensor\n",
        "\n",
        "Let’s see how we can create a PyTorch Tensor. "
      ]
    },
    {
      "cell_type": "code",
      "metadata": {
        "id": "dwnMQMkHvbV_",
        "colab_type": "code",
        "colab": {
          "base_uri": "https://localhost:8080/",
          "height": 51
        },
        "outputId": "e5df513d-fd80-4c76-81df-dcc896185ade"
      },
      "source": [
        "# Create a Tensor with just ones in a column\n",
        "a = torch.ones(5)\n",
        "# Print the tensor we created\n",
        "print(a)\n",
        " \n",
        "# Create a Tensor with just zeros in a column\n",
        "b = torch.zeros(5)\n",
        "print(b)"
      ],
      "execution_count": 11,
      "outputs": [
        {
          "output_type": "stream",
          "text": [
            "tensor([1., 1., 1., 1., 1.])\n",
            "tensor([0., 0., 0., 0., 0.])\n"
          ],
          "name": "stdout"
        }
      ]
    },
    {
      "cell_type": "markdown",
      "metadata": {
        "id": "VZRb8bDz02PZ",
        "colab_type": "text"
      },
      "source": [
        "We can similarly create Tensor with custom values as shown below."
      ]
    },
    {
      "cell_type": "code",
      "metadata": {
        "id": "PhuPnpNh0qMj",
        "colab_type": "code",
        "colab": {
          "base_uri": "https://localhost:8080/",
          "height": 34
        },
        "outputId": "30630b0f-cb18-410f-bb63-6c4725005595"
      },
      "source": [
        "c = torch.tensor([1.0, 2.0, 3.0, 4.0, 5.0])\n",
        "print(c)"
      ],
      "execution_count": 12,
      "outputs": [
        {
          "output_type": "stream",
          "text": [
            "tensor([1., 2., 3., 4., 5.])\n"
          ],
          "name": "stdout"
        }
      ]
    },
    {
      "cell_type": "markdown",
      "metadata": {
        "id": "Rj4kSyaR08-5",
        "colab_type": "text"
      },
      "source": [
        "In all the above cases, we have created vectors or Tensors of dimension 1. Now, let’s create some tensors of higher dimension."
      ]
    },
    {
      "cell_type": "code",
      "metadata": {
        "id": "pwLThRRw05BJ",
        "colab_type": "code",
        "colab": {
          "base_uri": "https://localhost:8080/",
          "height": 238
        },
        "outputId": "95f5bdd5-ae46-47ed-d91a-f665ed44ebe8"
      },
      "source": [
        "d = torch.zeros(3,2)\n",
        "print(d)\n",
        "\n",
        "e = torch.ones(3,2)\n",
        "print(e)\n",
        "\n",
        "f = torch.tensor([[1.0, 2.0],[3.0, 4.0]])\n",
        "print(f)\n",
        "\n",
        "# 3D Tensor\n",
        "g = torch.tensor([[[1., 2.], [3., 4.]], [[5., 6.], [7., 8.]]])\n",
        "print(g)"
      ],
      "execution_count": 15,
      "outputs": [
        {
          "output_type": "stream",
          "text": [
            "tensor([[0., 0.],\n",
            "        [0., 0.],\n",
            "        [0., 0.]])\n",
            "tensor([[1., 1.],\n",
            "        [1., 1.],\n",
            "        [1., 1.]])\n",
            "tensor([[1., 2.],\n",
            "        [3., 4.]])\n",
            "tensor([[[1., 2.],\n",
            "         [3., 4.]],\n",
            "\n",
            "        [[5., 6.],\n",
            "         [7., 8.]]])\n"
          ],
          "name": "stdout"
        }
      ]
    },
    {
      "cell_type": "markdown",
      "metadata": {
        "id": "9cp28SfQ1Eb-",
        "colab_type": "text"
      },
      "source": [
        "We can also find out the shape of a Tensor using **`.shape`** method."
      ]
    },
    {
      "cell_type": "code",
      "metadata": {
        "id": "PrUhi7Me1CaE",
        "colab_type": "code",
        "colab": {
          "base_uri": "https://localhost:8080/",
          "height": 68
        },
        "outputId": "1f31b09b-1fd4-4c35-a345-e9606b5aa4ba"
      },
      "source": [
        "print(f.shape)\n",
        " \n",
        "print(e.shape)\n",
        " \n",
        "print(g.shape)"
      ],
      "execution_count": 16,
      "outputs": [
        {
          "output_type": "stream",
          "text": [
            "torch.Size([2, 2])\n",
            "torch.Size([3, 2])\n",
            "torch.Size([2, 2, 2])\n"
          ],
          "name": "stdout"
        }
      ]
    },
    {
      "cell_type": "markdown",
      "metadata": {
        "id": "vWHot39h1Z0X",
        "colab_type": "text"
      },
      "source": [
        "## Access an element in Tensor\n",
        "\n",
        "Now that we have created some tensors, let’s see how we can access an element in a Tensor. First let’s see how to do this for 1D Tensor aka vector."
      ]
    },
    {
      "cell_type": "code",
      "metadata": {
        "id": "1HP4gzrE1K66",
        "colab_type": "code",
        "colab": {
          "base_uri": "https://localhost:8080/",
          "height": 34
        },
        "outputId": "a8c3ba57-4d61-43f6-e239-4b84989eb249"
      },
      "source": [
        "# Get element at index 2\n",
        "print(c[2])"
      ],
      "execution_count": 17,
      "outputs": [
        {
          "output_type": "stream",
          "text": [
            "tensor(3.)\n"
          ],
          "name": "stdout"
        }
      ]
    },
    {
      "cell_type": "markdown",
      "metadata": {
        "id": "-gqFHFCV1k3H",
        "colab_type": "text"
      },
      "source": [
        "What about 2D or 3D Tensor? Recall what we mentioned about **dimension of a tensor**. \n",
        "\n",
        "To access one particular element in a tensor, we will need to specify indices equal to the dimension of the tensor. That’s why for tensor **`c`** we only had to specify one index."
      ]
    },
    {
      "cell_type": "code",
      "metadata": {
        "id": "IFR280DU1fJr",
        "colab_type": "code",
        "colab": {
          "base_uri": "https://localhost:8080/",
          "height": 85
        },
        "outputId": "fa123534-8d33-4610-bed1-d51dc276fbe6"
      },
      "source": [
        "# All indices starting from 0\n",
        " \n",
        "# Get element at row 1, column 0\n",
        "print(f[1,0])\n",
        "\n",
        "# We can also use the following\n",
        "print(f[1][0])\n",
        "\n",
        "# Similarly for 3D Tensor\n",
        "print(g[1,0,0])\n",
        "print(g[1][0][0])"
      ],
      "execution_count": 18,
      "outputs": [
        {
          "output_type": "stream",
          "text": [
            "tensor(3.)\n",
            "tensor(3.)\n",
            "tensor(5.)\n",
            "tensor(5.)\n"
          ],
          "name": "stdout"
        }
      ]
    },
    {
      "cell_type": "markdown",
      "metadata": {
        "id": "jD0vwWDG1xr4",
        "colab_type": "text"
      },
      "source": [
        "But what if you wanted to access one entire row in a 2D Tensor?"
      ]
    },
    {
      "cell_type": "code",
      "metadata": {
        "id": "XB_p7OUz1u9p",
        "colab_type": "code",
        "colab": {
          "base_uri": "https://localhost:8080/",
          "height": 119
        },
        "outputId": "30f4c2df-6d43-47c8-b5fb-f273fa210d72"
      },
      "source": [
        "# All elements\n",
        "print(f[:])\n",
        " \n",
        "# All elements from index 1 to 2 (inclusive)\n",
        "print(c[1:3])\n",
        " \n",
        "# All elements till index 4 (exclusive)\n",
        "print(c[:4])\n",
        " \n",
        "# First row\n",
        "print(f[0,:])\n",
        " \n",
        "# Second column\n",
        "print(f[:,1])"
      ],
      "execution_count": 19,
      "outputs": [
        {
          "output_type": "stream",
          "text": [
            "tensor([[1., 2.],\n",
            "        [3., 4.]])\n",
            "tensor([2., 3.])\n",
            "tensor([1., 2., 3., 4.])\n",
            "tensor([1., 2.])\n",
            "tensor([2., 4.])\n"
          ],
          "name": "stdout"
        }
      ]
    },
    {
      "cell_type": "markdown",
      "metadata": {
        "id": "TxO2VoJv12Hh",
        "colab_type": "text"
      },
      "source": [
        "## Specify data type of elements\n",
        "\n",
        "Whenever we create a tensor, PyTorch decides the data type of the elements of the tensor such that the data type can cover all the elements of the tensor. We can override this by specifying the data type while creating the tensor."
      ]
    },
    {
      "cell_type": "code",
      "metadata": {
        "id": "4AyDrCBS1z_x",
        "colab_type": "code",
        "colab": {
          "base_uri": "https://localhost:8080/",
          "height": 136
        },
        "outputId": "e2785f22-7a66-44e0-83a3-1d6bc6a19d04"
      },
      "source": [
        "int_tensor = torch.tensor([[1,2,3],[4,5,6]])\n",
        "print(int_tensor.dtype)\n",
        " \n",
        "# What if we changed any one element to floating point number?\n",
        "int_tensor = torch.tensor([[1,2,3],[4.,5,6]])\n",
        "print(int_tensor.dtype)\n",
        "print(int_tensor)\n",
        " \n",
        " \n",
        "# This can be overridden as follows\n",
        "int_tensor = torch.tensor([[1,2,3],[4.,5,6]], dtype=torch.int32)\n",
        "print(int_tensor.dtype)\n",
        "print(int_tensor)"
      ],
      "execution_count": 20,
      "outputs": [
        {
          "output_type": "stream",
          "text": [
            "torch.int64\n",
            "torch.float32\n",
            "tensor([[1., 2., 3.],\n",
            "        [4., 5., 6.]])\n",
            "torch.int32\n",
            "tensor([[1, 2, 3],\n",
            "        [4, 5, 6]], dtype=torch.int32)\n"
          ],
          "name": "stdout"
        }
      ]
    },
    {
      "cell_type": "markdown",
      "metadata": {
        "id": "nwxIIWEF2Ea8",
        "colab_type": "text"
      },
      "source": [
        "## Tensor to/from NumPy Array\n",
        "\n",
        "We have mentioned several times that PyTorch Tensors and NumPy arrays are pretty similar. This of course demands the question if it’s possible to convert one data structure into another. Let’s see how we can do this."
      ]
    },
    {
      "cell_type": "code",
      "metadata": {
        "id": "d7AC_jpn2Cd6",
        "colab_type": "code",
        "colab": {
          "base_uri": "https://localhost:8080/",
          "height": 85
        },
        "outputId": "7862781a-64f3-4973-9acc-87502599adc4"
      },
      "source": [
        "# Import NumPy\n",
        "import numpy as np\n",
        " \n",
        "# Tensor to Array\n",
        "f_numpy = f.numpy()\n",
        "print(f_numpy)\n",
        " \n",
        "# Array to Tensor\n",
        "h = np.array([[8,7,6,5],[4,3,2,1]])\n",
        "h_tensor = torch.from_numpy(h)\n",
        "print(h_tensor)"
      ],
      "execution_count": 21,
      "outputs": [
        {
          "output_type": "stream",
          "text": [
            "[[1. 2.]\n",
            " [3. 4.]]\n",
            "tensor([[8, 7, 6, 5],\n",
            "        [4, 3, 2, 1]])\n"
          ],
          "name": "stdout"
        }
      ]
    },
    {
      "cell_type": "markdown",
      "metadata": {
        "id": "JBlMxo7j2NNH",
        "colab_type": "text"
      },
      "source": [
        "## Arithmetic Operations on Tensors\n",
        "\n",
        "Now it’s time for the next step. Let’s see how we can perform arithmetic operations on PyTorch tensors."
      ]
    },
    {
      "cell_type": "code",
      "metadata": {
        "id": "CJGjZc212K74",
        "colab_type": "code",
        "colab": {
          "base_uri": "https://localhost:8080/",
          "height": 323
        },
        "outputId": "8e741099-3fd1-438e-d091-f9edcfd356df"
      },
      "source": [
        "# Create tensor\n",
        "tensor1 = torch.tensor([[1,2,3],[4,5,6]])\n",
        "tensor2 = torch.tensor([[-1,2,-3],[4,-5,6]])\n",
        " \n",
        "# Addition\n",
        "print(tensor1+tensor2)\n",
        "# We can also use\n",
        "print(torch.add(tensor1,tensor2))\n",
        " \n",
        "# Subtraction\n",
        "print(tensor1-tensor2)\n",
        "# We can also use\n",
        "print(torch.sub(tensor1,tensor2))\n",
        " \n",
        "# Multiplication\n",
        "# Tensor with Scalar\n",
        "print(tensor1 * 2)\n",
        " \n",
        "# Tensor with another tensor\n",
        "# Elementwise Multiplication\n",
        "print(tensor1 * tensor2)\n",
        " \n",
        "# Matrix multiplication\n",
        "tensor3 = torch.tensor([[1,2],[3,4],[5,6]])\n",
        "print(torch.mm(tensor1,tensor3))\n",
        " \n",
        "# Division\n",
        "# Tensor with scalar\n",
        "print(tensor1/2)\n",
        " \n",
        "# Tensor with another tensor\n",
        "# Elementwise division\n",
        "print(tensor1/tensor2)"
      ],
      "execution_count": 23,
      "outputs": [
        {
          "output_type": "stream",
          "text": [
            "tensor([[ 0,  4,  0],\n",
            "        [ 8,  0, 12]])\n",
            "tensor([[ 0,  4,  0],\n",
            "        [ 8,  0, 12]])\n",
            "tensor([[ 2,  0,  6],\n",
            "        [ 0, 10,  0]])\n",
            "tensor([[ 2,  0,  6],\n",
            "        [ 0, 10,  0]])\n",
            "tensor([[ 2,  4,  6],\n",
            "        [ 8, 10, 12]])\n",
            "tensor([[ -1,   4,  -9],\n",
            "        [ 16, -25,  36]])\n",
            "tensor([[22, 28],\n",
            "        [49, 64]])\n",
            "tensor([[0, 1, 1],\n",
            "        [2, 2, 3]])\n",
            "tensor([[-1,  1, -1],\n",
            "        [ 1, -1,  1]])\n"
          ],
          "name": "stdout"
        }
      ]
    },
    {
      "cell_type": "markdown",
      "metadata": {
        "id": "tkyA9q3_2mkE",
        "colab_type": "text"
      },
      "source": [
        "## CPU v/s GPU Tensor\n",
        "\n",
        "Let’s first see how to create a tensor for GPU."
      ]
    },
    {
      "cell_type": "code",
      "metadata": {
        "id": "-zGZj6qR2XhM",
        "colab_type": "code",
        "colab": {}
      },
      "source": [
        "# Create a tensor for CPU\n",
        "# This will occupy CPU RAM\n",
        "tensor_cpu = torch.tensor([[1.0, 2.0], [3.0, 4.0], [5.0, 6.0]], device='cpu')\n",
        " \n",
        "# Create a tensor for GPU\n",
        "# This will occupy GPU RAM\n",
        "tensor_gpu = torch.tensor([[1.0, 2.0], [3.0, 4.0], [5.0, 6.0]], device='cuda')"
      ],
      "execution_count": 0,
      "outputs": []
    },
    {
      "cell_type": "markdown",
      "metadata": {
        "id": "OgEU85m327Oc",
        "colab_type": "text"
      },
      "source": [
        "Just like tensor creation, the operations performed for CPU and GPU tensors are also different and consume RAM corresponding to the device specified."
      ]
    },
    {
      "cell_type": "code",
      "metadata": {
        "id": "GCga1AY-2slu",
        "colab_type": "code",
        "colab": {}
      },
      "source": [
        "# This uses CPU RAM\n",
        "tensor_cpu = tensor_cpu * 5\n",
        " \n",
        "# This uses GPU RAM\n",
        "# Focus on GPU RAM Consumption\n",
        "tensor_gpu = tensor_gpu * 5"
      ],
      "execution_count": 0,
      "outputs": []
    },
    {
      "cell_type": "markdown",
      "metadata": {
        "id": "jcJPGIwG2_Gk",
        "colab_type": "text"
      },
      "source": [
        "We can move the GPU tensor to CPU and vice versa as shown below."
      ]
    },
    {
      "cell_type": "code",
      "metadata": {
        "id": "JjyOE2dG285K",
        "colab_type": "code",
        "colab": {}
      },
      "source": [
        "# Move GPU tensor to CPU\n",
        "tensor_gpu_cpu = tensor_gpu.to(device='cpu')\n",
        " \n",
        "# Move CPU tensor to GPU\n",
        "tensor_cpu_gpu = tensor_cpu.to(device='cuda')"
      ],
      "execution_count": 0,
      "outputs": []
    },
    {
      "cell_type": "markdown",
      "metadata": {
        "id": "znQT1rkq3BHL",
        "colab_type": "text"
      },
      "source": [
        "## Thank You!\n",
        "\n",
        "That's all folks for now. Hope you enjoyed the blog."
      ]
    }
  ]
}