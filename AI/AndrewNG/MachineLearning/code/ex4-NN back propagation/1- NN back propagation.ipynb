{
 "cells": [
  {
   "cell_type": "markdown",
   "metadata": {},
   "source": [
    "# NN back propagation（神经网络反向传播）"
   ]
  },
  {
   "cell_type": "code",
   "execution_count": 4,
   "metadata": {
    "collapsed": true
   },
   "outputs": [],
   "source": [
    "import matplotlib.pyplot as plt\n",
    "import numpy as np\n",
    "import scipy.io as sio\n",
    "import matplotlib\n",
    "import scipy.optimize as opt\n",
    "from sklearn.metrics import classification_report#这个包是评价报告"
   ]
  },
  {
   "cell_type": "code",
   "execution_count": 2,
   "metadata": {
    "collapsed": true
   },
   "outputs": [],
   "source": [
    "def load_data(path, transpose=True):\n",
    "    data = sio.loadmat(path)\n",
    "    y = data.get('y')  # (5000,1)\n",
    "    y = y.reshape(y.shape[0])  # make it back to column vector\n",
    "\n",
    "    X = data.get('X')  # (5000,400)\n",
    "\n",
    "    if transpose:\n",
    "        # for this dataset, you need a transpose to get the orientation right\n",
    "        X = np.array([im.reshape((20, 20)).T for im in X])\n",
    "\n",
    "        # and I flat the image again to preserve the vector presentation\n",
    "        X = np.array([im.reshape(400) for im in X])\n",
    "\n",
    "    return X, y"
   ]
  },
  {
   "cell_type": "code",
   "execution_count": 6,
   "metadata": {
    "collapsed": true
   },
   "outputs": [],
   "source": [
    "X, _ = load_data('ex4data1.mat')"
   ]
  },
  {
   "cell_type": "code",
   "execution_count": 7,
   "metadata": {
    "collapsed": true
   },
   "outputs": [],
   "source": [
    "def plot_100_image(X):\n",
    "    \"\"\" sample 100 image and show them\n",
    "    assume the image is square\n",
    "\n",
    "    X : (5000, 400)\n",
    "    \"\"\"\n",
    "    size = int(np.sqrt(X.shape[1]))\n",
    "\n",
    "    # sample 100 image, reshape, reorg it\n",
    "    sample_idx = np.random.choice(np.arange(X.shape[0]), 100)  # 100*400\n",
    "    sample_images = X[sample_idx, :]\n",
    "\n",
    "    fig, ax_array = plt.subplots(nrows=10, ncols=10, sharey=True, sharex=True, figsize=(8, 8))\n",
    "\n",
    "    for r in range(10):\n",
    "        for c in range(10):\n",
    "            ax_array[r, c].matshow(sample_images[10 * r + c].reshape((size, size)),\n",
    "                                   cmap=matplotlib.cm.binary)\n",
    "            plt.xticks(np.array([]))\n",
    "            plt.yticks(np.array([]))"
   ]
  },
  {
   "cell_type": "code",
   "execution_count": 8,
   "metadata": {},
   "outputs": [
    {
     "data": {
      "application/javascript": [
       "/* Put everything inside the global mpl namespace */\n",
       "window.mpl = {};\n",
       "\n",
       "\n",
       "mpl.get_websocket_type = function() {\n",
       "    if (typeof(WebSocket) !== 'undefined') {\n",
       "        return WebSocket;\n",
       "    } else if (typeof(MozWebSocket) !== 'undefined') {\n",
       "        return MozWebSocket;\n",
       "    } else {\n",
       "        alert('Your browser does not have WebSocket support.' +\n",
       "              'Please try Chrome, Safari or Firefox ≥ 6. ' +\n",
       "              'Firefox 4 and 5 are also supported but you ' +\n",
       "              'have to enable WebSockets in about:config.');\n",
       "    };\n",
       "}\n",
       "\n",
       "mpl.figure = function(figure_id, websocket, ondownload, parent_element) {\n",
       "    this.id = figure_id;\n",
       "\n",
       "    this.ws = websocket;\n",
       "\n",
       "    this.supports_binary = (this.ws.binaryType != undefined);\n",
       "\n",
       "    if (!this.supports_binary) {\n",
       "        var warnings = document.getElementById(\"mpl-warnings\");\n",
       "        if (warnings) {\n",
       "            warnings.style.display = 'block';\n",
       "            warnings.textContent = (\n",
       "                \"This browser does not support binary websocket messages. \" +\n",
       "                    \"Performance may be slow.\");\n",
       "        }\n",
       "    }\n",
       "\n",
       "    this.imageObj = new Image();\n",
       "\n",
       "    this.context = undefined;\n",
       "    this.message = undefined;\n",
       "    this.canvas = undefined;\n",
       "    this.rubberband_canvas = undefined;\n",
       "    this.rubberband_context = undefined;\n",
       "    this.format_dropdown = undefined;\n",
       "\n",
       "    this.image_mode = 'full';\n",
       "\n",
       "    this.root = $('<div/>');\n",
       "    this._root_extra_style(this.root)\n",
       "    this.root.attr('style', 'display: inline-block');\n",
       "\n",
       "    $(parent_element).append(this.root);\n",
       "\n",
       "    this._init_header(this);\n",
       "    this._init_canvas(this);\n",
       "    this._init_toolbar(this);\n",
       "\n",
       "    var fig = this;\n",
       "\n",
       "    this.waiting = false;\n",
       "\n",
       "    this.ws.onopen =  function () {\n",
       "            fig.send_message(\"supports_binary\", {value: fig.supports_binary});\n",
       "            fig.send_message(\"send_image_mode\", {});\n",
       "            if (mpl.ratio != 1) {\n",
       "                fig.send_message(\"set_dpi_ratio\", {'dpi_ratio': mpl.ratio});\n",
       "            }\n",
       "            fig.send_message(\"refresh\", {});\n",
       "        }\n",
       "\n",
       "    this.imageObj.onload = function() {\n",
       "            if (fig.image_mode == 'full') {\n",
       "                // Full images could contain transparency (where diff images\n",
       "                // almost always do), so we need to clear the canvas so that\n",
       "                // there is no ghosting.\n",
       "                fig.context.clearRect(0, 0, fig.canvas.width, fig.canvas.height);\n",
       "            }\n",
       "            fig.context.drawImage(fig.imageObj, 0, 0);\n",
       "        };\n",
       "\n",
       "    this.imageObj.onunload = function() {\n",
       "        this.ws.close();\n",
       "    }\n",
       "\n",
       "    this.ws.onmessage = this._make_on_message_function(this);\n",
       "\n",
       "    this.ondownload = ondownload;\n",
       "}\n",
       "\n",
       "mpl.figure.prototype._init_header = function() {\n",
       "    var titlebar = $(\n",
       "        '<div class=\"ui-dialog-titlebar ui-widget-header ui-corner-all ' +\n",
       "        'ui-helper-clearfix\"/>');\n",
       "    var titletext = $(\n",
       "        '<div class=\"ui-dialog-title\" style=\"width: 100%; ' +\n",
       "        'text-align: center; padding: 3px;\"/>');\n",
       "    titlebar.append(titletext)\n",
       "    this.root.append(titlebar);\n",
       "    this.header = titletext[0];\n",
       "}\n",
       "\n",
       "\n",
       "\n",
       "mpl.figure.prototype._canvas_extra_style = function(canvas_div) {\n",
       "\n",
       "}\n",
       "\n",
       "\n",
       "mpl.figure.prototype._root_extra_style = function(canvas_div) {\n",
       "\n",
       "}\n",
       "\n",
       "mpl.figure.prototype._init_canvas = function() {\n",
       "    var fig = this;\n",
       "\n",
       "    var canvas_div = $('<div/>');\n",
       "\n",
       "    canvas_div.attr('style', 'position: relative; clear: both; outline: 0');\n",
       "\n",
       "    function canvas_keyboard_event(event) {\n",
       "        return fig.key_event(event, event['data']);\n",
       "    }\n",
       "\n",
       "    canvas_div.keydown('key_press', canvas_keyboard_event);\n",
       "    canvas_div.keyup('key_release', canvas_keyboard_event);\n",
       "    this.canvas_div = canvas_div\n",
       "    this._canvas_extra_style(canvas_div)\n",
       "    this.root.append(canvas_div);\n",
       "\n",
       "    var canvas = $('<canvas/>');\n",
       "    canvas.addClass('mpl-canvas');\n",
       "    canvas.attr('style', \"left: 0; top: 0; z-index: 0; outline: 0\")\n",
       "\n",
       "    this.canvas = canvas[0];\n",
       "    this.context = canvas[0].getContext(\"2d\");\n",
       "\n",
       "    var backingStore = this.context.backingStorePixelRatio ||\n",
       "\tthis.context.webkitBackingStorePixelRatio ||\n",
       "\tthis.context.mozBackingStorePixelRatio ||\n",
       "\tthis.context.msBackingStorePixelRatio ||\n",
       "\tthis.context.oBackingStorePixelRatio ||\n",
       "\tthis.context.backingStorePixelRatio || 1;\n",
       "\n",
       "    mpl.ratio = (window.devicePixelRatio || 1) / backingStore;\n",
       "\n",
       "    var rubberband = $('<canvas/>');\n",
       "    rubberband.attr('style', \"position: absolute; left: 0; top: 0; z-index: 1;\")\n",
       "\n",
       "    var pass_mouse_events = true;\n",
       "\n",
       "    canvas_div.resizable({\n",
       "        start: function(event, ui) {\n",
       "            pass_mouse_events = false;\n",
       "        },\n",
       "        resize: function(event, ui) {\n",
       "            fig.request_resize(ui.size.width, ui.size.height);\n",
       "        },\n",
       "        stop: function(event, ui) {\n",
       "            pass_mouse_events = true;\n",
       "            fig.request_resize(ui.size.width, ui.size.height);\n",
       "        },\n",
       "    });\n",
       "\n",
       "    function mouse_event_fn(event) {\n",
       "        if (pass_mouse_events)\n",
       "            return fig.mouse_event(event, event['data']);\n",
       "    }\n",
       "\n",
       "    rubberband.mousedown('button_press', mouse_event_fn);\n",
       "    rubberband.mouseup('button_release', mouse_event_fn);\n",
       "    // Throttle sequential mouse events to 1 every 20ms.\n",
       "    rubberband.mousemove('motion_notify', mouse_event_fn);\n",
       "\n",
       "    rubberband.mouseenter('figure_enter', mouse_event_fn);\n",
       "    rubberband.mouseleave('figure_leave', mouse_event_fn);\n",
       "\n",
       "    canvas_div.on(\"wheel\", function (event) {\n",
       "        event = event.originalEvent;\n",
       "        event['data'] = 'scroll'\n",
       "        if (event.deltaY < 0) {\n",
       "            event.step = 1;\n",
       "        } else {\n",
       "            event.step = -1;\n",
       "        }\n",
       "        mouse_event_fn(event);\n",
       "    });\n",
       "\n",
       "    canvas_div.append(canvas);\n",
       "    canvas_div.append(rubberband);\n",
       "\n",
       "    this.rubberband = rubberband;\n",
       "    this.rubberband_canvas = rubberband[0];\n",
       "    this.rubberband_context = rubberband[0].getContext(\"2d\");\n",
       "    this.rubberband_context.strokeStyle = \"#000000\";\n",
       "\n",
       "    this._resize_canvas = function(width, height) {\n",
       "        // Keep the size of the canvas, canvas container, and rubber band\n",
       "        // canvas in synch.\n",
       "        canvas_div.css('width', width)\n",
       "        canvas_div.css('height', height)\n",
       "\n",
       "        canvas.attr('width', width * mpl.ratio);\n",
       "        canvas.attr('height', height * mpl.ratio);\n",
       "        canvas.attr('style', 'width: ' + width + 'px; height: ' + height + 'px;');\n",
       "\n",
       "        rubberband.attr('width', width);\n",
       "        rubberband.attr('height', height);\n",
       "    }\n",
       "\n",
       "    // Set the figure to an initial 600x600px, this will subsequently be updated\n",
       "    // upon first draw.\n",
       "    this._resize_canvas(600, 600);\n",
       "\n",
       "    // Disable right mouse context menu.\n",
       "    $(this.rubberband_canvas).bind(\"contextmenu\",function(e){\n",
       "        return false;\n",
       "    });\n",
       "\n",
       "    function set_focus () {\n",
       "        canvas.focus();\n",
       "        canvas_div.focus();\n",
       "    }\n",
       "\n",
       "    window.setTimeout(set_focus, 100);\n",
       "}\n",
       "\n",
       "mpl.figure.prototype._init_toolbar = function() {\n",
       "    var fig = this;\n",
       "\n",
       "    var nav_element = $('<div/>')\n",
       "    nav_element.attr('style', 'width: 100%');\n",
       "    this.root.append(nav_element);\n",
       "\n",
       "    // Define a callback function for later on.\n",
       "    function toolbar_event(event) {\n",
       "        return fig.toolbar_button_onclick(event['data']);\n",
       "    }\n",
       "    function toolbar_mouse_event(event) {\n",
       "        return fig.toolbar_button_onmouseover(event['data']);\n",
       "    }\n",
       "\n",
       "    for(var toolbar_ind in mpl.toolbar_items) {\n",
       "        var name = mpl.toolbar_items[toolbar_ind][0];\n",
       "        var tooltip = mpl.toolbar_items[toolbar_ind][1];\n",
       "        var image = mpl.toolbar_items[toolbar_ind][2];\n",
       "        var method_name = mpl.toolbar_items[toolbar_ind][3];\n",
       "\n",
       "        if (!name) {\n",
       "            // put a spacer in here.\n",
       "            continue;\n",
       "        }\n",
       "        var button = $('<button/>');\n",
       "        button.addClass('ui-button ui-widget ui-state-default ui-corner-all ' +\n",
       "                        'ui-button-icon-only');\n",
       "        button.attr('role', 'button');\n",
       "        button.attr('aria-disabled', 'false');\n",
       "        button.click(method_name, toolbar_event);\n",
       "        button.mouseover(tooltip, toolbar_mouse_event);\n",
       "\n",
       "        var icon_img = $('<span/>');\n",
       "        icon_img.addClass('ui-button-icon-primary ui-icon');\n",
       "        icon_img.addClass(image);\n",
       "        icon_img.addClass('ui-corner-all');\n",
       "\n",
       "        var tooltip_span = $('<span/>');\n",
       "        tooltip_span.addClass('ui-button-text');\n",
       "        tooltip_span.html(tooltip);\n",
       "\n",
       "        button.append(icon_img);\n",
       "        button.append(tooltip_span);\n",
       "\n",
       "        nav_element.append(button);\n",
       "    }\n",
       "\n",
       "    var fmt_picker_span = $('<span/>');\n",
       "\n",
       "    var fmt_picker = $('<select/>');\n",
       "    fmt_picker.addClass('mpl-toolbar-option ui-widget ui-widget-content');\n",
       "    fmt_picker_span.append(fmt_picker);\n",
       "    nav_element.append(fmt_picker_span);\n",
       "    this.format_dropdown = fmt_picker[0];\n",
       "\n",
       "    for (var ind in mpl.extensions) {\n",
       "        var fmt = mpl.extensions[ind];\n",
       "        var option = $(\n",
       "            '<option/>', {selected: fmt === mpl.default_extension}).html(fmt);\n",
       "        fmt_picker.append(option)\n",
       "    }\n",
       "\n",
       "    // Add hover states to the ui-buttons\n",
       "    $( \".ui-button\" ).hover(\n",
       "        function() { $(this).addClass(\"ui-state-hover\");},\n",
       "        function() { $(this).removeClass(\"ui-state-hover\");}\n",
       "    );\n",
       "\n",
       "    var status_bar = $('<span class=\"mpl-message\"/>');\n",
       "    nav_element.append(status_bar);\n",
       "    this.message = status_bar[0];\n",
       "}\n",
       "\n",
       "mpl.figure.prototype.request_resize = function(x_pixels, y_pixels) {\n",
       "    // Request matplotlib to resize the figure. Matplotlib will then trigger a resize in the client,\n",
       "    // which will in turn request a refresh of the image.\n",
       "    this.send_message('resize', {'width': x_pixels, 'height': y_pixels});\n",
       "}\n",
       "\n",
       "mpl.figure.prototype.send_message = function(type, properties) {\n",
       "    properties['type'] = type;\n",
       "    properties['figure_id'] = this.id;\n",
       "    this.ws.send(JSON.stringify(properties));\n",
       "}\n",
       "\n",
       "mpl.figure.prototype.send_draw_message = function() {\n",
       "    if (!this.waiting) {\n",
       "        this.waiting = true;\n",
       "        this.ws.send(JSON.stringify({type: \"draw\", figure_id: this.id}));\n",
       "    }\n",
       "}\n",
       "\n",
       "\n",
       "mpl.figure.prototype.handle_save = function(fig, msg) {\n",
       "    var format_dropdown = fig.format_dropdown;\n",
       "    var format = format_dropdown.options[format_dropdown.selectedIndex].value;\n",
       "    fig.ondownload(fig, format);\n",
       "}\n",
       "\n",
       "\n",
       "mpl.figure.prototype.handle_resize = function(fig, msg) {\n",
       "    var size = msg['size'];\n",
       "    if (size[0] != fig.canvas.width || size[1] != fig.canvas.height) {\n",
       "        fig._resize_canvas(size[0], size[1]);\n",
       "        fig.send_message(\"refresh\", {});\n",
       "    };\n",
       "}\n",
       "\n",
       "mpl.figure.prototype.handle_rubberband = function(fig, msg) {\n",
       "    var x0 = msg['x0'] / mpl.ratio;\n",
       "    var y0 = (fig.canvas.height - msg['y0']) / mpl.ratio;\n",
       "    var x1 = msg['x1'] / mpl.ratio;\n",
       "    var y1 = (fig.canvas.height - msg['y1']) / mpl.ratio;\n",
       "    x0 = Math.floor(x0) + 0.5;\n",
       "    y0 = Math.floor(y0) + 0.5;\n",
       "    x1 = Math.floor(x1) + 0.5;\n",
       "    y1 = Math.floor(y1) + 0.5;\n",
       "    var min_x = Math.min(x0, x1);\n",
       "    var min_y = Math.min(y0, y1);\n",
       "    var width = Math.abs(x1 - x0);\n",
       "    var height = Math.abs(y1 - y0);\n",
       "\n",
       "    fig.rubberband_context.clearRect(\n",
       "        0, 0, fig.canvas.width, fig.canvas.height);\n",
       "\n",
       "    fig.rubberband_context.strokeRect(min_x, min_y, width, height);\n",
       "}\n",
       "\n",
       "mpl.figure.prototype.handle_figure_label = function(fig, msg) {\n",
       "    // Updates the figure title.\n",
       "    fig.header.textContent = msg['label'];\n",
       "}\n",
       "\n",
       "mpl.figure.prototype.handle_cursor = function(fig, msg) {\n",
       "    var cursor = msg['cursor'];\n",
       "    switch(cursor)\n",
       "    {\n",
       "    case 0:\n",
       "        cursor = 'pointer';\n",
       "        break;\n",
       "    case 1:\n",
       "        cursor = 'default';\n",
       "        break;\n",
       "    case 2:\n",
       "        cursor = 'crosshair';\n",
       "        break;\n",
       "    case 3:\n",
       "        cursor = 'move';\n",
       "        break;\n",
       "    }\n",
       "    fig.rubberband_canvas.style.cursor = cursor;\n",
       "}\n",
       "\n",
       "mpl.figure.prototype.handle_message = function(fig, msg) {\n",
       "    fig.message.textContent = msg['message'];\n",
       "}\n",
       "\n",
       "mpl.figure.prototype.handle_draw = function(fig, msg) {\n",
       "    // Request the server to send over a new figure.\n",
       "    fig.send_draw_message();\n",
       "}\n",
       "\n",
       "mpl.figure.prototype.handle_image_mode = function(fig, msg) {\n",
       "    fig.image_mode = msg['mode'];\n",
       "}\n",
       "\n",
       "mpl.figure.prototype.updated_canvas_event = function() {\n",
       "    // Called whenever the canvas gets updated.\n",
       "    this.send_message(\"ack\", {});\n",
       "}\n",
       "\n",
       "// A function to construct a web socket function for onmessage handling.\n",
       "// Called in the figure constructor.\n",
       "mpl.figure.prototype._make_on_message_function = function(fig) {\n",
       "    return function socket_on_message(evt) {\n",
       "        if (evt.data instanceof Blob) {\n",
       "            /* FIXME: We get \"Resource interpreted as Image but\n",
       "             * transferred with MIME type text/plain:\" errors on\n",
       "             * Chrome.  But how to set the MIME type?  It doesn't seem\n",
       "             * to be part of the websocket stream */\n",
       "            evt.data.type = \"image/png\";\n",
       "\n",
       "            /* Free the memory for the previous frames */\n",
       "            if (fig.imageObj.src) {\n",
       "                (window.URL || window.webkitURL).revokeObjectURL(\n",
       "                    fig.imageObj.src);\n",
       "            }\n",
       "\n",
       "            fig.imageObj.src = (window.URL || window.webkitURL).createObjectURL(\n",
       "                evt.data);\n",
       "            fig.updated_canvas_event();\n",
       "            fig.waiting = false;\n",
       "            return;\n",
       "        }\n",
       "        else if (typeof evt.data === 'string' && evt.data.slice(0, 21) == \"data:image/png;base64\") {\n",
       "            fig.imageObj.src = evt.data;\n",
       "            fig.updated_canvas_event();\n",
       "            fig.waiting = false;\n",
       "            return;\n",
       "        }\n",
       "\n",
       "        var msg = JSON.parse(evt.data);\n",
       "        var msg_type = msg['type'];\n",
       "\n",
       "        // Call the  \"handle_{type}\" callback, which takes\n",
       "        // the figure and JSON message as its only arguments.\n",
       "        try {\n",
       "            var callback = fig[\"handle_\" + msg_type];\n",
       "        } catch (e) {\n",
       "            console.log(\"No handler for the '\" + msg_type + \"' message type: \", msg);\n",
       "            return;\n",
       "        }\n",
       "\n",
       "        if (callback) {\n",
       "            try {\n",
       "                // console.log(\"Handling '\" + msg_type + \"' message: \", msg);\n",
       "                callback(fig, msg);\n",
       "            } catch (e) {\n",
       "                console.log(\"Exception inside the 'handler_\" + msg_type + \"' callback:\", e, e.stack, msg);\n",
       "            }\n",
       "        }\n",
       "    };\n",
       "}\n",
       "\n",
       "// from http://stackoverflow.com/questions/1114465/getting-mouse-location-in-canvas\n",
       "mpl.findpos = function(e) {\n",
       "    //this section is from http://www.quirksmode.org/js/events_properties.html\n",
       "    var targ;\n",
       "    if (!e)\n",
       "        e = window.event;\n",
       "    if (e.target)\n",
       "        targ = e.target;\n",
       "    else if (e.srcElement)\n",
       "        targ = e.srcElement;\n",
       "    if (targ.nodeType == 3) // defeat Safari bug\n",
       "        targ = targ.parentNode;\n",
       "\n",
       "    // jQuery normalizes the pageX and pageY\n",
       "    // pageX,Y are the mouse positions relative to the document\n",
       "    // offset() returns the position of the element relative to the document\n",
       "    var x = e.pageX - $(targ).offset().left;\n",
       "    var y = e.pageY - $(targ).offset().top;\n",
       "\n",
       "    return {\"x\": x, \"y\": y};\n",
       "};\n",
       "\n",
       "/*\n",
       " * return a copy of an object with only non-object keys\n",
       " * we need this to avoid circular references\n",
       " * http://stackoverflow.com/a/24161582/3208463\n",
       " */\n",
       "function simpleKeys (original) {\n",
       "  return Object.keys(original).reduce(function (obj, key) {\n",
       "    if (typeof original[key] !== 'object')\n",
       "        obj[key] = original[key]\n",
       "    return obj;\n",
       "  }, {});\n",
       "}\n",
       "\n",
       "mpl.figure.prototype.mouse_event = function(event, name) {\n",
       "    var canvas_pos = mpl.findpos(event)\n",
       "\n",
       "    if (name === 'button_press')\n",
       "    {\n",
       "        this.canvas.focus();\n",
       "        this.canvas_div.focus();\n",
       "    }\n",
       "\n",
       "    var x = canvas_pos.x * mpl.ratio;\n",
       "    var y = canvas_pos.y * mpl.ratio;\n",
       "\n",
       "    this.send_message(name, {x: x, y: y, button: event.button,\n",
       "                             step: event.step,\n",
       "                             guiEvent: simpleKeys(event)});\n",
       "\n",
       "    /* This prevents the web browser from automatically changing to\n",
       "     * the text insertion cursor when the button is pressed.  We want\n",
       "     * to control all of the cursor setting manually through the\n",
       "     * 'cursor' event from matplotlib */\n",
       "    event.preventDefault();\n",
       "    return false;\n",
       "}\n",
       "\n",
       "mpl.figure.prototype._key_event_extra = function(event, name) {\n",
       "    // Handle any extra behaviour associated with a key event\n",
       "}\n",
       "\n",
       "mpl.figure.prototype.key_event = function(event, name) {\n",
       "\n",
       "    // Prevent repeat events\n",
       "    if (name == 'key_press')\n",
       "    {\n",
       "        if (event.which === this._key)\n",
       "            return;\n",
       "        else\n",
       "            this._key = event.which;\n",
       "    }\n",
       "    if (name == 'key_release')\n",
       "        this._key = null;\n",
       "\n",
       "    var value = '';\n",
       "    if (event.ctrlKey && event.which != 17)\n",
       "        value += \"ctrl+\";\n",
       "    if (event.altKey && event.which != 18)\n",
       "        value += \"alt+\";\n",
       "    if (event.shiftKey && event.which != 16)\n",
       "        value += \"shift+\";\n",
       "\n",
       "    value += 'k';\n",
       "    value += event.which.toString();\n",
       "\n",
       "    this._key_event_extra(event, name);\n",
       "\n",
       "    this.send_message(name, {key: value,\n",
       "                             guiEvent: simpleKeys(event)});\n",
       "    return false;\n",
       "}\n",
       "\n",
       "mpl.figure.prototype.toolbar_button_onclick = function(name) {\n",
       "    if (name == 'download') {\n",
       "        this.handle_save(this, null);\n",
       "    } else {\n",
       "        this.send_message(\"toolbar_button\", {name: name});\n",
       "    }\n",
       "};\n",
       "\n",
       "mpl.figure.prototype.toolbar_button_onmouseover = function(tooltip) {\n",
       "    this.message.textContent = tooltip;\n",
       "};\n",
       "mpl.toolbar_items = [[\"Home\", \"Reset original view\", \"fa fa-home icon-home\", \"home\"], [\"Back\", \"Back to  previous view\", \"fa fa-arrow-left icon-arrow-left\", \"back\"], [\"Forward\", \"Forward to next view\", \"fa fa-arrow-right icon-arrow-right\", \"forward\"], [\"\", \"\", \"\", \"\"], [\"Pan\", \"Pan axes with left mouse, zoom with right\", \"fa fa-arrows icon-move\", \"pan\"], [\"Zoom\", \"Zoom to rectangle\", \"fa fa-square-o icon-check-empty\", \"zoom\"], [\"\", \"\", \"\", \"\"], [\"Download\", \"Download plot\", \"fa fa-floppy-o icon-save\", \"download\"]];\n",
       "\n",
       "mpl.extensions = [\"eps\", \"jpeg\", \"pdf\", \"png\", \"ps\", \"raw\", \"svg\", \"tif\"];\n",
       "\n",
       "mpl.default_extension = \"png\";var comm_websocket_adapter = function(comm) {\n",
       "    // Create a \"websocket\"-like object which calls the given IPython comm\n",
       "    // object with the appropriate methods. Currently this is a non binary\n",
       "    // socket, so there is still some room for performance tuning.\n",
       "    var ws = {};\n",
       "\n",
       "    ws.close = function() {\n",
       "        comm.close()\n",
       "    };\n",
       "    ws.send = function(m) {\n",
       "        //console.log('sending', m);\n",
       "        comm.send(m);\n",
       "    };\n",
       "    // Register the callback with on_msg.\n",
       "    comm.on_msg(function(msg) {\n",
       "        //console.log('receiving', msg['content']['data'], msg);\n",
       "        // Pass the mpl event to the overriden (by mpl) onmessage function.\n",
       "        ws.onmessage(msg['content']['data'])\n",
       "    });\n",
       "    return ws;\n",
       "}\n",
       "\n",
       "mpl.mpl_figure_comm = function(comm, msg) {\n",
       "    // This is the function which gets called when the mpl process\n",
       "    // starts-up an IPython Comm through the \"matplotlib\" channel.\n",
       "\n",
       "    var id = msg.content.data.id;\n",
       "    // Get hold of the div created by the display call when the Comm\n",
       "    // socket was opened in Python.\n",
       "    var element = $(\"#\" + id);\n",
       "    var ws_proxy = comm_websocket_adapter(comm)\n",
       "\n",
       "    function ondownload(figure, format) {\n",
       "        window.open(figure.imageObj.src);\n",
       "    }\n",
       "\n",
       "    var fig = new mpl.figure(id, ws_proxy,\n",
       "                           ondownload,\n",
       "                           element.get(0));\n",
       "\n",
       "    // Call onopen now - mpl needs it, as it is assuming we've passed it a real\n",
       "    // web socket which is closed, not our websocket->open comm proxy.\n",
       "    ws_proxy.onopen();\n",
       "\n",
       "    fig.parent_element = element.get(0);\n",
       "    fig.cell_info = mpl.find_output_cell(\"<div id='\" + id + \"'></div>\");\n",
       "    if (!fig.cell_info) {\n",
       "        console.error(\"Failed to find cell for figure\", id, fig);\n",
       "        return;\n",
       "    }\n",
       "\n",
       "    var output_index = fig.cell_info[2]\n",
       "    var cell = fig.cell_info[0];\n",
       "\n",
       "};\n",
       "\n",
       "mpl.figure.prototype.handle_close = function(fig, msg) {\n",
       "    var width = fig.canvas.width/mpl.ratio\n",
       "    fig.root.unbind('remove')\n",
       "\n",
       "    // Update the output cell to use the data from the current canvas.\n",
       "    fig.push_to_output();\n",
       "    var dataURL = fig.canvas.toDataURL();\n",
       "    // Re-enable the keyboard manager in IPython - without this line, in FF,\n",
       "    // the notebook keyboard shortcuts fail.\n",
       "    IPython.keyboard_manager.enable()\n",
       "    $(fig.parent_element).html('<img src=\"' + dataURL + '\" width=\"' + width + '\">');\n",
       "    fig.close_ws(fig, msg);\n",
       "}\n",
       "\n",
       "mpl.figure.prototype.close_ws = function(fig, msg){\n",
       "    fig.send_message('closing', msg);\n",
       "    // fig.ws.close()\n",
       "}\n",
       "\n",
       "mpl.figure.prototype.push_to_output = function(remove_interactive) {\n",
       "    // Turn the data on the canvas into data in the output cell.\n",
       "    var width = this.canvas.width/mpl.ratio\n",
       "    var dataURL = this.canvas.toDataURL();\n",
       "    this.cell_info[1]['text/html'] = '<img src=\"' + dataURL + '\" width=\"' + width + '\">';\n",
       "}\n",
       "\n",
       "mpl.figure.prototype.updated_canvas_event = function() {\n",
       "    // Tell IPython that the notebook contents must change.\n",
       "    IPython.notebook.set_dirty(true);\n",
       "    this.send_message(\"ack\", {});\n",
       "    var fig = this;\n",
       "    // Wait a second, then push the new image to the DOM so\n",
       "    // that it is saved nicely (might be nice to debounce this).\n",
       "    setTimeout(function () { fig.push_to_output() }, 1000);\n",
       "}\n",
       "\n",
       "mpl.figure.prototype._init_toolbar = function() {\n",
       "    var fig = this;\n",
       "\n",
       "    var nav_element = $('<div/>')\n",
       "    nav_element.attr('style', 'width: 100%');\n",
       "    this.root.append(nav_element);\n",
       "\n",
       "    // Define a callback function for later on.\n",
       "    function toolbar_event(event) {\n",
       "        return fig.toolbar_button_onclick(event['data']);\n",
       "    }\n",
       "    function toolbar_mouse_event(event) {\n",
       "        return fig.toolbar_button_onmouseover(event['data']);\n",
       "    }\n",
       "\n",
       "    for(var toolbar_ind in mpl.toolbar_items){\n",
       "        var name = mpl.toolbar_items[toolbar_ind][0];\n",
       "        var tooltip = mpl.toolbar_items[toolbar_ind][1];\n",
       "        var image = mpl.toolbar_items[toolbar_ind][2];\n",
       "        var method_name = mpl.toolbar_items[toolbar_ind][3];\n",
       "\n",
       "        if (!name) { continue; };\n",
       "\n",
       "        var button = $('<button class=\"btn btn-default\" href=\"#\" title=\"' + name + '\"><i class=\"fa ' + image + ' fa-lg\"></i></button>');\n",
       "        button.click(method_name, toolbar_event);\n",
       "        button.mouseover(tooltip, toolbar_mouse_event);\n",
       "        nav_element.append(button);\n",
       "    }\n",
       "\n",
       "    // Add the status bar.\n",
       "    var status_bar = $('<span class=\"mpl-message\" style=\"text-align:right; float: right;\"/>');\n",
       "    nav_element.append(status_bar);\n",
       "    this.message = status_bar[0];\n",
       "\n",
       "    // Add the close button to the window.\n",
       "    var buttongrp = $('<div class=\"btn-group inline pull-right\"></div>');\n",
       "    var button = $('<button class=\"btn btn-mini btn-primary\" href=\"#\" title=\"Stop Interaction\"><i class=\"fa fa-power-off icon-remove icon-large\"></i></button>');\n",
       "    button.click(function (evt) { fig.handle_close(fig, {}); } );\n",
       "    button.mouseover('Stop Interaction', toolbar_mouse_event);\n",
       "    buttongrp.append(button);\n",
       "    var titlebar = this.root.find($('.ui-dialog-titlebar'));\n",
       "    titlebar.prepend(buttongrp);\n",
       "}\n",
       "\n",
       "mpl.figure.prototype._root_extra_style = function(el){\n",
       "    var fig = this\n",
       "    el.on(\"remove\", function(){\n",
       "\tfig.close_ws(fig, {});\n",
       "    });\n",
       "}\n",
       "\n",
       "mpl.figure.prototype._canvas_extra_style = function(el){\n",
       "    // this is important to make the div 'focusable\n",
       "    el.attr('tabindex', 0)\n",
       "    // reach out to IPython and tell the keyboard manager to turn it's self\n",
       "    // off when our div gets focus\n",
       "\n",
       "    // location in version 3\n",
       "    if (IPython.notebook.keyboard_manager) {\n",
       "        IPython.notebook.keyboard_manager.register_events(el);\n",
       "    }\n",
       "    else {\n",
       "        // location in version 2\n",
       "        IPython.keyboard_manager.register_events(el);\n",
       "    }\n",
       "\n",
       "}\n",
       "\n",
       "mpl.figure.prototype._key_event_extra = function(event, name) {\n",
       "    var manager = IPython.notebook.keyboard_manager;\n",
       "    if (!manager)\n",
       "        manager = IPython.keyboard_manager;\n",
       "\n",
       "    // Check for shift+enter\n",
       "    if (event.shiftKey && event.which == 13) {\n",
       "        this.canvas_div.blur();\n",
       "        // select the cell after this one\n",
       "        var index = IPython.notebook.find_cell_index(this.cell_info[0]);\n",
       "        IPython.notebook.select(index + 1);\n",
       "    }\n",
       "}\n",
       "\n",
       "mpl.figure.prototype.handle_save = function(fig, msg) {\n",
       "    fig.ondownload(fig, null);\n",
       "}\n",
       "\n",
       "\n",
       "mpl.find_output_cell = function(html_output) {\n",
       "    // Return the cell and output element which can be found *uniquely* in the notebook.\n",
       "    // Note - this is a bit hacky, but it is done because the \"notebook_saving.Notebook\"\n",
       "    // IPython event is triggered only after the cells have been serialised, which for\n",
       "    // our purposes (turning an active figure into a static one), is too late.\n",
       "    var cells = IPython.notebook.get_cells();\n",
       "    var ncells = cells.length;\n",
       "    for (var i=0; i<ncells; i++) {\n",
       "        var cell = cells[i];\n",
       "        if (cell.cell_type === 'code'){\n",
       "            for (var j=0; j<cell.output_area.outputs.length; j++) {\n",
       "                var data = cell.output_area.outputs[j];\n",
       "                if (data.data) {\n",
       "                    // IPython >= 3 moved mimebundle to data attribute of output\n",
       "                    data = data.data;\n",
       "                }\n",
       "                if (data['text/html'] == html_output) {\n",
       "                    return [cell, data, j];\n",
       "                }\n",
       "            }\n",
       "        }\n",
       "    }\n",
       "}\n",
       "\n",
       "// Register the function which deals with the matplotlib target/channel.\n",
       "// The kernel may be null if the page has been refreshed.\n",
       "if (IPython.notebook.kernel != null) {\n",
       "    IPython.notebook.kernel.comm_manager.register_target('matplotlib', mpl.mpl_figure_comm);\n",
       "}\n"
      ],
      "text/plain": [
       "<IPython.core.display.Javascript object>"
      ]
     },
     "metadata": {},
     "output_type": "display_data"
    },
    {
     "data": {
      "text/html": [
       "<img src=\"data:image/png;base64,iVBORw0KGgoAAAANSUhEUgAAAoAAAAKACAYAAAAMzckjAAAgAElEQVR4Xuydd7xkRdGGh2UlCCKwklGWsLLksOScBESSBFEQEAQ/FJCs5AyCIgISJEqUHAREgoJKEpSc2SUnBZaMguwu36/r8szt6T1zuk+Yu/fOfeefnjNzQtdb1X2q366unqyhjxAQAkJACAgBISAEhMCgQmCyQSWthBUCQkAICAEhIASEgBBoyAGUEQgBISAEhIAQEAJCYJAhIAdwkClc4goBISAEhIAQEAJCQA6gbEAICAEhIASEgBAQAoMMATmAg0zhElcICAEhIASEgBAQAnIAZQNCQAgIASEgBISAEBhkCMgBHGQKl7hCQAgIASEgBISAEJADKBsQAkJACAgBISAEhMAgQ0AO4CBTuMQVAkJACAgBISAEhIAcQNmAEBACQkAICAEhIAQGGQJyAAeZwiWuEBACQkAICAEhIATkAMoGhIAQEAJCQAgIASEwyBCQAzjIFC5xhYAQEAJCQAgIASEgB1A2IASEgBAQAkJACAiBQYaAHMBBpnCJKwSEgBAQAkJACAgBOYCyASEgBISAEBACQkAIDDIE5AAOMoVLXCEgBISAEBACQkAIyAGUDQgBISAEhIAQEAJCYJAhIAdwkClc4goBISAEhIAQEAJCQA6gbEAICAEhIASEgBAQAoMMATmAg0zhElcICAEhIASEgBAQAnIAZQNCQAgIASEgBISAEBhkCMgBHGQKl7hCQAgIASEgBISAEJADKBsQAkJACAgBISAEhMAgQ0AO4CBTuMQVAkJACAgBISAEhIAcQNmAEBACQkAICAEhIAQGGQJyAAeZwiWuEBACQkAICAEhIATkAMoGhIAQEAJCQAgIASEwyBCQAzjIFC5xhYAQEAJCQAgIASEgB1A2IASEgBAQAkJACAiBQYaAHMBBpnCJKwSEgBAQAkJACAgBOYCyASEgBISAEBACQkAIDDIE5AAOMoVLXCEgBISAEBACQkAIyAGUDQgBISAEhIAQEAJCYJAhIAdwkClc4goBISAEhIAQEAJCQA6gbEAICAEhIASEgBAQAoMMATmAg0zhElcICAEhIASEgBAQAnIAZQNCQAgIASEgBISAEBhkCMgBHGQKl7hCQAgIASEgBISAEJADKBsQAkJACAgBISAEhMAgQ0AO4CBTuMQVAkJACAgBISAEhIAcQNmAEBACQkAICAEhIAQGGQJyAAeZwiWuEBACQkAICAEhIATkAMoGhIAQEAJCQAgIASEwyBCQAzjIFC5xhYAQEAJCQAgIASEgB1A2IASEgBAQAkJACAiBQYaAHMBBpnCJKwSEgBAQAkJACAgBOYCyASEgBISAEBACQkAIDDIE5AAOMoVLXCEgBISAEBACQkAIyAGUDQgBISAEhIAQEAJCYJAhIAdwkClc4goBISAEhIAQEAJCQA6gbEAICAEhIASEgBAQAoMMATmAg0zhElcICAEhIASEgBAQAnIAZQNCQAgIASEgBISAEBhkCMgBHGQKl7hCQAgIASEgBISAEJADKBsQAkJACAgBISAEhMAgQ0AO4CBTuMQVAkJACAgBISAEhIAcQNmAEBACQkAICAEhIAQGGQJyAAeZwiWuEBACQkAICAEhIATkAMoGhIAQEAJCQAgIASEwyBCQAzjIFC5xhYAQEAJCQAgIASEgB1A2IASEgBAQAkJACAiBQYaAHMBBpnCJKwSEgBAQAkJACAgBOYCyASEgBISAEBACQkAIDDIE5AAOMoVLXCEgBISAEBACQkAIyAGUDQgBISAEhIAQEAJCYJAhIAdwkClc4goBISAEhIAQEAJCQA6gbEAICAEhIASEgBAQAoMMATmAg0zhElcICAEhIASEgBAQAnIAZQNCQAgIASEgBISAEBhkCMgBHGQKl7hCQAgIASEgBISAEJADKBsQAkJACAgBISAEhMAgQ0AO4CBTuMQVAkJACAgBISAEhIAcQNmAEBACQkAICAEhIAQGGQJyAAeZwiWuEBACQkAICAEhIATkAFawgQUWWGDYuHHj1pl88smfHzdu3EcVbtXRS4cOHTrV+PHjhw8dOvSmJ554Ymz4sG6Rw8nVLbJ0ixzSSUebdubNY+1dOpFOqiAQs69u6ruq4DQQrpUDWEFLI0aM2HKyySa7qMIt+vTSTz/9dKvRo0f/Lnxot8jh5OoWWbpFDumkT5t4y8PatXfpRDqpA4HB8D6pA6f+fA85gBW0M3LkyBUmTJhw55FHHtmYe+65K9yps5c+99xzjQMPPLAxZMiQFZ988sm7wqchx+GHH94YPnx4ZytT4e7PP/984+CDD24rh7s1shx22GH9XpZDDjkkqpOjjjqq39vWAQcckKSTI444ot/r5KCDDorq5Oijj+73Otl///2TddLf+64UnQz0PtjvuwZ6m++W92KFV9WAuVQOYAVVzTfffEsOGTLkvosuushNPVa4U2cvfeKJJxpbbbVVY8KECaPGjBlzf/g05Dj//POdA9XZylS4+5NPPtnYZptt2srhbo0s5513Xr+XZdttt43q5He/+10h2xoyZIghPNlk2U2b/0M1fPrpp/bT+PHjreQ4pi5nW1tuuWWSTi644IJ+r5Ott946qpOLL764kE5iGNb9v9PJd77znSSdXHjhhR2VJbRH7CtVZifLd7/73ahO6u6DqXfYXoq2D+SM9cF+31W0zadiWdd5sTbfLe/FuvDqz/eRA1hBO91i6HIAKxhByUudMysHsCR4HbrM6UQOYL3gygHswVMOYL12VcfdUnRSx3P68z3kAFbQTqccwKFDh1qtppxySiv/97//WfnJJ5+Uqm3M0OUAxmH93Oc+ZydRwrDBlHH83//+t3kz2IIsNq5OB9C/P8+n5D9s529/+5vVj7pNmDDBjmeeeWYrV1555Rbbcweck4VSjA1w12BfYgDjdpZ1Bk7U5JNP3vybPoIfPvqoZw2as8f+wACG7eHDDz+0+s0000xW5tmUj0GnGUBwnGKKKeyx48aNsxI8b7nlFjs+55xzrDzmmGOsnG+++VraUUyzsT7YbydiAGNo5v/v94e8Q7P65xSdVKtJ/79aDmAFHckBrABeiUsn5RSwHMBshckBLGHIBS+RA9i5KWA5gAWN8TM2My/so1PvxdSaygFMRarRkAOYjtVEZ9Zt6HRGzzzzjD0LtmallVYqNeqkwrGRTp0MICwFI2peXjBllDBSjLhT1NCXDiBy0Jk8/PDDVsV//OMfVr733ntWTjPNNFbCaGy88cZNUWA7suLp6mQAp5566uYzzzjjDPt+9tlnW4lNUb+HHnqopb78Puecc9rvXL/66qs37wkDnaWjSeEAopMwPovffabM1Tkr7tFnzJBrUk8BU39K2hC29tJLLzVV8Pjjj7focf3112/q2+nk29/+9iSNAaTubmGZ+7z11ltWnnrqqVZ+8MEHKU3e2MxOxABiIy+88ILV484777Ty1VdftXLMmDFW/vWvf7XyzTfftPJnP/uZlTvvvLOV//nPf5LlyIvDdjehHxYDmATpRCehU38W5u9//7ud9/bbb1tJO3Hnxt6L5WoxsK6SA1hBX3IAJwZPDqAcwNAq6p4ClgPYaMgB7LGysn2wHMDyL77YoK+sTsrXqOdKOYDFEZQDWByz5hV1GXrIXOy99972jJNPPrll1OJWtroPjE+ROJpOrQIO49vuvvtuq+Npp51mJSPsL3zhC3YM07TddtvZ8fLLL29lyurATjKAyAFj9sADD1i9zjrrLCtff/11K6eaaiorF198cSsXXHBBK2HOOHa/uXQO7pMVu1knA/j5z3++aZMuHYb/7NC2qD/MKyUsH6vAf/vb3zbvudBCC7XVUexl4C6s6gDCJsGkfvzxxy22hQyM8h988EH7H9kfeeSRpiywA8cee6z9Bkvr7K+vGcBwapf2PHZsT652xwS5z1/+8hcrX3zxxaYcTz/9tH1fdtllrbzpppusdPeYlDGAyARrSf023HBDq9+vf/1rKycFA+gzwy41lvv8+Mc/thKmDxubdtpp7fdlllnGSmyI2Zjf/OY39rvPvsdiZfsbAxj2eX5cKW0qq++Ktfmq78Wwz4qtvKbe7777runEpZvic8UVV9hXZjTop90zxABqCrhpKGW+VDV0nikHUA5gaH9FpoPkAPYE7ssBlAOY14/LAWxFRw5gfnq0Mj7BQLtGDGAFjdXlADJqfuedd6w2m2yyiZXEa8GewUZ9/etft/9hQmIixEY6dcYAwiQxwueYlzOxadddd13LyBtm0P3YLi6wkwwgGMK6wGC6+CP3celB3AcGjdVlMAAwGzAJ7lyXV7GdPHUygD4Liw0xGoYpmnHGGa0uc801l5Uuua77uJW57kMs43rrrWfHJ5xwQtOspp9+evuexXDE2AB3XVkGkJH9Y489Zs8nnofYWLCmHcBWwBjAHLLC2d1j/vnnt3uh3y996Ut23JcMIPUifozYvksvvdTqcskll1gJ40e8InX9DFM7x+X7c58f/vCHTVublAwgst17771WH9rPiSeeaMf0XXlxpU3D+2zBQV0xgD7DBUvMql76pxEjRtjj6YPXWGMNO/7pT39q5ZVXXmklulp66aWb1Y3FyvY1AxjOzuAAg0Nof8SeO4HoJ+add15fHfY91uarvhdpxzDhsPTUG5YWedDdHnvsYfW79tprm3VmNm3PPfe03/zZhNh7cSLBu/AHOYAVlFrV0Hm0HMDeqWGHiRzAYgHhcgB7poTlAPa0HTmA2Z26HMCeNEJyAHvTJcWc8gruwYC4VA5gBTXJAZwYPDGAPasG3UcMYA8OYgBb24kYwN7cprHut85VwHIA5QCKAWxtcXIAYz1Qzv91OYBMJ5Iiwe3b63+YZiTweIMNNrC/++MUcJjKAjmQ8frrr7effvWrX1l5zTXXWEnDdN/bBVPXPQXsvxCYdmOKmsUUK664otWPOoWJn3F4SXex0UYbNVW35JJL2vesBS51TgH7thKukEVGpkuYHmFK66mnnrLLWejBFLi/tWFsaqvOreB8O7j//p5dC7///e9b6TBzH6bpZp11VjuebrrprJxjjjmsnGGGGawkWe+iiy7ahIh9b7MWUnV6EQjhA3fccUdLGyDlyOjRo+13dLXIIovYMQsPVl111aYco0aNsu9MC/us+aRgAJnFoJ3ssssuVj9CEG677TY7LprMvk4H0G8n4YpRbPyLX/yinRbuYOL2VnYft+Wc+1x22WVWLrfccs3b5vXHKdONeXG/tON2Wzz6stHfhPVhQd59991npzNNz4K3e+65p3mb3Xbbzb6T9oY/SDTeiTyAyPjss8/a46iD2//dfViQg63Tnn75y1/a/z/5yU+s3HHHHZtyHH/88fade/t9cYpOfFy78bscwApalQM4MXhyAOUAhlZRhAGUAygH0LcfOYA9aMgBlANYwVVpe6kcwAqo1uUAsorT7Q3rPpdffnlLo1944YXtmNQcw4cPt+OU1CnuvNhIp85FIO3gpAP7xje+Yaew5dghhxxix2wVlaeOuhhARv8kfXXP/NGPfmSPhrn45je/acfkW7vxxhvtmHQQJIYlQJ/yzDPPbIow++yz2/csRrNTDCAPB2+YDdKE7LrrrnYK9SfdhUsc7D6kUGBRSLv685xYQLg7L8UBhHHx2UYYAJiK/fbbzx4LIwarjKyweuFWin47gT1op5NO7AUcJnZGLhh/mA2Y/aWWWsrkpN0PGzbMjpHXfQenrD5gUjCAOO4sXIMJZzZjhx12MBlSF3/49lXXIpCsviUcsIZ2wf8sIrjhhhvsNswYdGoRCOmkYPHo++l/YLldXRZbbDGrk9O7+7CoCPaVvomFeSz+ICUSOqFduXsccMABdi8YTh+XWJsv+16k3dIufv7zn1sdYF15Z6BHUryQyocUVoTeuPPog7PiymPvxSx76bbf5ABW0GhZQw8fKQdQDmBoE0XSwGSZsBzAXodJDuDEFoJ9XXjhhQ1/ur9sdygHMN+5TXE2/DYvB7DRkANYtjWmXycHMB2ric7stAMIU0WKEVKRpMb++aPoTiWCZo9cGJyQkeB/4kxgmhhJf/nLX7ZqprCZdTGAMCm33357U6fE8IE1iWx33313O4e0EcTKkZqH37/2ta/ZeWwa774je6e3gvMNkxfxG2+8YT8feuihVsIqkx4GVmmfffax/7fffnsrw63tYs0jxga461MYQHRCqhd3Hak4iOkhZQf2z6g+xDfcdjAmA/93KgYQnZA6BFYMVokULqEcsC5h/GlMnr5kAMNccr/4xS+sery8iTf7yle+Yr/3lxjAGIYMoIjLhJ0lrpSUXLPMMkvzVnl9WFEHkH4G1o5+iJjprPqHdkIqF+IaYcPos+gLYPlIXO/uTfxpFmMba/NF3os+q016py222MLEW2KJJaxkAwTiXYlV3Hzzze1/+mL63jrjMmN2MtD/lwNYQYNFDD3vMe0YQDmArajJAYwbqxzAnhQP7pPleOchKAcwbl/hGXIA5QCGNlHkvSgHsHibq/MKOYAV0Cxi6FmPofMkdmmbbbax04gvgR27+uqr7XdiHNrlyWsnSmz0WTQG0F89S91YyUg80/vvv99SHdgbVmzefPPN9j/xKSlqqMsBhK30n80IG8aC+JhXXnnFqoZjhQ6oL3KzuvRPf/pTUxQ6t04zgH4nSnLkU045xerBql9WzLGq+Qc/+IH9T1wNo+jU7QURMsYGuPNSGEDq5+NHHBnMBeyxW4HoPl/96letpM4pLHJfOYDYmHse2wjCEq+wwgpWDVacw7IUxT6vvbsE0RMmTBg1ZsyYnqXUwaeuKWDkJK5srbXWaumrTj/9dDuGDS8qY6cWgYR4hI4sfSyMJv0Xia2ZKfDlyRtwxPpgv524lfhMy1Mv4pV///vfW9X9bQHBFoYM5oxjErmzpSDxfcSSZ21jGVvRXHUVcLji18nELASxjGS9YCYANpR4bfo6ZjeImfXbnr/7S6jzFJ3k9Rfd8J8cwApalAPYaMgBHGMWJAcw7my4XUdCB5rmJwewffqjol1UX04BywGc0FSPHMAeKFLei3IAi7bqzpwvB7ACrimGnnV7RnWM3O6880477f/+7/+sJP5stdVWs2NyGbHyqyjTERvppDKAjKaIHXF123nnna2O//znP62cbbbZrGTLLZglRnPIuvjii9t5RWKC6mIAwf3WW29tqof4EUbesEswgYz4yQ/ICBnmA3mIEXI3znshVFkFHO4dTbyVeyZykPOLOCDOWXfddU1mWMMi7BnP9eWqiwHEkQBvV0dykF188cVWZ7Z8Iv8frC2xQLSPogw5RlDnFDA25u5NXCNMBvkKsanll1/eqlB0hWy7rqsvHUDkhNF3scbu4xaXuA+r/n29tqt31u+dZgDDON3XXnvNqgELRb5MYmqxSdjo1L441ge7Z6bkAaTt+c8Nc3+GcdnPP/+8yQR7yepgVttil6mzMbE2n/JepI6sbnb1g9mD+ec/3iEcs70b2wqyHSI5TYnXdPck9rTdNpbaCaRIa9S5LQikGHoWZHIAGw05gE82XNqfdtN0eS8DOYA9CaDlAGZ3yHIA019UcgB7F1vJAUy3m245UwxgBU1WdQBhYdgVg9EmcTQnn3yy1Y4YqCwGJqX6sdFnKgPIs/wYC2L9WD1KXjnYQkbM5NM77bTT7DZFVza6a6oygNSJVWSs/HX3Jos82DPSJj8h7CwxjqzghMHMyy+XpaM6GEBYF1aHu+eEjCo2Rb5FmINYLFbWjgMwvyxagimpcycQ37bAHtth5Tixc7CvxNYde+yxBjXT8UXYZeyrrjyAvhzvvPOO1QsGg3gyYrBgOGGPyzKY2FlfOoBM3bPa3E3zu891111nJTMBRXXhy1JXHkA/HowpSOLisC12n4FtJvaOHHnknkt1lnw5YmxTkdRPWe0znHHABlnde8IJJ1h1YMyPO+44OyYGPXXRVBUGkDr9+9//tmf7Oycx83XllVfaf8zGkIOVPKAwmpAIvEeZ5WAHJneP2C5GMZ2kvF8H8jlyACtoTw5goyEH8BOzIDmA1WIAaYZyAHttqWzXJAcwGzk5gHIAfcuIESNl299Auk4OYAVtlXUAGX0Ss7DddttZLR5++GErickg/xEjsxhr006UmKEXZQD95/DCDkePsDPIAgO1+uqr2+VlYoKqMoDgzgrY9dZbrynKZpttZt/DkT2rf8kZeOKJJ9p5MJkzzjijHafGAvHAMgwgLzBWlbIalp0y3L3RB3FlrMJkRSA7gMT2FPXz8T366KNWbeKjWDXoZI6xAe66lFXAWbaLLOiAuEtYJmSDIQxzMcJKpzIbdcYA+vKgNzAP40lhl8kPyPmp9Q6x6wsHEJ2APTvnEJdF3DLtooosVRlA8MT2HV7EJLPLBAwlrDPH1J/2BPtMHGcqsxnrg/124q8CLvN6ws5YNcusBX0bjDOsZtHY01ibz3svoguyJ6yyyipNEan3sssua7+hL1Y8Iw/M4Prrr2/nwSISt51qayk6KYP/QLpGDmAFbckB7HU45ACOL2RJcgDjcMkB7MlnWPQjB7AVMTmAyxggcgBb7UIOYKMhB7Bo7+qdX9YBJG6GUTIxQThRrNRkdAqbVraqMUOvwgCGdYIZgJ0hTcwf/vAHO7VM7B/PqMoA8iIg0zzxce7+7L8ajujDFXbsO0nOqZ122smql8oE+LIUXQRCwPpjjz1mt2H123PPPddUQ7gvLiNsmAzyHIZ7oIYs89ixY5v3ZHqbFd/kRnMyx9gAd5OyDGAY8xouniI+i5XZtBfynBHXmcpw1MEA5sVmYX8wmTAXxJuR441VzkVZZRTWSQcQ+ejDaOfYBrF0a6yxRql2EfYnVVYBM4AAX/LMuWfAmq+zzjr2SNgl4oNp3zPPPLP9z17a7LtL/BznuXPq3AmkyvZ89BO33HKL1Z2ZAmZjiAWkry46sxRr83nvxTAG8OCDD26qnEwShBURc0z73WOPPexc9jOfaaaZ7Bjci7aX2Hux7Pt2IF0nB7CCtuQATgyeHMA0gyrDAMoB7OmuwEEOYLatyQHswUUOoBzAvN5YDqAYwLS3dZuzijiA/u4ZxPoRiwY1z6iaFabkmkplMNoJEzP0OhlA4q7YcYJ9TmHdqshSlQFEB8SQ+XkAWa3MiutwUQdOx1133WUwH3300VYST4PuUg2qjAPI6ltyrDES9uMWQyYPZhLmxt81xK8r955zzjlbWAN3wEib/Fr+riExNsBdX4QB9NkIWBl2jwmxDR1B4jjZ+eDcc8+1S4h/9NmCLD3VwQCGeLvntFtlCUN5xx13WHXYK5gdgMquBu6kAwiLSawcueVY1fnHP/7RZEFnRdmlUC9lGEBsnb6GVbDErrpn0A5gW9nxZ9VVV7UqMCvDPrqwaOiKzA077LBDs8p5swCxPthvJ2VjAENWf7fddrO60d+xSpY+ueie8ggaa/Mp78WsvJ8M6GBnYZWJGyfHadV8n74cWgWc+sbSeRMhkGLoXCQHsGeDbzmAPRYhBzC7Q5ED2GjIAey1DTmA6S9eOYDpWLkzU5zyYncceGdrCriCzlIcwDCGzD3uoIMOsqeyGpB8RozYWFFXJV7OFytm6HUwgIyoYciIw7rqqqusKkVXZGappSoDGN4T1s/9zg4le+21l53Gfq3kNQwd+U033dR+Io4LJiR1VF3GAcSWiHUhZua2225rigZDQU4tbAgbI7YoZGZYeTdq1Ci7F1P57nv4XP/aGBvgrk9hAHmGf2/iRhdddFGrEznlYDzDeLQdd9zRzhs9erSVMB+zzDJLE588Vq0KAxiGPpDLzD2Y2CUwhh2jvqwwJ4aR88oOljrJAMK6gjErTNkB5KSTTjKs6+y7iq4Chl0ihmzjjTe2OhHf576zinfppZe2/9ixhHNDBhOG8JFHHrHziRkeNmxY07by2M5YH+y3k7IMYLjYhXx/MOnuvn47Khq3jKCxNp/yXuReftonmHJWxVNfmHz62tQ+tqmYNl9SdBK7x0D/Xw5gBQ2mGLocQDmAWSYmB7AVFTmAjYYcwIlbShkGUA7gmwakHMD8l7scQMUAVnD/0ja9lgMoB1AO4HxLDhky5D7HyI0cOTKzzckBlAOYZRhyANNfUWIA07FyZ8oBlANYzGKCs1MYwKxEyexhetZZZ7WM1AjSJTC5bBB4KFTM0KtMAYf70kLfM4VCugRkSU3S2c5p2mabbdrun+tPo7gk2jFnw58CYUEIU6gkIV1wwQWtKkx1oU+SdJMGAp2mJrguwwCGmDAd5089kSQ6nN4hcLrdgoowlUKqnmLTQb5O8hxAZPMX01x22WX2M6mEWBRFUDhTQWzPRXoLNpWn9PHJk6vKFDAxvg888IDVecMNN5zIhJmGZxENi8FIBM+iMMIlyi6g6IspYOqOnGeeeabJu/baa1tZdvo6q+8qOgUcLgJhy0QWGbhnzDPPPPYo0iQR6kG9222rhpNVtD+L9cF+Oyk7BUx/wJQpi4zQCVsRlt1SFN3E2nzKe5F7+bHxbMNHeA3T8qRL49yy7aLoe7GSczBALtYUcAVFpRi6HMCe/SaLdphyAHtYs7yXgRzAj81M5AC2thY5gD2vNZw5OYA9TrkcwInbiVYBV3CABvulKQ5g1miLza0ZqZFSBMaqrtGzP2LLM/QqDCCjspdeeskex6jt1FNPtePVVlvNyqKbp3fSAWR07wcgs4iFpLEkV2ZLNJKq/utf/7KqLbHEElaSqoBtiFKTkdbBAIKRn3wYmcKExIya6xo9p7IB7ryURSBZssDw0U5gXbE5FroQPA7TQXLZoluqVWEAqT/PhL10v7MwggS3nLv//vvbV1Ik8XuqDbXrfzvpAGJXDOhgykkVVBTz2DukzBRweE/sw2/vYIyNpTLesfrm6STmbNBOijKAoU722WcfqwaLKGDGt956a/u97OKP1Daf8l7kXj4D+NBDD9nP1B8GH0awrsUfvhwxnZTV90C5TgxgBU2lGLocQNg82U4AACAASURBVDmA7ZzZojuBtDNVOYBTGzRyAHssRA5ga0uRA3iCASIHsNUuUqblK7gHA+JSOYAV1JTiAGbdnlEyI1JYmaoj/7KjzyoMILIQX3P99ddbNUgLQYLhOpinutPAZOGFTsKp+5AhCB17dJe1FVinHcAKJlz50lg8kHtAEQbQrxA6ANunnnrK/iYVx/PPP2/HrHYcMWKEHXN+UZurgwEMY2JdfdrZBDZFfetioTrpAKKfUM66ZeA5dTCAlY28hhukOBtlGUD6YLZvpO+lvTz++OMmAbMcVe0s1ubLvhexKVjBsu04VV0pOkm910A9Tw5gBc2VNXQ5gOVAlwNYDrdOXhV7GcgBlANYxf7kAMbRkwMYxyjrDDmAWgVcznI+u6qsA1jpoSUujhl6FQaQ6sDWMMok5q/qaNMXty8cwBLwlrqkzhjAUhWo6aJOOoDt2CYYAmyO2KCqDHodDGBNsFa6TV8wgJUqWOBiOYBxsHAA2Y6PmFJWOB966KF2k7r64lib75b3Yhz5gX+GGMAKOhw5cuQKEyZMuPPII49szD333BXu1NlL3YKGAw880G2OvuKTTz7Zs5mt90GOww8/vDF8+PBSleFlzMrUdukUSt38s4vclJ8L8G8nhzsNWQ477LDSslSpY+q1TpZDDjkkqhO3j2l/ty2360uKTo444ohSOglzaYYMOrZWdMo31JXTidulJ9ZO3KKt/q4Tt8AkVSf9XZYUnQz0Ptjvu4q2efret956y0x63333tXLJJZe0ktRcdTmA7n2S1+a75b2Y2pcP5PPkAFbQ3ogRI7acbLLJLqpwiz699NNPP91q9OjRPfsBeZ9ukcOJ1C2ydIsc0kmfNvGWh7Vr79KJdFIHAoPhfVIHTv35HnIAK2hngQUWGDZu3Lh1Jp988ufHjRv3UYVbdfTSoUOHTjV+/PjhQ4cOvemJJ54YGz6sW+RwcnWLLN0ih3TS0aadefNYe5dOpJMqCMTsq5v6rio4DYRr5QAOBC2pjkJACAgBISAEhIAQqBEBOYA1gqlbCQEhIASEgBAQAkJgICAgB3AgaEl1FAJCQAgIASEgBIRAjQjIAawRTN1KCAgBISAEhIAQEAIDAQE5gANBS6qjEBACQkAICAEhIARqREAOYAUwu2W1U7fI4VTZLbJ0ixzSSYUOpuSlsVWa0klJYCtcJp1UAK9Dl6bopEOP7je3lQNYQRXdkqutW+RwquwWWbpFDumkQgdT8VLlAawIYAcul046AGrFW+bppOKt+/3lcgArqKjbdp1wOzUM5F0BnCo7pZNwq7tPPvnELGfcuHGlLCh1J5CBvqOJr5OBvlsDtlV0p4ZSBlLhothODb5OBros3aiTgd4Po5Nu2DGnQjMcEJfKAaygJvY8PO+885zjUeFOnb00dd/ZCy+8sN/L8d3vfrcxYcKEUWPGjLk/C7W6dcK+s+yzedZZZ9lj11prLSuXWWYZK4vuQ5uqk4FuWw6bTu8NinPOFnF5rQk9ZW0bl7pn9u9+9zsXalC50bLFHfXmmC27qGPRLe5ie7X6OqlLlspgtLlBTBZsq6wc7Wym3bZpRXWBWDE5fJ0M9H4YnVx88cW1tJNO2tZ3vvOd3PdJp57dX+4rB7CCJup2NipUJffSVGdjoHc8fidal+MkBzDfKmO2JQewPX5yAOM9XsxxkgMYx7DuM1ybzxuIywGsG/HO3U8OYAVsO+UAwmjgfHD88ccfW22Lbuode0kjhxzAiY1h6qmnth/POeccK3fffXcrf/nLX1q53XbbWcmUcKo5peqkLkc2tV5Fz4vJ0UkHEPbm3XfftWq/8cYbLe0DB8uX6Utf+pIdTjfddBO1pb5iAKk37frVV1+1urz//vtWTjvttFYOGzbMyqmmmqqQjcWcJl8nZZmzonZS9vyYLGUdQJhgbAdd/O9//7Oqfv7zn7cydNKnmWYa+53Qjywby5I1Joevk0nVD/uygEfIRrt69rUDyHsQnYXvP46nnHLKFt24gzzG1ulEDGDZlqnrmlNbdb+k5QBmG1es4/E70bp0Igcwv6HLASzeEcoBTMcs5jjJAUzHMnamHMAYQt33vxjACjqtygDS4MIYprfffttq9fTTT1v53nvvWbniiitayYgoteqxl7QYwImRBOMHHnjA/tx0002tJObvjDPOsGPYmqKxQak6qcuRTbWVoufF5PCd8osuuqiWmCB089e//tWqe8opp1h5yy23WPnRRx9ZSfvydbPHHnvYf4cffriVPtPRaQaQetOer7rqKqvDSSedZOXjjz9u5bzzzmvlmmuuaSWss79AKy/mNOY0+TopywCGzFdsVqLo+dhhTJYiDqDfb95/f08I8X777WclNvLWW2/Z8fDhw1uawgwzzGDHBx98sJVzzjlny3UtJ2ccxOTwddIpBhAdUIIHAxJmmFxdYKMRBebTHccG4nVPAbsFc+4z00wzWUmfi80hxz333DOR7mD8s+xTDGCjIQcw1nJz/pcDWAG8EpfGOh6/E63qOMkBTFOQHMA0nNxZcgB7sYo5jJwZc5zkAKbbnxzAVqzkAMoBTG89GWcWcQD90Sesw3/+8x+762uvvWblDTfcYOX1119v5Ysvvmgl519++eV2zIrj1BQksZd0OwYw7DCoR9ZUQXguHXwYt9EujiNFEX3hACIj9dx2222tajfddJOVMH/f+ta37NgfNafIwDmpOinqyDKab7eyFJspyli2ky0mh++UV2UAaUOPPvqoVWeXXXaxEjZnttlms+NVV121pbp+fObCCy9s//3f//2flcR6OTw6xQBiUzB/sE6XXXaZ1QFG4+tf/7odzz777Faee+65VrLi/OSTT27KhX7bMRtbbrll0mr5ogxguFKZPgwZ0FFYL9oJ9ve5z32uKUteHF2dDuAUU0zRfOaNN95o391iBvdBNzBdnPvf//7X/uf33/72t3a87rrrWknMYIvBZRzE5HCX1DUTE84shfF8vG/uuOMOq+ljjz1m5UsvvdSs+ZgxY+z7UkstZSXM+RxzzGHtJM++qjKA2DaxsT/5yU+sDrCvI0aMaEEY1pZ47EMOOaT5/6hRo+x7FmMuB1AOYKzd5v4vB7DXOZUDWMyUYo5TEdvynywHUA5g7AXtOxtyAOUAygFsn1asWK8+8M7WFHAFnaW8pHGMXnnlleaT7rrrLvvuGBH3efDBB60kruTll1+243feecfK1Vdf3UpGn8SjpLI4qc4GsSf+6Nw998MPP7Tns8qSUbH7jZEzMSOM/HFE3IjRfWAIiOPgGUUYwU4ygOiJep1++ulW7/3339/KnXbaycqDDjrISpiOVB2EZpaqkxQG0GdQyFfokgH7Opt55pnteKGFFrJyxhlntLIsg4k8MTnceVXzAKITGPGdd97ZHv+Xv/zFSmLljj/+eDv+yle+YmWWbrBPWBFfL51iAKn/pZdeao/bfvvtrYTZC+uNbf30pz+1884880wr77333mZ1iRNsx2zUyQD69gV+P//5z60uJ5xwgpV77bWXlfRhMGPg/Kc//cn+xy4PPfTQpizgkDWjEXNmi0wB+zqHBYMtQq6VVlrJ6uVWh7rP73//eysPPPBAK4877jgrN9lkEytT209MDnevqgwgeiIGFh3Qb//hD3+wOjOLAeNHnNwss8zS1An9w/e+9z37bbPNNmv+52TpRBqYcMW1SxzvPtdee62Vt912m5Wsiqdd3Xnnnfb7DjvsYCXvVfd9scUWs9/EADbV1/JFDmA2Lkm/ygGUAygH8MmGmyZPSc5ddgpYDqAcwHb2JQew91UlB1AOYJLj4p0kB7AoYt75cgDlAMoBlAMY60LEADYaYgDz4+bEAE6cc1EMYKxnqf6/HMAKGOY5gGFMnNsXkY+banUfpj6YliPNy9Zbb23/Q90zdURwe2rgMc+LTdOFU3RMNbEo5ZlnnrFbMWXwwQcfNGV588037fvYsWOtZCqFl958881nvzOlQCqLr33ta/b7BhtsYKU/7dxuhWAnp4B5/j//+U+rzw9+8AMrmTYi5QjTDzh+YVB8qjml6iRlCtjfzupnP/uZVYEFA0zNgz82RMA0Npe3qCBPppgc/outKAMYBrMzVcqLYdFFF7WqMR253HLL2XHK4qh2iye22mqrtmxmEbbJxwzbuvvuu+3n9ddf30qm4r797W/bMYtVXn/9dTtmUcj0009vx/QD7nteGEiR6ca8GMAwLMI9153vPgTm+32B+90PD/ExIEkvdoadunMIr8jq12KylNUJstGeqWs4VXjffffZX+joxz/+sR2TmqedvGGbicnht5OyaWCwM9IJ0V6QgXQqX/7yl616q622mpUrrLCClcsuu2yz2thXVqhIrB8uuwiEvpbk3EzDU09CItAROVpZTMWiMBb4OGFY9KUp4NAie47lAGbjkvSrHMBGQw5gTxNKTWuBYcUcpxR2mXvJAeyJR5MD2GMRRZwNOYA9u6zwkQPYg4QcwCQXYMCfJAewggpTXtKMamDR3OMYNS+yyCL2dEb4bC+277772u+MePbZZ5+WWnbK2WDkScAzweekAoA9ykoDkxVU7yoNUwZ7eOWVV5osjCwvueQSOyZY131vx3DGRp7u2hSdZDlOLJ5ggQGBxaeddpqdTtA38jDa5hj5/ZQjecl6O+UA/v3vf7f6suiIBRH/+te/7Hfwfuihh+wY9uwb3/iGHaewZ74xxuTwdVKUAYSdIWHybrvtZo8m9QjtxS14cB9YJgLzi07Pd2oRCIs6aAMsNMC2NtxwQ6s/7Qqd0A8cccQRLf2Br6dOpoFhYMFCCL9Pwp6++MUvWt2wn3XWWadFFtrA+eefb7+TeuS6665rmtHyyy/f1vZizmxZBtC34azvsEtXXHGF/U0f/Ktf/cqOmblInY2JyeG3k7IMIKlrmK0ghRXOHAwZKWxY/OGnxwEL2k5WHxbrh8sygNSDdgFDTp/11a9+1apHH8v5zK7BTmNj7lzS9ygRdLbFywGM9QQ5/6c4G3IAJxiCcgBbDSnmOKXYFnf0GUA5gL0rM+UAtk9vkeI4yQFsNOQAjp/oDSgHsILT0M8ulQNYQSFlX9JhfCBbvrHUnm2IGNGQrDaPUcoTI9XZYOQJe/TUU0/ZbRdYYAErqVfRF6u7FplJoDx69Gi758UXX2zl/PPP3xTBZ9F8uWIdjz+KzoudC7dCctfBusC2kCiYWCVGm2zTB0MIszts2DCrKvEq7vuss85qv2XhlaqTlBhAHyOYSeobynr77bfb6RtvvLGVJFf9/ve/b8eTmgH0E6Y/++yzVidYWWLoYMyJXYLJIIbpm9/8pl0Hi5PabjrFAOJIEdtHzBJxZaTfIM3FNttsY/WfbrrprCT2j3gm91se81SEbcqaAqa+4L/eeus1TQzmjz6BeEzimcNUHsSdYW/8/8c//rF5T2YDstpJTJYUR9ZvH7Hv1A+bIRaY5Pz0yf0pEXTYxs866ywTE9aSeN9TTz3VfiduEbxhx1JnlmL9cBEG0J9NYmYMe4MZZ0aKetPHMROAbREC4qcYim2Z6OIM8zIYxOxloP8vB7CCBuUApoMnB7AVKzmA2bYjB7DRkAPYaxtyAON9rBzAnsGsHMC4rYRnyAEsjlnziiIOYNZjiHEiroSkw8THrL322nYZI52yVU11NmAAmbbmZcwoKpVJ8etJ50TCaFY2sm3X2WefbacTp+K+t3tObOTprk3RSZhXzl3HllBMVcPSEPdI0mFGlw888IDVm1Er9yRxqvuPJLlZyWJTdZLCAPrxlzCSpN1gJTkM680332z1vuWWW6wkOSxbJpFENpXljcnh6yQvBhA78ZmtMNlwyFAQfwaDxIKkH/7whyYbrCbJx91veXJ1igGkPSAj7CxsK8wMMY3ok9inJZdc0m6RqpOY0+TrJIsBxJbZepIEu+46mG4SpcPWhH0U92A1+p577mkyENdYhKVJ2Xas6I4m7fpSZltoP8T+rrLKKnYJcdGw0KmsWRGdFI0BDO0Ku9l1112tzmSVoD9KXbncDqNYP1yEAfTjD2HAaQdgTXJxZoZgoUnKT1/Nu2SLLbZoVj0vUbe2gtMq4LI+lV2X4mzkPUAOYKMhBzA7TquIbckB7NnVRA5gT29TxNmQA9jaQ8sBjL8S5QDGMRooZ4gBrKCpIi/prMcQa0OcDCNtYseOOuoou4zcee1i42IixFiaqlsQ5T2fER7ME9NbxMr95je/scvZKs59b8d0xDqeVKec1aL+6kZWkrJSDvYJJoBcZeSoYrqBre6IaUJ3ri6MxMm75cfXpeokjwGEocVO3DPBk8EFDAXMHiNi/meTd/IyssXYF77whaZasTuYWT9uJyaHr5M8BhDGiBhFdx1sKrFzCy64oNUJFplYP1Y6035gNdnmi5x1ebaF49SJPIAAGU7VOd26D+wYORtZUcvq5yLbJdbhADKggGlhVaa798orr2x1ZnYijBnFJolrhkGj3SAzMYPuXlXiGavGANI+6KdeffVVk2/zzTe38pFHHrHyH//4h5XEPqZuAYfuizjlRRlAnkEbYm9fYkxHjhxpp5CBAbxT2ctmR/DZl1g/nMIAhnHw7tZsJ0jsK30T8jALgw2FeQ2RD8Y8xbYUAxhqV8fJCMgBjEMlB7DRkAM435JDhgy5Tw5gz3gbJ0kOYE//IQewB4eqA3E5gD0pxuQAxt/LnCEGMB2ric6s6gByQ5wkMrb/4he/sL/GjBljJUxG0dxT3D/G0lTtePIghG27+uqr7TRW18LuHHvssdGXgC9H3ibkfieaxZyFO0v4uxHwndgmxwS5D2wMumFFGmwTzBor1vz4GlZvwuDWxQDCHBOHCBPm6kuuLFaM3nrrrSYHeQ7J6UgM5oMPPmj/w9DAzPorP2E7Z599djsXRtAxCDHb8nWS5wDCOjGN664LV8HDGhHPCDMGE0DsD+wTsbWwzu6eeauc64gBRDdZeTF5QZOqh9WZsEnEam200UaGMzosujK7CNuUkgiaNuzjF9YpbFsnnniiyUCs3/bbb2/HtHcfnzwmKiZLVQaQvve1116z+rFyll2QmBHYb7/97H+c96LsWUwOv52UZQDBlD6IPunDDz+0uhPTmTUgzevDw//qYABpC+5efGAsiQenLdH3gjmsMjt+kHvylFNOsVv59hqL+RUDWETzOrcFATmAcYOQA9g7hS8H8KLmFFpoOXIAe4P15QD2WkfMcZID2IuVHEA5gPE3cusZYgCLIuadX5cDyC1xlsg1d/jhh9tfrI4iKSn5+FJX5cZYmk4ygORi+/Wvf22ysNL5gAMOaDlmlJqnjtjI0x9F58XOMer3c5GxCpjVsOT5YpEKsX3kA2M1JKtuyUXFilRXF1ZzZ+XZStVJlhzYCbF/MMbumcTPUBI3t+mmmxq0q6++upXohZgnsu5T53feeaepijXWWMO+s7p28cUXb97DyeEYtrxcWthXFgPIKB9mxXeSw/gs7J1zuIbcjcRtklcPxqPIlFDZGEDq8re//c2wIb+l+w67xL7Y7NRAnk3i6ogFhPkjvyFsiR8DXIU189tJXatnqSMywWYiOzuBrLnmmoZPagxdnQ6gjxltCAYK22YvcNr7BRdcYPUl5ySMf9HXRkwOXyd5DGC4A5G7LozN5RxyGF5zzTVWXfIDMmNQdjVwrB/OiwGEKcaW2a3E1Q/WlVX7rLRmpxjitNEBsb3EPS+zzDImZ2qsvFYBaxVw0Xbccr4cwDh8cgB79wn2X0ByAHtsRw5g78IKOYAT9ycxx6kIAygHsCdBtBzAHjuTAygHMO7B5JxRtwPIoxjBERwNg0H8Frm1cK7cdXmxDqnORtnYkzwQWU3KPq4wAbAz7IuaMmqLjTz9UXQeA8hUic86ErNE7ilYWJidhRZayMRk5wzkIobuuOOOs/+JdfLPzWINUnWSJUcYG3PYYYc1VcDoGaaFnVdgPcPs/2ABq/b444/bvWA+3HdW3yEH8VCO+XOdqIvdKcoAIgOxiffcc489F+bVfacd8OKmrqxgho1lpxDYJvL/waCnrDDnhVCWAaQtwrpg574ctGf2J4XhgMHB5sh7hg6JjWKnE7+9h/pEjrzceX47qYsBRJ8w/Mcff7zpk3ZPbrdU5g+DrtMB9JOMY3ewSvfee689EhvD5mBn6a+wpdQ9gFPl8HWS1Q9TLxhLf6aBeF7aMG0dhoxY2nPOOceqQ8xcWTYz1g+nMIDkhSVXoasXq5Vhj+eZZx6rb8h28z/YOrzcp4xtKQaw+erQl6IIyAGMIyYHsNGQAzjxKmA5gI2GHMB4/yEHsAcjOYC9tiIHMN5uUs9QDGAqUhnnVXUAwx03iI+ACSBNBCtPyX8GSwWT4DMCWeKksk11MoC84FldCivjOnT3IVYqbx/QUJbYyNMfRafsoEEd3XWM6GGiiJdhxSY7HXAN7BTsDfFdZKV392Snik7tBcyz/ZWzxCbieBeN84El8UfTL7zwgqmCXU/Qmcu/53TiOuRUBhAmlXrtvffedm9wJpeX+22uueZqYQCee+45O3axhO5DbBNxZ6yqhaUljit1FW2ZVcDYAXbN6nCOfRtmcQd7fpNDEqzJu8dqRjBBDvKkuXuSt5E4QRIYO7Yk5jT57aQqA0h7gJlaf/31TWSYMpgzVqen6gLcYrKkTAFTx7FjxzbVAZZkJyBulNX/xF2jA7IBsJPJ0ksvbfdKjcOOyeHrJKsfJmYRVtu3L2YAWB3PzAZ9LnHKsPojRoywuqfMurR7n+RlY0jJA8h96VPcMXHL4X7MMJrMThDPTDshrrmoPJoC1hRwln0n/yYHsD1UcgDlAGId/iIQOYCNhhzA5C426szKAWw05AD2LGyTA5jerjhTDGBxzJpXFHEAYQrcxThHjH5gNsh3BPPH6HPFFVe0Zx5zzDFWsgozdTQ9KRhARqwwfWTWJ5chK7dSR9BO7roZQF/1IRsLK0NcGSuG//znP9tl5NJaZJFF7JidEciV537L00+qTlKYTD+2CTxhHf1dO4qYun8d9w9H5k4+J4fL6ViUAYRRZTU4q2aJ+3F1XWKJJazK7ARy99132/Fbb71lJawNNsVqYBjKMi+EojGAxCNiF7Au/ipqVpgfeeSRVu/YPrIwOLR/8hkiv7sH9so+wrAiTuYibFNVBpDYx913391kI86MWQtiALNWwqfYY0yWFAeQ58DeuWPYI9orMcDkmCO3JDaFXMRnsjIVFtfdkxyn2LDf/mNyuOvzsjFgZ0cffbSJ4+cwZaU/DDP5QdkRhxhZsgWUjf0Dx1g/XIQBzMoHGcb8wQCyIw07OJFnlZmw1L2ykUMMoBjAlD6o7TlyANvDJwdQDiDWkcUAygGcOLgdvOQA9vYrMcdJDmCjIQdwGjMYOYDF3RkxgMUxa14hB1AOoBhAMYCuFYgBFAMoBrDnfSAGsIJT0ceXygGsAHiKAwid/dBDDzWfRLJdpn5JPkoQOKlR2I6LJMMs9y86tZU63VjnIhCmvEmHwZZKBOgT/F9EltjUg9/5pEyd5qk+3KycaVBKRpuUTPekjkJTdVJVjgrmnXRpTA5fJ34i6DAVD9OjTGm665jOpg0x7c40HQmqaS9MRxYJK/CFLLMIhHAOpqlJbMvCDXd/UqKwQCdm89gebeiNN96warL1lfsOS8jUL9tnOfuLsWa+TspOAdMOXn75ZasbueXAgz6OtESp4Sqh0cVkyWMAwZEpTxIFu2e8//779qiTTjrJSkJUWJyEHISC0I+RrBib9FPzMP2PzH5fEJPD10leGhgW1TGt69sFcrIAZ9VVVzXZ6Gupa1ldoJtYP1zEAczrZMLdgVgESRtjIU/RhW48U1PAmgJOesm1O0kOYHv45ADmm1bMcUqxrUrGW9PFMTnkAMoBdDZQ1umIOU5yAHsHBnIAi3VqcgDlABazmODsvJc0I+Q777zTrmLbLvf9lVdesd8IKF5llVXsGMaP9BeM6sMtsIpWOvaSrnMrOEbdjH5J9EmQP2kyYEVibIgva2zk6TsbA50563YHEL3CtMBosejG1ztsC4HwBN4THI4NpbKv7dpPGQYwlAMmkLq6/0kHVNYJCndLcfcEkyzmOeY0+e2kKANI+6ZOLEyjJEk9udqKtO8svcRkSYkBBCtmWNxz6FPpa9uxxrBQDGhZgERd/STj4SIpfyFVTA5fJ3kzMeDup34iDRJMGO8NUu+w6Kho8up27STWD9fNAD799NNWFWaReJeyEKesXHIA5QAW9aVazpcDODF8cgDTTCrVKR/ojqz/YsvbC1gOYHu7kQO4ZdtV5nIAGw05gP9L63SDs+QAygEsZThcVISl8Ze7871dio4wlUelSn6WPsXFTbRL1dEJBhBmgngNYmdgAEltUYQhiI08xQBWtZTi18cc2ZgDyBNpE35y7rA2MDlhbGDxWmdfUYUBDJlA/wllYxLz5KLvCFNmuGuKsE1FGUD0A5tGfDLbVZ5wwglWbWZAsupXRF8xWVIcQJ7np0vit6KsrN+Pu3v48uXJGpPDbycpsdh+OwnrhGww4nXbX6wfrosBDO0kTL5fB+OvreCKtEad24KAHMCJDYIXkxzA/MYSc5yK2NakbJYxOeQApu8WUUSPcgB70JID2JsTMrQfOYD5LUoMoBjAIn3uROd2y0u6TgYwHG2zqvOMM86wv0jmSfxGkRF4bOTpvxAG+tRpt9hWqgNYqSHWdHEdDGBNVal0myJsU1EGEMfzvffeszqSnJoVpiThrot1islSxAGsBGrFi2NyFGUAK1an0uWxfrhTDGClSmdcLAdQDmAlmxo5cuQKEyZMuNNtxTN8+PBK9+rkxS6r/SGHHOJ2D1jxySefvCt8FnK4rPdzzz13LVVhioK9QK+66iq773777WfloosuamWRF4VLm3PQQQe1lcPdr9t0MtBty9eJS/VSl33VYqTBTZx9uR0sYu3EBaH3dzncDivt5PB1UlQWHEB2MXrkkUcMEvTECgAAIABJREFUxYUXXthK9nOtOj2HapxO8mShvReVoxP2k3fPmBy+TurshzshZ6wfRidu15L+3k7233//3HbSCfz60z2VB7CCNkaMGLHlZJNN1rMz/QD4fPrpp1uNHj36d2FVu0UOJ1e3yNItckgnk65jaNfepRPppA4EBsP7pA6c+vM95ABW0M4CCywwbNy4cetMPvnkz48bN+6jCrfq6KVDhw6davz48cOHDh160xNPPDE2fFi3yOHk6hZZukUO6aSjTTvz5rH2Lp1IJ1UQiNlXN/VdVXAaCNfKARwIWlIdhYAQEAJCQAgIASFQIwJyAGsEU7cSAkJACAgBISAEhMBAQEAO4EDQkuooBISAEBACQkAICIEaEZADWCOYupUQEAJCQAgIASEgBAYCAnIAB4KWVEchIASEgBAQAkJACNSIgBzACmB2y2qnbpHDqbJbZOkWOaSTCh1MyUtjqzSlk5LAVrhMOqkAXocuTdFJhx7db24rB7CCKrolV1u3yOFU2S2ydIsc0kmFDqbipcoDWBHADlwunXQA1Iq3zNNJxVv3+8vlAFZQUbftOuEy0Pf3HU1SdwLpll0nBrocrnnRTn72s5/1+50B3E41sZ1ABvpODb5OBrp9+bsYdUvfNdB3NenEzlIVXtNtL43taNKJZ/a3e8oBrKCRsvu1sk3akCFDkp5edVNvt3fjtttu25gwYcKoMWPG3B8+FDkuuOAC97JOqtOkOMnJsfXWW7eVw9UJWS666CI3HTwpqpn0zNR9Z+uWo53tlbWxmBy+Ti655JI+1Qnblg0dOrSpE/ae/vTTTyfSk5Pl29/+drSdXHjhhZXkaNfu69o+zcnx3e9+t6PtBGyRhWNwRZYsnJMayGcnxeyrG/uuovszt8MT3dDmOa9sW+f62L7G/t7y/b0PjrWTIrY6EM+VA1hBa3IAK4BX4lI5gCVACy6RAzjOEJEDON+SQ4YMua/sAEMOYLG2WKTvkgNYDNuyZ6cMlMree6BcJwewgqaKOIA+C/Huu+/aU//whz9Y+fe//72lFh991LOr3LLLLmvlBhtsYOUss8xi5SeffFKo1v2BAUR+RqXjx483GShTBCrSiZZ9saXUo45zUpmNuuTA8XvhhRes+m6ayX3+97//WXnYYYdZOddccxXSS0wOdzPaSV8xgDgntJOXX365qbKZZ57Zvk8zzTRW+o5gpxhAsP/c5z5nz/zvf//b0o5pG/xfpE1k2WLKi60IU+5jhCz89q9//cuq8NZbb1k5/fTTWznrrLNaOeWUU7bYWdG2E7OvuhnAkDUO+y3kpt3AKMfkKtJ3VXUA6WOp44knnmjVu/jii610YQ7u42ZT3Oc///lPrPot/4sBLARXvz5ZDmAF9cgBTAdPDmArVqkvNjmA6TbGmXIA650ClgPYcHGhZl5yABsNOYDF+6T+eoUcwAqaSXEAGTG/+eabzSf96Ec/su933323lXPPPXdLLcaOHWvHr7/+upWLLrqolccff7yVSyyxhJWpTGBfMIChgxfGnTz77LNW5zfeeMPKr3zlK1bOOeecE8nCqDpkQoqMoss6TiEbg2LCuBnqVjbGqa8cQF5czz//vInyne98x8qXXnqpBfe11lrLjk899VQrYXLc9zxGKiaHu35SMYBnn322yXL44Yc329e5555r39ddd10rYdvd9zoYwKy4K9o+TP+dd95pz4Y9GzZsmB3/3//9n5UjRoyYqE00BUj4UjcD6Ldl1wbdBzbp8ccft2P6rH//+992vN5661m5ySabWLnyyitb+fHHH1vptxsc9izRYvZVlQHk2bCv2AP9FfLSF8McL7fcclZdGPOYWor0XWUZQGSh/3SLrtyHNv3ee+/Z8YYbbmjl3nvvbeXSSy9tZSrz3GkHMM8eQtuJ4Z73f0o7qXL/gXCtHMAKWpID2AueHMBihpT6YivryFIbOYByALMss8gUsBzA3sG4HMDOM4ByAIu9S6qcLQewAnp5DiBGDHO08847N5/0/vvv2/fddtvNSuJlOOGdd96xr1deeaWVp59+upXzzz+/lb/97W+thClw3/PYwLoYQGSaYoopmrLw3L/85S/226uvvmolbAexQfyObMRiEdcIq+muXX/99VvkY2RaZBSd4jj5qzGR7R//+Ic9262Idh8YAVjaNddc035n1AwQRVdw9pUDCLPh8PBt51e/+pUdX3rppVaedNJJLbYGUxizrZgc7vq+YgDDF4db0es+6NR9d+yK+4SMlPutDAPIM3GSsBcYMh/jxx57zJ4NQ/PBBx/YMXaIbZ188sn2+2yzzWZlKjODLaYwG0UcwKmmmopbN0455RT7Tt+1/fbb2zExpfQDxx57rP0O47/XXnvZ8Q477GAldunjkfXij9lXWQaQASt98bXXXmv1+uMf/2glzB/9FnHbU089tf2/+OKLW+niWvnMMMMM9jVrVqBI31WWASTeEh1stdVWVp+33367BfMPP/zQjldccUUr6euYjXG/5b1PqjCA2HpIGDRB9FjisE8N3z9hPHneCn///nxPaSdZ13XTb3IAK2hTDmBvRyEHcEIhS0p9saU4snkPlgMoBzDLPuQA9qQGkgMoB7BderRCHfoAPVkOYAXFpTiAjKRuu+225pNGjRpl3+eYYw4rw5VkYU4tl3jWfRhV77HHHnZ86KGHNu/JqLPd6LNKHkDqw+rF++67r/ncm266yb7DrNChwoQw0oPl5Jh6MrL2MYBtu+qqq+zeMCGOQakjD2CIr3vGL3/5S3uWS4zrPjCTTPkwGiWei3itn/zkJ3Y+o+/UmMC+cgCp18EHH2z1/PznP28lcUCbb765HY8ZM8bKTTfd1Eri59z3cOVnU/mfsWaOacjrRKsygCHL1m7lJYwAtrfxxhtbVf0pzMsvv7wFB59lKMMAYs8PP/yw3Rd7eOqpp5owwQzBbH/ve9+z/2BdYfSRkzZFnFlqrC8PTGE2UhzAcDGNu/+uu+5qj4E1ggk84YQT7HfYyhdffNGOf/rTn1p5ww03WAljeMABBzTxmW666Vqu9ZnA1HaSksPUZ/zdff36Pfjgg3b8hS98wUr6K1ixaaed1n6///6eNKrEbxLH7V+TNRvQlwwgdWKVL/G/MLnhSuff/OY3JtO3vvWtpk5YQdz8wftShgEEe9hH2gcMsbt9OJvE+waboi/j/Tn77LNbrb785S9bOe+881rpt/e8/jilnWTJ302/yQGsoE05gI2GHEA5gHIAGw05gHIAcRrlAPbkmPQTpssBrOBodPBSOYAVwJUDKAdQDOATDTmAcgDFAPayhnIA5QBWcCv69FI5gBXgTlkFzO39RNB0ELGFA1DZpFjYaaed7HYPPfSQlf5UbFZiW55ddREI9WD6w18gMOOMM9pjKBdccEE7ZuqEKUe2BILGB4+nn37azmeqyKfw//SnP9l/88wzj5WPPvpoLVPA1OGWW25pap/pOaZBcOyY+mF64sYbb7RrmJZn+oSpU9JcxMwqdWqrrhhApuyYAmWalEU6M800k1WZKRrkdL+x6Kfd7hmdcgBhDQgTYCprkUUWyYQXmyLNCu3l+9//fvN8pjCr7gSy8MIL2z1Z1ETAPVOLhBS4c5Zcckk7NwwrAHsWRoRs+kYbbWTX5U3HZQGRMrWVMgUMnqQMcs8CSxhPFhMhP3XlWkImfvzjH1tVr7/+eitpX+77PvvsY7+F4SHut9R2kjcFjB0RnuLuu8suu9gzCTNhup0kyfRjhJ8g12abbWbXIX9/mgJmapcpU8KO/vznP1ud55tvPivpC1gctc0229jvLPBx38O8h76dFZkCXmihhexS+htCbFiURmoa//68b+h3mNolTIWpYfpa5DrjjDPsNiussELzdrHFLNoKLqsH0W9JCMgB7HX85AD2xM7JAZy46ZSNAZQDKAdQDmDSq8hOkgMoBzDdWnrOFANYFDHv/CIOYJnHhElKjz76aLvNcccdZ+UVV1zRvO1qq61m37MC5KsygDyEkdfo0aObz/3Sl75k32EgCaKG+Qtl4B4wJQTCs4jE3YukxCxE4J4u6WyVRSDh/qWM9t0zr7nmGpODUTOJqhlBhikIFltsMTsf5hLmsL86gMhHahQS2DJqvuOOO0wegvV9dnRSMYBgzvQigeNsbQWTizHCMsDu3HzzzfYXjLn7zoKMLPa9yCIQGCKYIdIekSZk+eWXn6jJw8zwbILyST3C4pCvf/3rdu2ZZ55pJecXWWAUYzZSGEBWkPsLWkKm7/e//73VMdxCkLqCx1133WXnucVo7uPLwiIY0pL4jGcdDiCK8BeXkL4FRnyZZZax00hXg25go2B0Sa5MGhjSKLlrmS2YVGlgQjnDbfh4N7C1KJkbnK24D7MZ7ntdDCBsPez9McccY88C71VWWaXZTsLFZtSBdwtb1sHk0lf/4he/sHvwXvRnqPL64xSmfKJG3GU/yAGsoFA5gI2GHMCeVY5yACeMGjNmTM8SyeBTlgGUAygHUA5g8RcU7UYOYP6MjBxAMYDFW5d3RVkHMEx4GhvZMxoldmPPPfe0Whx00EHN2hDblDXiqYsBDNNx+CN5Rm9+qgX3/2uvvWZ1JLEqjMHVV19tvxNDRYyg+w1Z2EaKe7oGWwcDCKu3zjrrNPEjBu7888+338Ac9oXOFOaSuCVYSqbAY3GdPDD1xVY1BhCdkbYCxm/LLbe0qowcOdJKWDPiSokbcv/1JQPox8o+99xzVrdvfvObVpI2iXYAm4eMpPL4xje+YecTQ/frX/96onZeNQYQew1TanBfP3lzu/aNTRFbS3wZTNJll11m9Sbhe7v0N6FwKS+2FAaQ+vkprBjokLgd9rJd3cK+jlhZdOXqzvZ8JML2+7DUdpKSBsbHKeyvwq0esUPYT9oLiaFPO+20Ftt0B7Fk/Kl9V9FE0GG/TN2RiWPY/e22287qzvZ2MH9+rGzdaWDAnrpkJf2mnYRpusLf0R3xyltssYXdfvXVV7eSNGkxnaS0k4k6ji77QQxgBYXKAeydypED2LMYRg7gxA2qCAMoB7B3KlEOYD2LQLK6eDmAcgDlAIoBrOD+9W5xdd555zWZlPCGWaxZ6CQQa8O54f+MxNkSjk28DzvssObjGPUwKvJZh7oYwDywYMaIJXvmmWfsdJg/Shg/GDdGnSQkdtcQfxfGPhVJpprFnIWjzt13370pEqv5iBtj9R/MBvVn9ExcCrFyZVZq5q2eTWFoeIn5csE8haxTOC3E/zAasGZscZfFmmXpP8bQuGtSHEAcP2JE3XXE9BALR+wfTBmMC9fSBojvIj6Lbd9SGAEXI9kuqTVy+PnNqnQgtGtYV+QiwS1xsTCfqVvCpbzYUuwLG/FX7MKQ/+AHPzDRiYkLGUCupW8j4S/tnJgwd49JwQC201sYhwbT73TuPiSyJvb3i1/8YvNWefop0nelMIB+smMYU5hk2HtW4NL2aT+wr+iIbQuJDXQCxWLnHCNadzuhniEDGPbbzEj89a9/NeyJKyUpOSvO3X9h3K2v95R2UqV9D4RrxQBW0FIKAygH8MkWR1AOYI/BxRynlBe0HMBPDEs5gK2dWMqLLcW+5AD2pqiRA9hrY0XSwPihPbFXrRzAGEL1/y8HsAKmKQ4gL2l/VSVsE6NjYnwY+cMuEfvGitpTTz3VasuIjZWd7jfiOViNR54yx6LVzQD6o09iZIjDYGQPu0E8E/Far7zyisnAKjpG/2zn4/7zWSBfPUVG0Xmxc4wgfZ3AvpA7DnnIE8ZqQeLSWA15zjnnWBXLbNdVlgEM4/r8ETLMJU4RzGTICIIBrDJMBzGaxGM52Vhdm9VUYo6suyaFAYRBgu1z17F9HTZN3bAlVofDzq699tpWRVbgEu+YytIUWQVc5MUGbmG8IDq499577RRiHbk3U8C0/75mANEJeeJcHWkz6AbWtd12lvRhsE+sAl1qqaWa5gTbzBaQ/r1i9oVtFY0B5OG0C9oLzBcsMtttwiKffPLJdmm4fV3sNVKk78pjAKkn/ah77v7772+PJx6T9ordk3+SdgK+bAfJe2XYsGFNMfJsrU4H0I8Z55nUD1nDupA7kL6a9xHtnfbihOH+WauaUwZKMb0O9P/lAFbQoBzARkMOoBzAOhJBywGUAygHsGcHDTmA4+ytLAewgnOSeKkcwESgsk7LcwAxXnItETPj7sPK2DDWAdaMFaUhi8aOIORBYtWTuycj1wMPPNCqCsPmRk91M4D+qI1dAsjlRd1gNb/61a9afRiFkgGeWCKOfVnaxdMVGUXnMYDU32ftYCaIaYKdZVRMnAkrItmdxMV/uk9fMICMdNldgdXgL7zwQtM82SgdxoKccmFeRvQE68T/MHCk93E3jrEBZRzAMMkzO6vAqPqYIjc2BVtMrCjxZTCExKwdfvjhE+kmtjl8J2IAw7gyt6ON+7Bjye23327H9BW0FWJ8YTb9vIcxndSRB5BnkJ/Q1ZEdYshAgA22y5fJbAUMM+edddZZTZuFiYK58hntTjOA9NOskj/++OOtXvRLOKX0b0VXZCNkkb4rywEMp0f9GF3iEclcQNtqlz8Sdp82R66+1DjmOhhA2sTbb7/dtAPYVUgF+l7y/2GP6IqdTJg5453nM8jTTz+93Z+2RL/m7iUGUItAKrh/+YtA5ACOMGzlAGabWOqLzXdk5QD22JQcwLhTLgcwrWuXA9hoyAFsn8M0zYoG7lliACvoLosBZPRFHBujZ1bFuscxYiNei5EaKzJhZ2AKiD9jZLPuuutarcnd5r7PP//89huxKXWuAg5TJmSxXTyPkvgmOlhw+dvf/mb1hJmCGdh3332bmmiXSqXIKDolf54fywj78PLLL7ewRoxCYV/IMs8qZnLS9QUDSB2IdQEzRrmu4uwvy2h52WWXNXl23nlnK+nsif2DiT322GPtf+TzWZgYa1aGAcQu2FWGFb/U19WF3TbuueceqxvXhPsVw6DBALC7DPu7Fomdq4sB9FlyGNtrr73W5GD/XH7H9tAvbD4zAcQ0wkK5e8D2ZNldCrORsgiEduj3M8Ql0m4POOAAk4m+iXaPzljlz0wBrCzxW+7arJxwdAapA6WiMYDhLABykNcTW2IHEFbHgwl1TmXNivRdWQwg9YXtXmmllZr9JfHffgol9yd1C+PfWCULewsr5rfz2B66VVcBYyd+vlFyLX7wwQct7Z16hdjT7xEzzzvXj/ldY4017F7olzYlBrDHfOQANptR8S9yAHsxkwPYsyI19ZP6YvMdWTmAQw1eOYByAGlnZReByAFsNOQAPtGIMeWp/flAPU8OYAXN5TmAsHisJmXE4x7HLhiMVIhxgAFkBRoZ2on9++EPf2i1ZacMYoXcb7AcWWxH2RhAGDK3B6/7kD+KHTrcb+F+rMAZZm8npg42k3xaMFMwA+76doxTkVF0CgPoq54Xgs8Kuv/5nbhNdkJgZSoMWl8wgNjQIYccYlW//vrrrWT1n/se7uRx5ZVX2jnYEMwRrBMswZJLLmnnwWgS++R+y9uBIubIuutTVgHn7RCAnmBdqDtxaKzUJq6MUX/qvszcv85VwLAS7t7EHx111FH2KNoCMmPvxGHCPpEtgP/9OGL6AqbDffuriwEEb2KzXN2JkYWVhNWEnaGPIMfmP//5T5MZncCw+TGmYfyg3y5j9lXEAfSZRr6zjyxMH7nz6HvZ8YT2Q7wtK1HJtuDq7Pfxvgzue5G+K4UBXHTRRZuPwM7pu2iv2BF1Jt4O+6PNM6NELlB3Y0J3st4ndcQA0q/CXrpnEgMbxoJyLmwhsb7MWpC/EDti/2l3z5lnntlwAhP/3ZLSTkI9dtuxHMAKGpUDKAdQDuATjTJTwGGzkwPYaMgBnPh1JAewp6WEU8ByABsNOYAVnJfPLpUDWAHDLAeQkSUjJ0cxuw+xb+47KzTnnXde+4/4mGeffdaOH3vsMSsZXe6www52TO45WLfUvUGLMoC8jImHY4TFyJGVfa5OrMRsx9q9++67VveHH37YSnJWkS+Q2C+3TyafdnIVGUUXZQDbmUG48AIGELlhzPIY2Kx7p77YsqaAYSdglmAx3HN4MYA3ecxgl31myp0Pg/SjH/2oxcZ8JrQTMYBlmh32BwMAe8yqX2Kbskb7Kc+rkwEk/6V7LvVi5Sb5C2EsYGHXX399qyY584hlJPaPJOruHHY9wAbAxjFxKcxGXgxgmBuPNuyeS3/24osvWl3RBdPyZCG49dZb7f+QKYd18mPnOh0DiPPkM8LkHz3yyCOtnsOHD7cSWyIODfYMZh0siAmkP3PX4sBntZcifVcWA4h+//CHP1g90YP7HuZNxb5Y0Qx7ycwBdhfGWtMX+zabxaLXwQDSHv1YWRjU0B7oi+jnYJGZ+Qh3yvHxz9uaM6WdpPQbA/kcOYAVtCcHUA6gHMB6GMCUZigH8J0mTHIAe6BImQKWAzjWsJID2NrLyAHUIpCU907bc/LyADKagS3z42hY+chIhxEbK05h3Ij5YcVp3r6GeYJUZQDZJQPWjtXL7pmM6MPnMwpjlwPiOrg2lJHVy+4+fbUKOEX5Yb4qVsmSe4opYBgRdOXu7Y9uw2eVYQCpC3mwYO38GMBwxd+cc85pjyZuk9gx6kMcKmW4mCeGUUwO/yXtYlvL7KCB4zdmzJgW9oMYWHIxFt2dIUsnda0C9mNjr7jiCnvUXnvtZSVsGTbEymyyAyy22GJ2HkwmuSf9OFlWEN9www12LkyuuyblxZayChh8/Ni2o48+2n6GjYE5I+aZmC5i/GCgyaNZJi4zZcecvFXAWbGMp5xyiskB00fMK33P008/bf/TfnbccUc7Xm211axkBsDfdSKvrVRlAMO8mbDE7pl33XVXi11hT8TI0uciM+2FuGYYRH+V+cYbb2z3bLfKvOoq4Fi/4v5Hb+gEHdDOYTjDfLop93bnpLST1HsN1PPEAFbQnBxAOYByADvPAMoBvM16KTmAY+4Pu+sUBlAO4GwGmxzAVuuRAygGsIL7l58IWgzgp4atGMBsE4sxZ1kMjRhAMYBYkxjAHiTkAIoBFANY3o0RA1geu2bn4yj1kSNHZt4JR5DpU3cSqRKgtmeddVa7lukGpnPKTvmGFSk6BRxez/QmyYMvvPDC5ilM6YTTndSdhS4kk11rrbXsWqZQuD5voQEPKzKNUvciEBIsuylC92ExBektmE4hKN+dE24B5uNaxgHkehbpkFycgHv3P1M2nMNCIoLW/cUC7vyiU76hbcTk8F/SZaeASV3DNnFMfRPAv/fee1u1CDMo26TrXATitwemR0lYzaIvFoPRd4RbePFiQ5cs5HHyYW/o17e1FGajyBSwLwsLCugDSDNEHZluZMEaCd/RSUo7L9NOsqaAweShhx6yWxLK4r6jE86hvyKEg5QobFNH4mX67HbbrLWzvSJ9V95ewOjCXyhHXVigQoJk3j38zzGhFGy5Rkobpn1T+q6+nAJmwRDvDmzN4eQ+hFKkJnxHRyntpGxfMlCukwNYQVN5U8DcVg5gz0pnOYCthhZznPJe0HIAe1YsywHszRQgB/CCiQbhcgCnsHYiBzD7JS8HUFPAFdy//Cng8Mb+Nj2wMJxDA2UEk5reJbXyVRlA6kuwsM9EtBvR8ztMGSwnrEYZGYuMoutiAMOUBHvssYfBznZsBFyT4oMEue6c2HZKKcHteXJgU+2Scbs6gDOj6KIMTMzGYo6suz4lEXTec9ABaVBgoVgEQsqVqrLVyQD68sDa0I5o52FbiNXf70PCnSyKJrgtwgD696YO9FlMRSMLtsiionAWIy/lS5YNxOwrbwoYjFh0l7X93AorrGCPXWqppaxk+8F55pnHjtFZ0UTvoSxF+q48BpD7ZiW1DhdNtLMndIhsXOenk4mlfupLBhA9EgNL/r+bb77Z4IBJL6ojOYByAGPvt9z/UxhAbiAHsGeaWw5gj0WkvtjkAPbajBzAnq3w3EcOYA8OcgB724ccwOLbcWoruEou0OC+uIgDOCmRqsoAhqPOcLu0PNkYSRaNz8i6Z5FRdF0MIPVAZtjP6667zv6CQWDLqNQ0F3U4gJPSpnh2TA7/JV02BjB0esK4rbxkr0Uw6hQDGNahbNB6qiwpzEYRBtB/brjFY9gX8H8YI1eU+Uu1ryKLQIr0W/RXMVY2VSdF+q4UBjD1uZ04r85E0Cn1Q28PPPCAnU7aG5Lyk3KoaD+Q0k5S6jeQz1EMYAXtyQGMgycHMBujmONU9gUd10i9Z8TkkAM4Md5yANNtMGZfcgDTsazrTDmAdSE56e8jB7CCDgabA1gBqlouLTKKrpsBDFkoYp2IOyka05j6YuuUHLUoJGEqu04HsK46t7tPXzGAfSFHbGqrWwYYKQ5gp/FOuX+RvksMYDaiYewisy1FmT/uLgZQMYApbbftOSNHjlxhwoQJd7rUH2TEr3TDDl3sUtC4bYCGDBmy4pNPPtmTNt77IMcRRxzR7+Vw2e3byeFEQha3QpTs/nXCGgb04/gVneJ+7rnnGm7f1JhOOiVHXZjE5PB18rOf/awjOqlTlv322y+qE9dOOmFbdcoxqdtJnbKktJNu6ruOOuqofm9fBxxwQJ+3ExxASha2lXUAXd8Vayd12XF/vY8YwAqaGTFixJaTTTbZRRVu0aeXfvrpp1uNHj26J3mS9+kWOZxI3SJLt8ghnfRpE295WLv2Lp1IJ3UgMBjeJ3Xg1J/vIQewgnYWWGCBYePGjVtn8sknf37cuHEfVbhVRy8dOnToVOPHjx8+dOjQm5544omencG9T7fI4UTqFlm6RQ7ppKNNO/PmsfYunUgnVRCI2Vc39V1VcBoI18oBHAhaUh2FgBAQAkJACAgBIVAjAnIAawRTtxICQkAICAEhIASEwEBAQA7gQNCS6igEhIAQEAJCQAgIgRoRkANYI5i6lRAQAkJACAgBISAEBgICcgAHgpZURyEgBISAEBACQkAI1IiAHMAKYHY346jgAAAgAElEQVTLaqdukcOpsltk6RY5pJMKHUzJS2OrNKWTksBWuEw6qQBehy5N0UmHHt1vbisHsIIquiVXW7fI4VTZLbJ0ixzSSYUOpuKlygNYEcAOXC6ddADUirfM00nFW/f7y+UAVlARu050S+b2btp14tBDD+33u5q4OsZ2Ajn66KP7/a4A+++//yTdnaVCE265NLarSad3mekrOdxzukWWbpHD18lA32kGnRx++OEd6YPD3ZhoN+wMwv7zsfbkdsg6+OCDc/uu2D0G+v9yACtokH0ou2XvxjL7zrKxPdvzsC0PjZDGCsxsmZbaSH31xPbPdeeik3PPPde95AprF3mod1j/djdEHn9LuDwZ3d6g3/ve9xoTJkwYNWbMmPvD+yLHxRdf7Ka1C8vRVxc4nXznO99pK4evkzL25cuBLiaffHL7GVsLba6s7DH76pb9c+vQSdg+aDdhOy+7TRf3GYw6ufDCC/t9m8/ba5p2cv7555fqg9u1X94x7777rp1y+eWXW0l/4Poh95liiimat8izP9cHb7PNNrl9V9m+ZKBcJwewgqbkADYacgB7DEgOYLYjW4ezQROVA5jWWcWcpjp0IgcwTRepjqyvEzmA2djKASxmcylnywFMQanNOZ1yAHEmpppqqpYRzkcf9ew2B8sUjrrbieJeCFtuuWWUbUplaLKeO3r0aHv89NNPb+UXv/hFKxmtUeeZZ57ZfucFUoQJLPJiK8oAUh9GjO+8847V8+2337by448/tjLckBzMp5xySvs6xxxzNNWAbFkyigFMb3joZty4cXbRa6+9ZuW0005r5YwzztjSLtLv3HpmzL7qZgBpR5/73OdabKtdu/7Pf/4zkW1lyRqTw11TRBafBcfOaRd//OMfrQr33nuvle7Z7vO1r33Nyh//+MdWlmVpY7IUkSMLK9ijdu2adl9l5gJcttpqqySmvKgDiP20m60I7SkcrNKuUtuN00lfMoAwei+88IJVcd9997XyxhtvtHKWWWax8sorr7RyoYUWaorCtHCWbGIAGw05gKlWn3GeHMBeUOQAygHMmsou6mxkNUc5gD2oyAFsHyqROngN7UsOYKMhB7D97EUF92BAXCoHsIKaOuUA8sL729/+ZrVzwarus+GGG1oJy5YaX1MXA0i9YCJdXVych/scdthhVs4///xWzj333FY+9dRTVjKS5vyFF17Yfv/kk0+SNRBjA3xnI4UB9EfGH3zwgdXj7LPPtvKGG26w8umnn7Zy5ZVXtnLMmDFWPvPMM1aig1lnndWOf/7znzfl+frXv94im88E9jcGECyKMLJOuE7GAIbxmNjOAQccYLiOGjXKylNOOcXKOeec08qiLzSUFLOvqmwTz4HR+O9//2s/Pfzwwy22BbsWhld8+9vfbtrT5z//efuepa+YHO66FFlwjl566aXmc2+99Vb7ftNNN1n5yiuvWIlz+uijj9rxD37wAyuPO+44K7lXGfvKY85S5GhphJ8dUB9mKB577DH7h/4KHa244or2+/Dhw1vwTu17U23L10keAxiyxu66Z5991h7z73//uwVrno2dcS2yzTbbbHbKl7/8ZStT201fMYChjvbbbz+r5yWXXGIlbeCkk06y44033ngiVcfisBUDmNU69FsSAnIA5QDKAezcIhA5gD3jc6Yn5QDWxwDKAWw05ABqEYgYwCRXL/ukTjmAxHT86Ec/sgefddZZVjICouTF4P7LG+nUxQAycnzkkUeagKy//vr2nbiskEkKY+tYqQXTlhcnF6JehNlIYQD91WIwGjvvvLM9Fh2stNJKdrzjjju2jDrvuusuOybm6ZprrrHjueaaq1ntc845x77DHvgj7L5iAHnRUVI5HFf0BYMTLrSINY9OMoDY97/+9S+rxtprr20ljAd1RWcu7YT7hKuEYzLwf8y+yrJNYAxzDit222232aNhbmD+0AXxdrDkDz30UFMUWJssJiomh7tJiiw8nzg/d90WW2xhdeA/+iL6AWR766237Dz6rmmmmcaO62bOUuQAND9Gjvr99Kc/tb//8pe/WPn6669bSd8w77zz2vE3v/lNK3fbbTcrYZ+KsGZVYgCxIWLaiHdzdTn11FOtTu+//76VYSwgsy9hLCCzGsxaELft7uFnMwjbT6cZQNovszIHHXSQVeG8886zkthf+uRDDjnEfkcXqSyzYgAVAxjadqFjOYCNhhzAnqB3OYD1rwKWA9gTVyoHsP3iCTmAcgDlABZyW1pOFgNYHrvmKLquPICMfFiB+sMf/tBqx2onmA7i7fwRXV8wgLyQ/ZgglwTYfWAzGKEyemPV79ixY+084hevuOIKO15uueVaXnJ56ijCbKQwgD5+H374oT2a1YyM/IkrA1+YDxiCl19+2a7bYYcdrPQD9X/729/ab1mxaZ1iAMO4MZgOWDNsjJWzDzzwgNXxF7/4hZU49Pvss09TFTHb6lQewJCxuPTSS61Op512mpUPPviglS6htvvsvffeVhZlAhA0Zl9FnA3fjpEDJoaYxb///e92GvGwrJylDV177bX2v4sJc59bbrmledvFF1/cvmcxNTE53HUpslBv2rK7jhg/bHr22We3epCxwCXWdZ877rjDSnQ2wwwztK2vj1X4PSZLihzcc+qpp27e/swzz7Tvu+66a4sO9txzTzumnyL+2i0ycR9YshNPPNGOfcY/xppVYQDpe7GZjTbaqCkL+mHWApaVgQO/oyPaxxe+8AW7B/n0VlhhheY9/TjvLJ10YhUwMmL/tGvXl7sPcu2yyy52THunT87DP8vGxACKAczre6L/1c0AygHMhzz2MnBXF0kELQew0ZAD2GtzMfsq4mz4liwHsNGQA/hEQw5gfv8uBzDqctR+ghjACpDKAWw0xACKARQDmN+JyAGUAxgbXPiD16xVwGIAxQBWcFXaXioHsAKqdTuATCuS/mW77baz2jEFR7Dvuuuua7/nJbn0xaprEQj39IOMmX6455577G+mr0mnwGIJgqwJ4D355JPtfJeg2n3yphx4bpFONGUKOIulCdNVhEHrTKewMIGFB6QoYQrJ3dvt4+s+/rQwz6xzCthnMrGJ008/3R5FAD/B7aS9+NKXvmT/u/1v3Yfff/WrX9kx4Qbue16geycXgYDVe++9Z19JZ4HNoIPLLrvM/l9iiSUKtQtf/+57zL7KMoDhc2jnvNRp3+gR3bHgYNNNN7Vb0P7dd+7RyTQw1Nu3r3CBTVh34rFo9+imbLLuOnQS5pF0chHiQJgGbXWvvfZqsSHaO0y5277Rt7Xf/OY3TfXmLWiLyeFugn1lOYDg/uKLL9rzDjzwwOZzWfzB80lJtcgii9g5jz/+uJXogqlhppGRwZ8ij01n1zUF7L9LaN8sECScgAVE9K277767ycO1Rad+AU5TwJoCDvvmQsdyABsNOYA9K0/lANa/CITGKAdQDmBsz+y8RNByAOUAZr3Y5QDKASzk8IUn1+UAMsJmJMP2SSyUYHuxq6++2qpAkuXUkU/dDKCPA50rjASyMCpdZ5117PT777/fSkafJPM98sgj7XcWYeQppMgouigD2O65MABgffvtt9uppE5g0QijbRgFd05eqo46GECw9xlGRs3XXXed1XO99dazcuutt7aSRSsEk7N6Gf0RED5y5MgmJHnJujvJAMKQEbAPtrDLe+yxh9WRMIQiKYWy9B2zr7oYQJ6NfLDMpLkgtQo2BSPIwiS/HZWRw11TtyzYIu0amyQtTJmtH10969AJtu2n0SEdFemrmJFwiYHdJ0yezEID2Cn6LQZ+7hoWUWS1l5gcvk7yEkGDo99fhtvUMctCqpoTTjihpZ3AxrLwCyyQOa8PRidVGcAwx6e7L4s9SPvCzAMzXjCV4aIP7pWV8op7ZL0r5QDKAYzZeu7/cgB7aXg5gD3TLXIAJ24yZZ0NOYA9NiUHsFoaGDmAcgDlAGa7MooBrOAC1uUAsjz/qquustrAbDC96kZb7sNoOpX5Q7S6GUA/biMcdfHfzTffbI8nfonYNOI5SBBLHAopMvLUUWQUXZUBRA4YAhw7kjsTs7jMMstYlWFtV1999aYIeXqqgwEMk8O6B//pT3+y58MaL7300nZMXWA0SSTLll1HHHGEncdx6hZ9fcEAvvrqq1a3TTbZxEpScxBnBjOWWud2Nhazr7KOLM8L953FttjKCgZkjTXWsEvQyVe+8pUWHca6rJgc7vqqsoR1oL3AxmKbxNbBcqYm6fX7rrJbwYXbprl0XXxI20TcG0n3Yfbor8L0TzDnsGb+do/oMUvWIjpJ2QouTPbs5MLRJVUPzDksJfXaYIMNDAZiSnn/pL5X6kgETT9ETKOrD5iS3omdb379619bfdEVciAvuiIm2L8nMxnTTTed3cOP6RYDKAYw1pfm/i8HsHfXBV5ucgDlAIaNpqyzAQMoB1AOYJkYQDmAPbkO5QA2GnIAs10ZMYAVXMCqDiCxDCR4ZWUaLzxGnxdffLHVEmagKNNRFwMY5il0dWJEzCpg4pbodP785z9b3YnFIPEzMWowgllJrcMVuEVG0VUZQHRz/PHHW/2JS2G0TH2Judt3333tPLbziplVHQxg1jMYFbdLBvvCCy/YZWxtBVOIvkh0m7plV18wgDBlsC0wgLA4sEzInro9V4hfzL7KOrIMiu677z57JAme//nPf9oxjMeKK65ox6zEJslw6mp/5InJ4c4rK0s7u6Y9sDoVOyKesWiflSpLnhyhAwjD6u5Nu2XVMn0wyYVHjRplVaDe4RaX2N4rr7zShAS90nf4baiITvIYQB6WtTIbhhPGbPTo0XZ6mFAd3bCime3w/O0i89p/FQYwjNfzV1GjC5w1YmJXWWWVFl2QaYIZs7vvvtv+p18gztn9Rgw02RqIi3TyiQEUAxh7T+f+LwdQDqAcwCds6qYdQ1PF2YABlAP4v0L9VBFnI2/1bJGHygHsdezlAM635JAhQ+5zg0p/MZnvjOJsygEs0srqP1cMYAVMiziAfuwLLBJxcuSeYou1MCaDkR0MYFGGoyoDGO7JSkyig478WLAU4cpG5GZrJVaZLr/88oY8cSfkoXO/sYqNToJzirzYqjKAPPuxxx6zehJP8/TTT9sxo2u2wiKehm293Dl5euoUA9jOnHkpUU9itcgNxjZk7TaOb3ffTjKAxAk988wz9vgll1zSSvLjYXOsamTrRFjl1JgmZIvZV1nWDDnIX8ZWdjx32223ta+sRA1z7RXtomJyVHHKw7rg+MGU7bTTTnYKzIuL33Of1BWm4f1jshRhAP0FWsccc4w9ilX8xJPC4H/rW9+y/8OV5bQj7sXsjDuXuFr6704ygFn581ZeeWWrs8PMfagrfS8xdMTK0Vczy8EKaL/vapdnsuwqYGyblfzf+MY3mipnZTMMOPk+sTFmL2BpyS1LP8t5fk5ZslCgL7a/c32DGEAxgEX71pbz5QDKAZQD2DkGUA7ghFL9U8xpkgPYaMgBbDTkAD7ZcE5v3uxFqQY4gC4SA1hBWUUcQD++glggmD9Wba222mpWmzCWIYwB7CsGkFEmOf2I0TjjjDOaqPGSDuNMOIFRMLIyZcro9B//+Iedyr3d92WXXdZ+Y2UtI1fHxqXup+kzgGH8ThGVozfuwXQkcTPk0QMTRq3uGXmxW33FAFJ/bIqcWpSMtsvm0OsLBnDMmDGmMmLkLrjgAjtec801rWTTeFio0MaKxDOWXXGaZ1O0I2L9iLe89dZb7TJiF8kxt9hii9nvRds5dZgUDiB1hZ0hbgsGkLyAYJHVX5RZPVuEASSmzOEEG8tOOdgWcrSLWcRpYrcmMjO4e15yySWmgk4ygHm40YdiZ2QAoD+FCSRG8Prrr7f67rrrrlayAtp9j+1qUpYBDG2duHf3zK9+9atWD2L7GFy/9dZb9jvnkg8XXYQsNLscuWtg1ddee227B3p18okBFANYxBeY6Fw5gI2GHMBrzC7kANa/Ewi2JQewWDclB7AHr3ARiBzA6Q0XOYA9Dq4cQDmAxXrW4OwUBzArczs5p4iHI3bjlFNOsScQb0bOOc7r6xhAWDpGu7BbjMhcXX1m0x0ziqdklDbzzDObbKwSXnDBBe2YGJy//vWvTXTDXHXEcTz88MOlGMAwLjGVEcoyDuLLiHWCjfrlL39pp2+//fbNy/JWPnaaAQx3CaFe7AvK6H/48OFW3ypsU6cWgWAHxF1i/8QtwpiPHTvWZNhll12s5Hd2P/H1mJeHLuY4lY0B5PnIAzP8yCOP2F/EAIargPP2+83ruGJyuGurysLzsTNiR4kjo6/YYost7FTawptvvmnHPjsOLjPMMEOLWE5XMVmKMIB+HkBWwBKP+f3vf3+iemVhTF2ZlfF3AmHnpk4ygOGMhKsjsa5gSgwcq33px7mW9gMGxNaSmcHdM2shC3iUWQUc7vxBzj/6IXdvcsKyWhvGkh1LYPbpz6kPtkc+UGIa3f+8W7PYZTmAcgDz+tHof3IA5QDKAex8DKAcwE+jfZF/QsxpkgPYaMgB7MVADmD72YtCDW8AnqwYwApKS3EAGfn4rBPMHjFAe+65p9WCHHnEl8EETioGMGRgNttsM6snK7jc93C0y6iT0TzTd+1gztq/kRHdUkstZZfdcccdVhZlAGEZwZuYGDo8n4WAGQpjbDhmRMzqX1acwmCyMhom0NU3L/aw0wwg9b3hhhsMux133NFKYrSIySy7OtNnAzrNAD733HP2OOIWWdFHnBl1IdcX7AyrMueff/6m+eXFZcYcp7pZM/oEcufdeOONVk/KWWaZxY7rXs2c6gBivz7jEvZnsE30FbCw/D7nnHOaDPPMM4+VzCYQ9+x+I8aXlbfYqusb6tAJTCqx1+6ZMJPEx8EOttuRCPnIMccOR+Ssc/ckD2CYi9P9F5PD10lWHkCYVvIOEjvtrtt8880NW3SDvYR7BNNXs7UgfQDvHWLr3L2yZPDbfNEYwJABRNfYurs37ZQ+iucRx+f6TPfBHqkjM0SwisQGu3OZ2chi/sUAigFsvhjKfJEDKAdQDmDnGUA5gOMLdU9FnI28PIByAHthlwPYi0UdU8ByAAs16Y6dLAawArQpDiC395klRiWwL7BlsBMwgjAZxGz0dQwgdWekxSo3csi5/8mbtdJKK9npjCrJzUaG/UsvvdT+J6dbHhPDfzA85EssygCSk2/RRRe1Z5OUlJWvxCX6o0pkJmaJFdAwFzAFyMVewMSdLLTQQk2L6vRewFmmC1MAA0N8GZiiB15oRfdmDZ/ZyVXAyAKOBxxwQIseidtiZwCm9ciDxmpCPzdjpxnAcKcDV+GQXQb7+++/3+Rhj2P2kT7xxBPt97w4rLxuq6oDiAzgSr4190z2J4dNYicgVvmyF/Xrr79uVSQuC2YN2f/97383RYCRp80RVzfrrLMac5bHMKewsmGbcA/eeeed7fm33XablSziIi8ddeFadMiuM7BofrzZxhtvbPfKWkFbRCdZDCCs15133mnP8ONbYcbXWmst+48Y2DAGkB0zyK7w0EMP2fkcI1s7GVBYFQeQGR+YP+Lh3b3fe++9FrMGR9o/dsn7E/aVmMH111/frscWfTmy2osYQDGAef1o9D85gHIA5QB2jgGUAzil9UFFFy0VcTayGEA5gL2LVuQAThx/Kgcw6hoMmBPEAFZQVREH0H8MHWwYT0NnQ5LSn//853YZq8sY4RVdsVl1J5AwfsPf/xIWc7bZZrO6MuoMR8Gs/uNan1UIVcALj9H4fPPNZ6e4uKEieQBZcbzBBhvY9YyAqSv3df+tuuqqLdWA2YCxJPaH0SirZ3/yk5/Ydax6JJt9zKw6FQMIw0L86LHHHmtVYbHKCiusYMdF95dtJ0+MoXHXpbA0eXjBQDsG2H1YLc/uMW+88Yb9fvvtt1vJnsFg4OcFy2s7MccpTw6YDfb3ZQWjqw/Pp63AjrGqkSluGHZY5KLtHAxjcsR0giwsvoFhcteRBxNGilxtlFwL606sLLsc0Zf4K34XWGABqzr39u8Vk6WIbWFH7lns/AFr7NhG96HPpW+gPcMUEuMI+8xsgrs2jLnzbTomh6+TvBhAWFmfOfv9739vj4IRY39vZoyIJSXGD4Y8XGVLjHeKLEVjAMEifJeQn9T97wYj7kMew2HDhtkx7QD2mfcD9WdGij45NWZWDKAYwLz3TvQ/OYC9WzzJAdzS7EUO4MTNpshLOqvRyQGMdkUtJxRxNrIYQDmANmhpac9yAHtNrAwDKAewWBvuq7PFAFZAWg6gHEAxgJ2bAqZpygEs1knJAczGSwzg1QaMGMAe+xADKAawWM8anF3WAWz3UKaAjzrqKDvl1FNPtZJkmaNGjWqhxFMrX3UKuN3ozX8+U75hvFI43Y2MYQLpLFmg/qH0i7zYXGAwaWCYOiRNA+l3SIrsnh1OG1BPNg8n1QAB6yQYJci93VZ47XRU5xSwn6bjxRdftEcyDUpg+mGHHWa/V9kWL0uWvpgCDh1B0hARvM50PfGYTK2yMMmfSu1UImicC3ZZYMrd1Z3pRaasmeqcaaaZTDTkILVI0Zi/UC9F2kneKmBwY8GTew6hELRfpquZxqXdTDvttFatMGkvdfX1gLxZKbNispRll9EXC+0YyFF/FoyR9J5peham0Uf7KYaqhBc4XJAlawoY3AjxePbZZ5tqp22zrR3hHWE6GHTBFDFbv7EIye8DY+2k7BRw3rsE2bCt0C7a9aUseCvabuQAygFM9aEyz5MD2AuLHMBiZLocwOJNj5e2HMB87GJOk+9syAG82MCUA9g6CJYDWLx/GohXFHtrDUQJO1jnTjmAMFMk8SVQmWDyoiOduhjADkKZdOsiLzbHADKKZ2RJagdG9WHagaxKhFvZwWxwrr+5eJIQn51UhwOYtc0gW9S9+uqr9iTSvsA2pQZIp8rSlwxgyIKgR1IRERROmbehfZZ8MfvKY5vQBbj7QfqwRzBELMSBuSFZctlFH6EsMTlSHUDuS6Jmd4yc/Eedw20Pi2Lfzt5ispRlAEPGnvQqMLfYFGwUjD9plegHUttTTA5fJ3kMIDj5zCrMMnYGI07bZ/HE3HPPbZeTZgw7LNqHVYkBTO1X+uI8MYBiACvZmRzASvAVvrhIJyoHUA5gUSckZl9yAOUAygHsiSGsOgVcuPPvwAVyAOUAVjKruh1AKsMom7IqMzDYGUBwDVMQhGxGljGEU9tFnYp2BlYHAwgLQKyoexZpKdg+cIkllrAqhAxNJcP3Lp4UDCCPh51BjzDjWRu/p8hbxQEM225ejGtoQ6ksUooM7pyYHEUZwNTnduK8mCxlGcCwT0BfsVhebKuozmJyFGUA/XqG74uYHsIEy0WTwcsBjCE8cP7XFHAFXckBrABeiUuLdKI+AygHUA5girnF7CvF2UhZ5CQHMEUbPefUoZO8p4U7t8gBjOtGDmAco4FyhhzACprqlANYoUqZl4oBrBvR6vergwGkFv5qZpwLtj8rOrovKtmkZACL1jV2fqedjdjz6/o/JocYwLqQTr9PEZ2kxACmP7n+M+UA1o/ppLqjHMAKyI8cOXKFCRMm3OlSAhBgW+F2HbvUBQe7fVSHDBmy4pNPPnlX+CDkcGkB+rscBx54YFs5nFzIcuihhzbIDN8xYCvc2GXAd3WM6cTtzxnTiZ8SAoePRLaddgCdbblM/O3k8HUy0O2rG9uJdFKhERe41LWT1L7riCOOiLb5Ao+u/VQny0EHHRTtuw4//PB+3we7lFF5fVft4PWzG8oBrKCQESNGbDnZZJP17F8zAD6ffvrpVqNHj/5dWNVukcPJ1S2ydIsc0smk6xjatXfpRDqpA4HB8D6pA6f+fA85gBW0s8ACCwwbN27cOpNPPvnz48aN+6jCrTp66dChQ6caP3788KFDh970xBNPjA0f1i1yOLm6RZZukUM66WjTzrx5rL1LJ9JJFQRi9tVNfVcVnAbCtXIAB4KWVEchIASEgBAQAkJACNSIgBzAGsHUrYSAEBACQkAICAEhMBAQkAM4ELSkOgoBISAEhIAQEAJCoEYE5ADWCKZuJQSEgBAQAkJACAiBgYCAHMCBoCXVUQgIASEgBISAEBACNSIgB7ACmN2y2qlb5HCq7BZZukUO6aRCB1Py0tgqTemkJLAVLpNOKoDXoUtTdNKhR/eb28oBrKCKbsnV1i1yOFV2iyzdIod0UqGDqXip8gBWBLADl0snHQC14i3zdFLx1v3+cjmAFVTEzgDdkrl9oO8K4FSp3VkqGHSJS4vscDDQ7atb2rvfTrql7zrssMP6/a4ThxxySNKOOd2ys5R2AinRofbxJXIAKwDOXsApezf6W3Kx4XhYUpUJEybYV66JbVAeEyF178aLLrrITaHGbtfyP3UbMmSI/U4ZbngfylToIZ+dXGQ/zd/97neFZSlTp7LX9PX+zJNPPrlVFX2hD8oqcmy11VaNCRMmjBozZsz9WfehnZSxr7L1KnNdzL6KtHf/+WCODmgb48ePL1PN6DWx9u5uUFaW6MNrPiEmC3Kcd955bvBX+untdNRuK8Wi7cbt/b3tttsmtZNu6bvOP//8Qjpp10eFfRZKrrrNpdPJNtts8//snXW8HEXWhocQ3N0hSCAEJ8CHu7u7u7vbhsXdXRd3d4eFAIsvTgIb3AkEXQjh+51zeebWVHq6qrt6bu69e+afmp5pqTqnqvqtt47k6qR0h+oiFxoATFBUkUnUAGAjqC0j9tAL2n2xdZdJtCrQZAAw3ONC/avIeDcAGJZ3zBkGAGOk1LHnxC5eDQB2rF7KPM0AYBmp/XVNzAuBF+8YY4xRf9Lvv/+u33/9tS173I8//qgl54wzzjh6PNpoo2n522+/aQljUJQRjJ1Ey4CNYcOGNbTh22+/bZDoeOONp8eTTz65lqOPPrqWyKBIm0IvaAOAzTvzp59+qn/+97//1XKyySbTcuKJJ27QB8xGbB8ropOi/ZHAbUEAACAASURBVAs2mT7DMa2k7zA+UhmBUFtixnuWBqj/Lrvson/PMMMMWu63334Np6fWn5uFxrs7TmJ2L5r3qtb/E2pLKgPI/Mx8xDhhLh5zzDG1kejGn6OZ/0KSMAYwW0LumB4yZEiDrJmbeD/yLuG96L9DQjrw/zcGsFYzAFi01zjnx7wQDAAaAMzqYrGr6KKgqVl3NgAYHugGAMMy6ugzDAB2tMTDz4udu2IYQAOAYXm38gwDgAnSzQKArBR79uypd/7888+1fPrpp+tPGjhwoH7/4IMPtJQBJZ8pp5xSy1lnnVXLxRZbTMsFFlhAy0knnVRLVj5FWJrNN9+8qa1DyEaLtsAOcSx1uffee7VOJ5xwgpbPPfeclpyDXc4KK6ygv6+zzjoNbRx//PH1OMYeKvSClvvQlrwt4DK2lSFZ+zaPUpe8a2In0aIAkHrAOg0aNEjlu95662k5ePBgLZdeemktd9ttNy2XWGIJLbnO1UeoHVXaALJgkrp8//33WqeXXmozLfzmm2+0pI1TTDGFHi+88MINfa4skxbqXzELPq2II0f5PmDAAP1tm2220XK77bbT8tBDD9Xyl19+aWgX9yhbhkCT3LdIW4rUg3FPP+JamOeYce4+L9SWsgwgLBJ96rTTTtPHyrwhH/oWTDlMH3Ow2PPJZ9lll61XN69tHckAMl7RBSW/U0/eI0XtGWPnrjwA6NtcihAPOOAAleULL7ygJeNaZCcf3iXzzTefHq+88spaTjTRRFoW3QkwBtAYwCJz2wjnGgA0AEinMABYjROIAcCkKUkvDoEmA4Dt5jUGAGtCDBTqdAYAC4mrU59sDGCCerIAICvfp556Su98yCGHaPnaa6/Vn8SKbJppptHfZpttNi1/+uknLZ9//nktocfnmWcePT7llFO0nGOOObRkBSffQyxNGQaQieHRRx/V51Hfueaaq96Wk046Sb8/9NBDWsJqDh06VI9ZOdO26aefXn/fYosttNxzzz21xL5DvjdbSYcYGrm2LAPYTH7IAAaDhvu2ctgKuffJYxpjJ9GiDKDvlS2hJ+Rz1llnaemv/mE0tt9+e/3/wAMP1NK1Wc1j1IroJK8t9PWff/653rckjIR8rrvuOi19FomVP3Xedttt9TxkUJQJDLWlCGs29thj19shIUrkc95552kpcpAPLCzMRf2CxC8dCQB9e6yHH35Ya3/hhRdqCaA/7LDD9Hjeeedt6IehpobaEsMAZvWH119/vWFc3HHHHXrM/I39GXMt/fOZZ57R89i5uOqqq+pNYJ7Omr86ggFkzGIzd99992nd7r77bi0/++wzLZdffnktN9lkEy2nnnpqLWPtGWPnriwG0Gcn2f2S58OQv/POO1ofdsD+7//+T49h0j/88EM9nnHGGbVk3K+66qp6TJ+U73ng1hhAYwBD80/u/wYAazUDgG1rKAOAaQygAcCkqajh4hBokpOLgNm8mhkANADo9w/6lgHA6sZ0q+5kDGCCZLMm0bHGGkvvCGuB51///v3rT9p0000bQIMfHwxmD/s6WDJWOGeffbZez7NCK53QC8G3AeRlzEpSYiXJB6by+OOPr7cFOy1YTbZUaAP3wI7r9NNP12uxRdt44431+NRTT63fc9xxx9XvPoMTYmjcF1ueDSCrUGyv5Lrrr79en/nuu+9qyYvtyy+/1GNW/tSJdtLu4447Ts9DVvI9b0Udu4qOYQBdOcFgYHOKrRLe2QsttJDWE/3ANtPeE088Uf9nVS3f82ybiugkry3IkT4vz91rr720LsiRttE/PvroI/0fJvDWW2/VY1ibWEaDjhdqSwxoYizDgMu9d9ppJ30EY+CBBx7Q4169emlZ1C6O+jYrQ+NdrotpS95z6C/Y/J5xxhkNbYRVkkDh8oHFufzyy/XYZZjzWJpQW2IYQOaze+65p94kWFnYpvnnn1//g4Vac8019ZiIDPRP2sl4P/jgg+v35Lu/WyAntJIBRJaMZQm4Lp9XX31VS9pGJIZ//vOf+jv2i9hvu3abIZ3IO6xZ7M8YAIhOeLbUB5lCKqALFtcw5dgEwqjfeeed2p5dd91VyyOOOKKuE+aArN0AYwCNAQzNpbn/GwBsN9Q3AGgAMCUQtAHApKmo4eIQaDIAWKsZADQAaADQAGDSrGsA0ACgMYBv1arwAjYAmDQVGQDMyQRiDGAbu2kMYOMYMwBoADBp1s3bRoFC/9e//qXPcNMUTTLJJPpbs/RobFFCfcsLVj6Ej7nxxhv1GKcM+R7abiziBOJvAeOw0bt3b30uFL1896l135mCY7YpMJrG5Z+tScIwuFQ+W7TcI7RF5zIbeVvAbF+xlSDXbbDBBto2toRcQ2L5HZn44QuQ+4ILLqjX33DDDfU+xdZk1vZDlVvArszZckdnDz74oNaH7RTkTBBytifZRjnyyCP1fHdrK7QdVAUARGhsGcrxm2++qT/jIEQfwlEExxXMEG666SY9f8UVV9TSdZKqKyXnS6h/xWybAmS//vrr+pPYhn///ff1N4zzCQjtB0P3s7ZwI7cfcU2zvpU33t1xEhMI2u1ftO/SSy/VauGo07dvXz3G6YhtxyeeeEJ/x5GM7bmO2AL2U4gR8kjqg4nOGmusofUjKLdvIuEHgOY6zHIwYZF7YJrD2HK7WtVbwO78xDhhDpt55pn10ThH0Sa2s+l/jHFJoyefOeecs17lPMek2LkrzwYQ3TDfyoPZsl5ppZW0HhNOOKGW/vxDH0Q3J598sp6H49G5555bb8cqq6yi37PaYwDQAGDO6yD8lwFAA4AGAKthABltBgDbPWf9xZQBwBFzTefZABoAbPPoNwBoALAZmjEnkDDOa3pGXhxAn/ly2YjY9Ges8nCQwID65ptv1jq5rGIe2xGyCWrmBPLDDz/oc3BsgNE655xz6jLBESU25AZyefLJJ/UeBMN1DZAJkwHDibxCDI3cLyYMDCtIGBm5buedd9b64OxBA9EBLBR1ccOVyLmwNjAd8hsr6iwj/9hVdJ7jBDJ3Q47cdtttWnUYP+pAgFuM82E0Cd8DS7X44ovr9Zwv3zvCCQR5u0HGkan7m5y3++676+mXXHKJlrBNsDME8S3qXBHqX6kMIH0I2TYLE0S/vP3227V9HKMj+Q2niizmPzTe3XGSxwBmhUa67LLLtE4wfTBgjONpp51W/4e1YQ7BuYdg94ASOTcUZihm90JYLHc+rE9QTlggNxQXMiUUD2FffHn6YZWOPfZYvTVMOgyo/AYr2IxtEv01c5yInbuydEKInU8++UTrdtFFF2lJf8MphbkMxwt2Y3CAc8N7tYoBdPUi310mk++xQcOZF9DZ+uuv79++HnKJ95TLJhoDaAzgCB2myA8GANs9kQ0AjqpdxwDgiCMolGnGvcIAYDvgMwAYDmod4wUMaDIA2JZb3gBg24xjANAAYBG8N8K5MYxAygN4GRJ25eKLL9bb8WIgqKr8FlqxxayiYZuYMLkn4TiwPcSu8a9Vq9apaDR57FGwOSP8iNwLZkfqLB/YthBDE7uKRifuaprgorAzhH+ZffbZ9XRkDQPC6hnmEnsubOnkGoJeZ8mmCgbQt9WUZ5Jm7K677tJ677HHHlrCXMCqcS22aoS9gKFxbQBha5oxmVXaAGaBQUKNIHMC23733Xd6OqkSscFCZyMjDEyWDSBsLPaZsLQTTDCB1p9+KGycfLCxpW9NNdVU+jvXy3fCkZAWyx3/VTGA9JVbbrmlrhYC25NaEPsrTmAL/8UXX9Sf7r//fi1hmWDcmEvkP9+my+0DobbEAEDu52aZof/Tp5vNX+iGvoTtMmyz245llllGH5XV76qyAcR2EuZenrf11lvrc7GBW3311fXYD0fDtfQZ+hPhkzrCBtDVbVXfYfcIdk975P7YZLN75c5hBgANACb1QQOAuuWqMjQAOIPKwQDgiEOqCAPoXg0wMABoADAUcy5vC9gAYJsEDAA2mrMYADQA2GEA0N0i9T1Jmx3zAlx33XW1nh9//HHDahp7rmarThoXu4r27c1YWcE24CkH0yL3x4u0aDor2kbA4rXWWquuC7z1sDNCduLtFss25XkBZ21X+ywEK0WYSlbTMGwwhfx/9NFHa/2xJQyB4ioYQBiiV155pS67DTfcsKFP+8GR0ZPPVOFBSLBi15sZT7pm9maxOokJag0zI4344osvtC0wwfQVgqsT0BZvbt/TOS89YtbADzHMMQu+PC9g2FYWCbCt4i0pH9glmJjzzz9ff8cb0tUtbd1hhx30HFItyvfQeJdz8tris15rr712XVwvvPCCfsdWFOZ7yJAh+jsMIBEMCNbN3EUgeDy4q5q7YgBgzGRP2yn9iAF4DZNCETZX7u1Hd3CfVxUDiFzdFHQEUMb8ZLLJJtNHM17pk4wTGEIYUeaIkWEDmKUT/30IueCTDP743mefffR2pPmT79jLGwOY3fvNCSRmVmhyTswLgUsNADYK0QDgW7WYaPp5oMkAYFtGAwOABgANALbbHxsAbMvzbAAwDG4MAIZl1PSMGACY5ekHywHDweodhsD32tp///21DjAG2AqxqnFXezBXeAXLKinECDTbooMBxH6HVfvee+9dlwlecFnpj/JEy+qN61ZeeeX66aykr7jiCv0Nb7Y33nijEgYwq16+nqgfQBX7GmzjkC/2N6eccore1vVqy/P2roIB5FkiFz54wrEa3nHHHfUvmD9/1QyDif3MQQcdpOfD2Mj3PE/vEGsm1xfZAnbttLDLpG6YG8B6wcJiR4oM6DfLLbec/hTbN0NtiRnveQwg/RibOmwZYfMYA/QlvJmZFzbaaKO6nvE4hTl30xqGxrurkywvYJ8BdL2PH374Ya0D3r4zzjijHpMmEraYOY70XMQQxUOVMS7XhrzMY+yXUwEgiynfyx8WDbtkMogcfvjh2m5i7blzcNb80koGcN9999VHMh6Io0e/R5+kI8Vuc7XVVtPr2NGhv4XaEjt3ZcUB9GXjzpewm8ytsMcw4NjM+nMZ8wRzH7bX8iwiZxApwbyAGzVgADBrtEb+FvNCMACYLUwDgOkMoAHAa7VzGQCs1QwANg8DEzOdGwCs1QwAxvSU7nWOAcAEfcYAQG7v2jaRDJ6VGLGyiOOEdxZsCJHlZ5ppJr0dKzzsb+S38ccfX/9jFYW9kADQECPQjKEBYBBpfpNNNtFn4AEo32EA3RdQjEgxSIYNwc5LrsUejYjunFuVDWBe/QDsyP7zzz/X02k7NnK8MM4880z9HxbHjQ+YZ4MWu4rO2wJGP9jGST2I2Qgogr3x40TSH/kdpmbAgAHaHmy93D7VLOtElTaArm6oI7Jm9Q5LA8MBM41tHYwIselcVjEUcy6vLTHjPY8B/Oqrr7R5eI7CJn3wwQf6O3aXpOyivcTdhDGUc7Eb5FyXRQuNd7k+pi30XzIQyXV8J+YeDOC4446rbcB7HmacTA/sIuTFxswal6G2FPECdkMM0beYtx5//HF9PP0fW0bm3n//+9/6PzrEHpoYfPIfbGFWH6uKAWTMv/zyy3VxEYsRVhUv8rnnnlvPGTRokJaM8U8//VSP6U+cF5s5J3buyssEwpyOt7jUB+Ye+bGzATAl9iUs86yzzqrtIE4uzDm2s/IfDHlW28wJxJxAsuac6N9iJlFuZgCwUawGAKtjAA0Abq+dywBg2xgLgSYDgO2pHQ0A1moGAIf3GzRoxCwz0UCgC59oDGCC8mIAIKtOMl/I4/BiXHLJJfXp4gwgH+xqWI3CrsFgEENLJnj5EAdNvvMcPLyI+yar0tALoRkD6NsCsdJ0c11id4J9RrNwMABgVrB4DRJjEFZU2oK9Has3bD5CNlruiy3PCzhL5f5WPUwqcjzmmGP0MtqH9zP/+7mDQ90qdhWdxwAiU7y05ZkwfxdccIFWYdttt9USZhI2Dd2SFxQGFi9mPLDl2hTWzNVJjBdwSG7yv++piQc2coAxgFEj7plcG4qXmcoAMlbdsYnnOKwNbDFjB7tS+hTyvuOOO1QcMDduDm7snbLyiYfGeywARBcuc0Y/h1GBeaTd6IB4gegG29JYe0yeHWpLTCo46u+yZnjvYtMI0++zzsxT1Id5AbbPHSfouZVxAOn7buYkbMKRPTLGdo768N7Ahpb+VDSCQ+zc5TKAfkaVRx55REUKWy/fid9JLm90ASv77LPP6jW0fZ555tFj8k1j0+iOE3/3wJ1fjAE0BjDmfdP0HAOA7YbHBgDbouzHfmInUQOAI0rUAGCtZgCwrV8YAKzVDAA+oX3BAGDs26f9PGMAi8usfkVMLC1Wyquuumr9Oux2sHnAfoaVGx5mMGEMcBgxvIaz7Bp8hkceGruKbgY28KCCTXLzxLLCZyXHatPd8pY6YNeIDR0ZNYioL8wLHzy3/JVpKxlAnu3n9MXbktyhbJeQrxjPVNfrOqZLVQEAYTbIsyrPhcFbcMEFtRqwyHPMMYceEyPr+eef12Ps0WCdYRDdTCAhL81W2wCiE7+/09exI8LuFc9m+lbfvn3rKgnlzE5lAH2mQx5M5h48s2FjmROwdcVLGHszxhRMjht/M8v2j0aGxrsLnPJyAcf0YxhBMs9gg4qdFtmLYM6KBowPtSULAPo7F7B82O1Ju+jTiy66qDaT8UJ8Q8YUczD219zD3xGQezBvYefo9rWqbADRiWtfDGM8dOhQ/RubUs5l7mJuYLeFDDodwQAyVxH5Ao92+rw7F/nxFBn/2FvjzQzLDuPPOCM3uNwzzzbdGEBjAGPmuKbnGACs1QwAtmVCMQDY3I6mSBgYd7CxiDAAOKGKxQDgiHZaBgDbTTQMAN6u48QAYDysMQYwXlYjnBkDAGH1Fl544fr1rH5gZ1gVE2uKlRp2M0cccUTDs/NssrKaE7uKbsYAssonYrwbxZ+I+OSchdV49913tSrPPPOMlrAaMIDffPON/t6rVy8tabt8R1a+LU0rGUA//zE6wI4MpxU8t7HLcu0hi3SlKhhA9IJtjzyfvvXee+9pdWAo8dbEuxGbJ9hk2kdOZtheuUdHMoCuxy59CNstbGV9hgedYI9J3fEOdMdLij1jjMkHfcBlaBjfsGMwFWT4Oe200/QyWCfaw9iAhXLjm4WYzLzYeX/1i/l79OjxYlkG0Gd0YF+JWUimin79+jUskIqMETk3du5y4wAyLtipwFPXtZsjvzo6gJXFgxTPa9rJ7+zCwM7Kc/n4uXjduaFqBtCVo28SwRiihDFjsc4cnMVUxugndu5ybQBhgB977DF9BHawW2yxRf2RePkyd9Eu6gvTDyNO/WF40Yn7fsqykeWBxgAaAxjT35ueYwCwVjMA+GupPhQ7icaEgTEAeLLqwABgW1cMgSYDgLWaAcBazQDg2xo2q1me6VITexe7yBjABIXFAEDsK5Zddtn6k7BZwI7kqaee0v+IC4YdCrG+YGfyMkvkNSP0QojdomNFBnMpz8Qug3YSjxCGAoaJ1TexCynJVOHmAm7GbrSSAWSlj90Ytn8wuLBPeNr5gWPL5J1NTQXnM2GiD2yU6Dtso9J3OEZf2HfSXvLR0ufknimsmQs2YryA3efClNHfWOFPN9102t1Z+cPOzDvvvPo7rAyZc7K8MrPGS6h/FWEA3fvDSMFoktmHyADohigAiy22mF6OJ+3MM8+sx247QjppFQMIqwRjBvOPrhg/2AAWtS/z9RI7d7kMIH0IO11sL1dYYYX67bFxJeMN2WbwKMU+jvaRDxldYr9NHl65MfaOSy21lD7H9XhuJQPoy4x5AfYLto2FIvH/pppqqhH6VczrMHbx6jKAftB6oj+wEyTPJbc9W9noESacEtaQeQBdom/CQck92Q5u5pltADBG43ZOpgQMABoATAHlBgBHHFYGAGs1A4Dt/cIAYPGXrwHAO+tCMwCY33+MASw+vupXGAA0AGgA8K3o/MzGALbZxRoDGD/pGgCMlxVnGgA0ABjbawwAxkoq47yYLSG23HAmkNuQEB0Km20IP70YCdaLepiW3UYJvaCZWNzgqBhaE9jzueee08djqMsKjCDWbG/Tdj/Bd546Qlt0ci06iQkE7W6jsUVB6jRS1LFFyhYX7IyfkLxoN4rdRsnTCfV3g1BjQI1TDcbs1I9txuWXX15/wkmEIMT+1racE0ppV2UYGLctbJESpBpzgrHGGkvrTloujMdxYFlkkUX0/9jUVsgm1L9ixnteP8DMAAccxsy3336rlxGKhADxbCHmOeFkPS8EmtxxEuME4uqfOhFoHAcLQC2BkbmmqMNa2bnL3QKmDxNAmADN7r1hmtEFfQqnEJy8cJ5iC5EtcMIouen5ML8gtIkb8mZkbgHjfEQoLsKKYa5Tpn/F7F5kpYJDfmxHUyfRDand2AJGJ9iZo1d/7iXMDXO3m54PUwRLBZc9MxkALPrmds6PeSEYAJxfJWYAsLGjGQDMHngGAGs1A4DtfSMEZrPCwBgAbHut+97nBgAb5xzzAjYv4AT4l59Q3U8t5q6iYdBYybAq4uU30UQTab1YdRZ1MCi7ig4xgNzXDdXBJPPDDz/o37AZfltYFfuOC0W2UEMMjctsxDCArlypN2Fs3nzzTW0PjgSs+GEsq2A2YlbRMTpx68LLjxAUflBYVtU4IrFA8beNYvtcEZ3EtMV9Lm3Ye++9VReEg4A9XmKJJfR30h/26dNHj4syf/TrUFtiFnwxEwpMICwUbabeRdOlFR3v7jiJYQDdVHAvvPCCPo6sC4wPUqvBKKc6f7g6yXNoycsEgjwJPpwVsslP/YYjAuMo5EDkthN9Zs0NI5MBJDQUczIBq1OCc8fMXVkMIHrNSljgv++QY14oF7kf7frss8/09uzayHeCwjfTiTmBxMxYdk6mBPJeCAYA21KjAWYNADZ2oSoYQO5oAHB1FYUBwLYeEWLNDAC2j0UDgO1MYexrPnbuMgAYK9GRd55tASfIPoYR8IGgPM5nXfwXedF0SaEmhF4IsWFgsp7jByH1U8DRliraFGJo3BdbDAPotod6n3DCCfrzKaecouUGG2ygJem6QrKO/T92Eo1hzdxn0t/8LBqhPlaW0Syik6JtoW/BODdjJelbRW2ZfF2F2hIz3mP138rzQuO9KAB05Y59FnbMBG1fZplltElVMX/IJ9SWmFzA7o5FSO70odjxkJWSLesZI5MBJDQPobcIU1O0ra5OUhnAkB7K/A9T7b5r8t47tgVsW8Bl+ln9mpgXggHA4SovA4CNXc0AYHjoGQAMyyjrjBBoMgDYXK5FQZEBwObp+fIYwHI9O/8qA4DFpWoMYHGZFQKACbev7NLQCyGFAayskhE3CjE07osthgF0V/kwZiQPJ3UdHmgE441lBkLNaRUADD236v+L6KQoA1h1XUP3C7UlZsEXekZH/B8a70UBoFtnAA+2pNjZpXrFN5NLqC15DGBHyDr2GR3JAPp1QleA21SWNnbu6mgAGKsLzjMG0BjAon2m4fw+ffosOnz48KclxyLhApJu2KKLJf+r5BPu0aPHYm+//fYA/zG0QzKTdPZ2HH744U3bIe2iLZIWLNSWLACIAf7AgQNVTISzIXxKVQBQdCLhCv6XdNLV+1d3Ge/uOCk6dwEAcXjAcD/kLFF2aouduySLEpkiyj6rldcNHjy4JiFymo33onNXkbqiK3ZhyjpJ8czYuUsy+HR2nRx55JG5Oiki5654rjGACVrr3bv3pqOMMso1Cbfo0Ev//PPPzQYOHHit/9Du0g5pV3dpS3dph+mkQ4d4w8OajXfTiemkCgn8L7xPqpBTZ76HAcAE7cw+++yTDBs2bKVRRx118LBhw35NuFVLL+3Zs+eYf/zxR6+ePXs+8NZbb33jP6y7tEPa1V3a0l3aYTpp6dDOvHlovJtOTCcpEgj1r+40d6XIqStcawCwK2jJ6mgSMAmYBEwCJgGTgEmgQgkYAKxQmHYrk4BJwCRgEjAJmARMAl1BAgYAu4KWrI4mAZOAScAkYBIwCZgEKpSAAcAKhWm3MgmYBEwCJgGTgEnAJNAVJGAAsCtoyepoEjAJmARMAiYBk4BJoEIJGABMEGZ38XbqLu0QVXaXtnSXdphOEiaYkpeGvDRNJyUFm3CZ6SRBeC26NEYnLXp0p7mtAcAEVXSXWG3dpR2iyu7Slu7SDtNJwgSTeKnFAUwUYAsuN520QKiJt8zTSeKtO/3lBgATVFQk60TCY5IvjY3cfvzxxwezZyRXJuEG0o5DDjkkKpq+RN3v7FHoJXtBKBNITEaTBJEmXxrqW/KAqjLNkIWFnJ+UZG9JbYy0JS/TTFXtoJ5+e0YbbTT9i/aUzToTaoerk+OOO67Tj/lDDz00OE6KZjRJ7StFrw9lNKlynBStW9HzQ/2rO2XMKSqbrna+AcAEjZGHMibvbMJjki+Nzd14/fXXyxZq8vNadQNpx8Ybb1wbPnx4v0GDRkxCLs9FJ5dffnltttlmy62Km8idE8kJzH9Fk8PHtv2dd96pbbPNNk3b0qq+RbtGHXVUrWpq+0J9y9VJ2VzAPlCSHJ7yefLJJ7UUOcoH3cXqwD8vNhdw2Xb4zwPwvfbaa/rXfffdp+W2226r5UQTTaQlKbxi2xVqh6uT6667rtIxT79CF9SdfhbbBs6TtmyyySbBcXL11VdX2o6i9QydH8ppXMU4CdWhqv9D/cvNmd2nT5+qHlv5fWQe2XzzzXPfJ5U/tJPd0ABggkJa9ZJOqFLmpaGXNO0wANgOIgwAxvXCUN+q4sVmAHB4nDL+Oiv0gjYAWEiclZxsALASMVZ6EwOAtZoBwIQuZQAwQXglLq2KAYSduPnmm+u1uPTSS/X7N9+0ZcrbYIMNtDzggAMaalqUjWnWzI5iAAGylL/99ptW6YsvvtBy0kkn1ZKE8UXV0hEAkLoDBHfeeWet5pAhQ7S87LLLtBxvvPG0LKujEHBivKcygPS/zz//XOu75ppragkjeMcdd+jxZJNNpmVR9izUJKqeGwAAIABJREFUDrknbamKAWQ7fujQoVrnzz77TMvJJ5+8oaT/xbapoxhAf5yMPvroWm+fyWR80Md+//33+pDJ27LvDAAQdtY3oaAtrilF3hgK9a+yDCD1QvbNZB3bd0JzmQFAA4ChPpL7vwHAJPEVvtgAYGGR1QwAxsss9sVmAHBEmRoArNUMALb1CwOA8XPOyD7TGMAEDRQBgFn2ZkyaVMG3YfLtZ5hgihqHh1ia2C3grDYUrUuCuGtVAUDq8NVXX9Wr8/XXX+v3F154QUux65TPvPPOq2X//v21HHPMMbVMbXerGED6EKv9X375RevLMXZz2JntsMMO+v8RRxyhpctoxOgq1LfcF0JZ4ITM0QmsLAzuAgssoFVNZQY6CgDCtp599tlab3FykM9FF12kpdi5yge2LEYP7jmhdrg6SWUAmcO+/PJLrcI+++yjJbpZYYUV9BhGfbXVVtNjmGf5PmzYsKZNbDUDyLhgPP/0009al+eff15L2jXllFPqMXPgxBNPrMdzzDFHve6+2Yivk5C9WVUMM8/17ZnZ3XjjjTf0lDfffFNL2rb00kvXqzz++OPr96x5LtS/igBAWG95ljiXyOfll1/WkvE8wQQT6PF8882n5TTTTKMljGVZO2ZjAI0BbDrxxPxhADAdCMXImXMMAIalZQAwLKNmZ8S+2MoCWZ5rANAAYFYfNABoALD87FXuSmMAy8lNr4oBgKwKXXaPlf0zzzyj9/nhhx+0ZLVJlWaccUb9uuCCC2o54YQTaglLE2vrFGJpQgwgdWc16D6XFXRsXRLEXTkD6OqE79ifwATusssuWuUTTjhByyWXXLJBB2XbUyUD6DLJ2PbddtttWjXsyegz3377rf4+aNAgLVlVP/TQQ3pc1JM21LfccVIUONG3YC5WXXVVreM666yj5WGHHaZlWabM112rASBsx3vvvaePxvZv+umn1+Pbb79dS5+VKtrHQu1wdVKWAfQZZnQBi8k4gqWhX6G7M844o96sSSaZRL9nMYGtYgDRBePllltu0TrcfffdWr7++uta/vrrr1r6Htm0f5lllqm3Q0IIyQeGymXTO9IGkLaxq3HKKadovZ566iktaTN2muOMM47+LqF0+Oy00076NWtshfpXHgPoRyG46aab6s+U0F3y+fDDD7VkXht77LH1mHEy11xz6fFWW22l5RJLLKEl76c8Rrn+sFqtZgygMYBufyj83QBg+8vKAGCx7mMAMCwvA4B/hoWUcUboBS2XpDqBGABsC6NkAHDEcFwGAEsN25FykTGACWLPA4CsdMYaayx9wv33319/0kknnaTfsXVglekHgGVlBgO433776XXLLrusli5bE/La2nTTTYOxtPwwMNyfVSCr9g8++KDeFglmLJ+ppppKy6qC8mappeot4DzVY3eGhym6OvXUUxtWm2VtAasAgLyEn3322XpT9tprL/2OPc0ss8yix9NNN52WrI5feuklPWY7kpX4PPPMo7+7K/8s208e2EoGEAZAmEP53HjjjVpeeeWVWmKnlGr757Zls802C46Tokym78UMm4wNIOwT7HIqo9lKAOjbuTEeTj75ZBUjcUSZu4jFSX+DWceTW67hWvTtzmVVMoCuvdnAgQO1vvvvv7+W77//vpbErVtooYX0mPFAu9mlefjhh/X/u+66qz722C3AXti12e4IBpD54N1339U67bHHHlr+61//atANdpiffPKJ/s7YRw/y23bbbTfCPFB0nEhsRj8OoO+Uxvwq92acs9MF08d76NFHH9UqYMOIPpnztthiC/1/6qmnrusk771oDKAxgPWOUuaLAcBazQBgOZbGAGB4xBkADMso6wwDgNlyMwDYFuTfAGBb/zAAaACw3Az711UGAA0AGgP4Vi2PXZahUta43QBguenJAKABQGMA2/qAMYD5c4htAZebY/WqLADoU9z33HOPnouBsHzHCBzjZ4xbF1tsMT2XALD//Oc/9RhnEaoK67brrrvWa8/WXlaHD23T+U4gtIHtQbY5CB3y448/1p+75ZZb6veDDjpISxxXqAclQMmXDzdytxk513fv78gtYOrz888/axUxXt99990bjouGTaG9KQwgdePZhNiQe//73//WR7C1teGGG+oxW8DIlvRpbKdiUI15AkGVQ5NoqG+546To1ilbWiuuuKK2QYCmfDBQJ2SHb1jOllHWmAhtZ7diCxgg+9FHH2n9cbxZdNFF9ZiQKbTXHxNFwz+1EgDi3PHKK69oNZdffnkt2bYjVA+OO7QRkwT643fffVefQy688MLMMSXtrmILOMsRb++999Znsv1JGj62fv2+wz1oP+2jb8q9YBjZ0idUjMxjrdwCpr/j9ME8TSgb5mYJQyMfwl9xHu+bq666qq6TjgoD4wagZ77nN/9dQb1pF+NG0n7KZ6211tLyiiuuqLeDsZe1UDcG0BjAekcp88UAYK1mALA9E0CRPmQAMCwtA4Bt63MDgGm5gA0Ati3ODQA2zjkGAA0Aht9COWdkAUB/tc+KFycCuR1s0p577ql3n3XWWbUk1AArIFbJjz32mP6PsSthYzAmdwd3VgiJEEvjM4B+KJBDDjlEn3/WWWdpmRU+pVevXvof7V155ZX1eOaZZ9YSo3BYG0rEi6GyHAs4ks+OO+6oJUyphGaQILnDhw/vN2jQiN5nci5tkVUhBugpSkaeBErmZXzcccfpbWEKim4FVwEACfKMobrUB8NpDKph8nAswCmJ/10WWa7/+9//ru3CoF2+5zlZhPqWq5OiDCAv7pVWWknrRMDk5ZZbrkH2fkgPQt3ArGexDFlMYIg5K7uVDWtEukHGk4RgkQ9OXfRTWHPYZ3Tm9uOQ01cek+nqJCYMjDveGbfbb7+9Vufee+/VEkb5zDPP1GMc2/xQHujw+OOPrzeHEDKEAXGZ/yoZQBy75MEHH3ywPp85jeDizLGwd1SS9hAuCecXWF05D/ac8D5+O1oVCJr+Twge2kIdGeOffvqpNmfdddfVkkDQMLDrrbdeXSd5Oxux4yTLCYQHZAXNZt6nbzPvM7cyjmjHxRdfrLeD8VtllVX0GBZavhsD6M4aI363LeB8+eT+awCwHQwaACzmDGIAMDzwDAC2mR8YAKyGATQAaADQnXWMATQGMPwWyjkjCwAStFJWP/LBnZ7wCPIbtguE6ICd8e3lYJ9Y4Z144ol6T9goVkjyG7Zc2OSwYpX/QiyNzwDy3O+//16fh3v9E088occLL7xwXSqvvfaafoet5FqYJxip3r1763mEX8AmiBsRnFSOAZMPPPCA/k2IGXlWRzOAsEes/F999VWtEymvyqYhqgIAouOlllqqrg/kjx3StNNOq//BVAKquJbQPpSwA+ecc079niG7uSqdQFy2iXBD++67r9bl1ltv1ZJxAkuBjeq5556r/xMWhzR3bngLP/1ivZF/jZNW2ADSR0iLxngmrA2puOhbzB0ybuXDmIZlk9/ol2VSdcn1MXEA0bvrPQtzjB3m3HPPrXWkztgA+8F4YW8uueQSPR9bWvmOvSq2zVUzgOjY1T3zEPZx2ACuvfbaejrzNv0RppOwJdj+SX/hQ6Byjl3dtNIGEP3A/D344INaBYLB855AvswNHLM17I6FUF7jmHGSxwBSZ/c9wO4RYWxgYemH6A+Gn/cmuxWwuqSOk/bk7V4YADQA6Pb5wt8NANZqBgD/0H4zMraADQC22V8aAGycukJbdAYA2xeiBgDbbQMNABaGAF3+AtsCTlBhFgBkpctqfv3119cnuCtiVsHYNvkMoJ+WDDuTAw88UO8FgzjuuOPWa+97QmEfJicUZQD9BO94V2H/g2ez3BtvQBijF198UetEQGg/uDXMBSvArPQ9sIakxppiiin0nh3JACID6gv7ecEFF2hdsPchqX3RTCgpDKDfZVn5yu8EF4ZVgS2GmaavcUx6KOxnsM3C/tLvu/6zQ33LBRsxNoAuS0PwYNongcrlg8wZR4wLtvgInE7Q4WOOOaZe7a233lq/Z9k4hYBTERtAl8kkeDDMOXaxMDEsomCdGDN4pNIO17ZpkUUWGWFeoZGhdsQCQOYymEi5DraINGKkGYO9aeawgm6wU3MZQJirVjOAbt9lXNM2bBMZ58ytjGsWWzB+jK8ZZpihflvOacbKttoGELtk+glz1fnnn691ZD6FvUV3/s5T6JUY6l95mUC4N+MDO1f5nUDPvDvx+qXkPch4YocKr3retTgmyj3pw1np4YwBNAYw1Ndz/zcAaADQAGC1cQANALYvngwAVhMGJmsSNwBYqxkAfFsXNHlOhUkAoQtcbAxggpKyACArG1bxpDyCvfhr9a1PxYuX1Ty2C0OHDtX/SYrNeaSTY4WJvYqcyyoPg3E/nVKRVHC8hD///HOtB+wQqyniE8p/MEnYAMJWDBgwQK+VVZZ8SDs0ePBgPR4yZIiWtIUE6vIbMRNZ0WEDIl5rrbYBRH94beOBTf0ff/xxrTcMIFH13ZVsTJeqggFET3jzyXNhVmBiYbx22203rRa2qLBrMH3oAc9U7FPlmpBHYJU2gG4sPOy0YJ2OPfZYbQOpnvAGxmYUFgfGGo9U7uOOE9dGFn3FMhsxTGYWAwigwzsdm17iG2ILyFgmOgDtgWWT+hK3sQyT+dccNH+PHj1ezPICZrzBmrgM83nnnafiQtawdtTDZ7/8WG7Ya7FjIffiHtzT9ayvwgs4azz6cf3+8Y9/6Gl4JMMycR5bxUceeaSe58soNOZbaQPozwNEmaCO2MwRmeH000/X6rpxCkP1d/+PHSdZNoCMC38HyH0X+DFksePz2Vi8l2HSJUqEfFy7zKOPPlp/Y2y5TKAxgMYAFun3I5xrANAAoAHAahlAA4DtizkDgK1jAA0AGgA0AGgAsHIAyA15keHlhEei/I/dFXYm2Cxh+wZrBptG3D9WelyHzYTck5dFlq1DyE7L9wJmdQZzQr3WWGMNbR4ef/KddvrZGPx4hESph9Uj7h/Pwl5F7oknKqtFVn6tzARCfbE3IR4Yz8YuBVYUL0AYtyWWWEJl4zI/zTKayHlVMID0NXfblCwzMBl4L8I6EaMMeyD0AisAqxxr0xjqW1LHsrZzH3/8sTaR+GSwmWTGgY3FM5P+yRjAFgoZyL3wYh0ZDOACCyyg7cFzdv7559djGAxYKDICYXNLuxgXcg1MGjadRRgaVydZDCD9CftemCO5jtiKeDDDvvrzDvMBtn94pBI/ENMJuSfxEbGRdFnNVjGAbAE/99xzKjoiHTBmkTmsEnFMmadgz4qMk9B2Y5Fx4uqbnZk33nhDf95oo420ZAcJ5vi0007T33l/ZL0r3Ps2+16GAfSzlTCGJ5988vpj2AnL89yVk33v9Pfff1/vwQ4ZzLr8RoQEbKPZsRK9GQA0ABjT35uek5cL2ADgqCo3JlQDgI2ewgYAs4eVC6ANAP6kQjIAmBYHMKunGQBsdEws8iI0AFhEWp37XLMBTNBPHgDktkw0xDaS31mNPPLIIw0rNa4hIwj5GImtBePB/zCFch2rwCpyAfMSJucvHr6wXJTy3FAcPNgEGDTYHKK5s+qDmZF7ZtlryO+tZACpJx7OyJrVJDZzMC/kAgXgLrnkkqo+ly3p06eP/ob+XK/tKgGga3dFf8Puh8weRMunf6BjPGlhCbKYsbwhUjUD6D4LnZAxB9aJumPf48bHc8cCOZJh2uQ/bLnKMGdFGBo3diKMFuwr9q9kAIGFggnr27eviqF///5awp4RB1F+ww6y2XhPyQRCHyJLBl7W8lxsD4kbiY78enAPxg3sLTbA9Eu5J/rNyqpTJQPoMuXEmBSbYvkwhrAbZY4jtiTsGfECmzGfzcZK1TaAbmxG3i3Yaj799NMNbSLvMXosGrLKb1MRADjnnHPq5dhQs5iBBXf7wUwzzaTn0g8oGe+UzXabmPNcG0BiIuJpj22zjEljAI0BzHu3Bf8zAGgA0ABgtTaABgBrNQOA7Vl1DABmv4YMALabH7HbZgAwCFlGOMEYwOIyq18RAwD91YpczGqZbVFs+WDcll56aX0GnrHEqsKegcju2HzIuVnev1Q0xNL4NoBc50dgp94hGw25ntUaTAurfOycWEFjv+Wyis08CjuCAWTFT71hYcg7CQOANyC2jOgQD26RAR63eLHSZpFjlQyg24V9r0tW2HiWwvBhmwUrRVwzbAVdO6yOzATitoWXHDansK/YXzEuJpxwQr2MOtNWrsPGTs7x84u6z4tlNmK8gLPaAbuMLd/iiy+up8GOYSMIW0EMR3IHu0xnFoPpjvcqGEA83Xm+3B9GHDaJevh2WXjRcx7jA1toGES5J9c2YzM32SRtC9i3R5RnEnsQ1pU+sswyyzT0JWyCGSfEavRZZ7kolD2jChtAwA7vDnku9spELIAJxF6ZtuE1S2YZIlUUfQXGjhMZf9iPY08O80dmKNhJqQNe8oxR5kvmVNqMbeygQYO06uwu0cewsZf/YHhhdrHlNBvANq0bACza+53zDQA2F54BQAOA9I4iW6cGANuz6xgAbDP7MADYPioMANZqBgATQIt3qQHABFnGAMCs27Mi9WMi8TtMBv+z0iEeHyshVq/yDFiFZrZNReIAJoikfik2QNij4GWHDZDPBLj2Oc0861rJAMI2kakAL1mySGBvJi8j+RC7jVU/mVdczzpkgF5d5rRVDCByvOqqq7SeMHt4iZNX9+6779b/YcnoW3g5Yocp5+R5C4bYZbm+LADkZQezAesKm7DoootqG/w809hn4gmNx7acm8dexzIbRRlAX/+wYsgeO1jfu594btifwdpKO/K8T0PtcHWS5QVMvyVQsBsHEJn68fKQ+Z133qk6uemmm7Rkl4JYhsQRdL2AQzpJBYB+ZiOpF9kikCnj3ZcrfZ88zjCEMOsuU94RDCC6ueOOO+pzLXPRfvvtp78RL5MoEtglkykET+yi9r48MNS/3EwgmDPwXsKuFAbYjZ9Kxids37FzJQoGmT+Ya4k9y84ZNtfEPJX6kp8ZVtHVr9kAGgOYhHUMADYXnwHAWs0AYFv/MADYts4G6BgAbE/nFwPKDQC2z7MGAGs1A4BJsKXhYmMAE2RZFgDGPhJWikwP2G6w4mGlJ/fDDiTLriPE0jSzAYytp3ue70FMoGQyU+AVBvuRF7/Qf34rGUBYAlbNq6++esNLm5UkK1fsznip+7Z3cnGzvKjyX6sYQPoMjAXbJdhesiJn9YxtJowCNpBu1omRxQCif59ZIRc2NnW0EXsjYhkSXzPW1imW2SjKANIOP0sQcfZgndEJ7BTjHWYwxvZWnhVqhwvK8+IAPvvss1p1xoJ8x4YKtgU7M7z60QVtxdMZxhDWtohOUgGgH9dU2gGTTxw65iPsS5kPiE6ALTC7LsRqzLPFdOevqryAAYBuZil2V3gf7LPPPvroBx54QEs8t8mwxLsiL8NP3twf6l9ZuYB9T17sXN0YndiNwvThOUzUCzJlMQ6wG6d/whhONtlk9epzruUCztaoAcAyKOevawwAjig8A4DtQ8oAYFv/KMsAGgBcXkVgADDNCcQA4FbajwwANr6vbAvYtoAT4F/7i00yDuDxmXRD72JjABsFYgxguHcZA1irGQP4luZDzUtyDyg3BrAtE4UxgOG5hTOMAYyXVWc/0xjABA21mgHECJ4tX9KOERAX43BpAv+N7C1gtk7YPsKQnXqRngvavoghcisBoJ/cnQCiGCCz3TDttNNqj4ndjmvWvVq1BYz8We0///zzWgXCLeDs8cUXX+jvGL+zLUQaKcLeyDludg6/PSHzgioYQP+ZgFzXcUjOwcCb7Z6iOop9sZXdAqYdfmgo2uM7gWUFRo6ZrkLtcHWSBQCpB2PT7QuEbSL4MFvCmHYQuoOtXxxwCGkVu2Xqgo3ULWA/76/c+9BDD9VH4JTAlu4MM8zQIGLSi9EugCLbjbF9rKotYPq8GwKM0DSYEBBOhW1WtnpxDOvXr5+2saguUgCg3/d9B0j5n/cd9cXZC+cQHDm4lx8wmh2X2PR8xgAaAxgznzY9xwDgiKIxABjXpQwAxskp6ywDgPmyMwDYKB8DgL+rQAwANvYLA4AGAMu/hRzbplZtATNxYfiLwSyG+wTGlUYQ3mNkMYA+q0HwWAJw+uEjWKXFrtakja1kAP2OQHgI33A/dsUf6litAoA8F085GExAEwbVsDuEYYA9IFk6q26538gKBB2SYdX/h4BTqi1j1fVtdr9QO+S6vC1g7usb7svvOHvQr1jwEboDRhCDfVimsuOmijiAtId5VI4ffvhh/RnnDrJIwCrhHIIz1EorraTnk9axaDq1qhhAXzdyTFo74kYSGBnGDKcQ0rAVmXOz+liof2U5gRTp+34CAvpOar39OhgANABYpF+OcG6rGUADgI0iNwAY310NAMbLijNjX2ypW8DFa1bsilA7DAAaACzWo0ach/NsTA0Apki3Y681G8AEebcaAFI1P1US9h/YBsp5pJXKcncP2WlVEQbGD279yCOPaPUvv/xyLf/2t79pSfiIMvYnHQkAE7pF1KWtZgB9fTSzj4Hlwf6mSLo/aWiob7lgo6sDp/81BtCff+SYfuKzwvSbonZYocFSJQPoPot25Nm3uufTLtiokc0AFmkLdc0L5xTSg/t/aIGRCgCL1CXlXGMAjQFM6T/1bZRWbQEbABxx5Sm5HWO8GwV4ktc2ScktutgAYIsEm3Db2BdbVweyLijPcgLxReiCPQOAf6h4DAA29zI3AJgwCXXwpcYAJgi8oxhAHwhid+NOzKHk8B2dCo4XxZAhQ7T62AhR56ITKGyTAcCEDtuCS40BbIFQE28ZArJFAWBidZIubxUDmFSpEhdXbQNYogqVXRLqXwYAKxN1y29kADBBxH369Fl0+PDhT0sEdoyDE24XvNR3tHABYF5U9//85z81ccLo0aPHYm+//fYA/0G04/jjj6+sHWytDB06VB9HMNtgI3NOkHaIc0mzdsiltEW2nAndkPLMVl0rOZGPOuqooE46qm+VbWeob7k6kbzKHTFOUtoi4XNC46Srt8PVieSH7ew6kZAtIZ1Iru7O3g5x0oiZu7p6/2IO7g46KTuXdJXrDAAmaKp3796bjjLKKNck3KJDL/3zzz83Gzhw4LX+Q7tLO6Rd3aUt3aUdppMOHeIND2s23k0nppMqJPC/8D6pQk6d+R4GABO0M/vss08ybNiwlUYdddTBw4YN+zXhVi29tGfPnmP+8ccfvXr27PnAW2+99Y3/sO7SDmlXd2lLd2mH6aSlQzvz5qHxbjoxnaRIINS/utPclSKnrnCtAcCuoCWro0nAJGASMAmYBEwCJoEKJWAAsEJh2q1MAiYBk4BJwCRgEjAJdAUJGADsClqyOpoETAImAZOAScAkYBKoUAIGACsUpt3KJGASMAmYBEwCJgGTQFeQgAHArqAlq6NJwCRgEjAJmARMAiaBCiVgADBBmN3F26m7tENU2V3a0l3aYTpJmGBKXhry0jSdlBRswmWmkwThtejSGJ206NGd5rYGABNU0V1itXWXdogqu0tbuks7TCcJE0zipRYHMFGALbjcdNICoSbeMk8nibfu9JcbAExQUXeJeN7RGU3KirxI1okqs5qUrW/edaGsJuikq2cFEBl0t3HSnXTS1dvSHeeurp5BozvppBVzf2e6pwHABG10l5yHrcxpTEo4N22diJxcwMOHD4/WQJG8s9dff71sB0ffu6NPlLbk5TVGJ9dcc00l7UjJwZwnm1BeULm21eOEPkb+afrUH3/8UUitb7/9dm3zzTevDR8+vN+gQYNe8i+uWifNKoeuaBelez5tyxo/RXRSVf8qJOgCJ4fakjp3kVedKvly9eetAlVvOLXI3HX11VfLoqnso1p+Xew4ufbaa5PmrljZ+zocNmxYXQZ5OedjdNJyYY7kBxgATFBAq19sCVVruLSjBmxWfQ0AZmvRAGBVvbsm+VX1ZgYA22QaAk0uKDcA2LOhIxoADI/LjnqfGAAM6yL1DAOACRI0AFirNWOWRhttNJXsr7+2Zcj77rvvtGS1NtZYY+kxZQxbE7NiQyf/6wwg8kc/v/32m8p7jDHG0BLmiNVy3ko5b4gUARtVMxu05YUXXtAqyv3ls8EGG2j5f//3f1rG9C05L/bF1irQhK5o1zPPPKP1P/DAA7V0mY0TTjhBf1tiiSW0RL/yvYhOWtWWhGm14dJQW8oygPT3zz77TJ/3+++/aznllFNqOeaYY2pZdlz47S8yd1U9TlJ0wXzNfCFl7DgpygD6gI+F3eijj65N8P9nPIg5jXz++9//ajnDDDPUm0z9s/QYo5MU2XWFaw0AJmjJAKABwLLdp9UMoAFAA4DNtrKlz3bUdnbZ8cF1BgBTJZh2vQHANPl19qsNACZoqFUAkJUOW1qUvm2Qu+p32QG/SVWv2FybJFZWfp1hL6644gqtziuvvKLleOONp+WMM86o5T777KOla6/XrC0xK7aRxQBmbVeE7E9aYQOIbj744AOV6+23367lxx9/rOWcc86p5QILLKDlbLPNpiWsE0xI7LAIvaBdsFEVs8F4GDp0qFbz0EMP1RIGcPfdd9djcQSSj9umPJ3EjpOqWTNestSTMXPrrbdq/R977DEtp59++rpaLrnkEv2+5JJLaumOmSI6KdsW6uwvNPx+Q70oi9j8yr1CbSnCANJvuK+Um2yyiVb5p59+0vKmm27Ssl+/floyx7rXyu+xrDLyKDJ3VTVOeLY/N/nvEf9YrqO9H374od5mnHHG0XLsscdWncTYyhZlAKkvc9g333yjP91zzz1a+rtIjP8LL7xQ///hhx+0/Ne//lXvhjPPPLN+z9JXjE78/tzdjg0AJmjUAGD7FokBwBGHkgHAtsFV9TgxAFirGQBs7FsxYMMAYJvMDAC2ycEAYK1mALATAEAGpG839/LLL2vtnnrqKS2//PJLLbEy9xBJAAAgAElEQVR5OOigg+q1Z8WaxZ7FMhuhSZRV/yeffFJ/roQskM9CCy2k5WKLLabltttuqyXMX69evfSY+sFQzTvvvPr7ZZddVr9n3759G87lj5gBW4QBdF8IfAe0+WWzSROGAPsTF/Q1s11h8qmKAXS94N577z0V10477dTQd6jLBBNMoL9PMskkWsK87rDDDnq81FJLaeneM48VDDE0cq+qASDjhD6DjRzs8nnnnadtWG211bREN/UO1uRL7Dgpy5r5j0XGjIXzzz9fT7n00ku1hNGA+TvrrLPqt1h55ZUzxwh9a7PNNmvqzezqpGhbGCdPPvmkPh/GbPDgwXoMwzfxxBPr8QorrKDlKqusouVEE02kZayBf6h/FWEAGQPy/IceekjrQb/HFlnkIZ/5559fS8b3c889p8f0Pf4P9Sn+LzJ3pTKAyJb+hc5oyy+//KLVYq744osv9HjQoEH15mBX+9JLbc7wyGnvvfeuvfnmm7X1118/6C0fep/Ifd05+KOPPtJnHX744VoyLl599VU9pt5UknYKKykf3i1bb711vR2nn356g4rc+TlGJ7H67arnGQBM0FxVLzYDgAYA/W5YxEbLAGCbk4QBwLZeFAJNck6R/uX2TQOAbc5tBgANACZAh05zqQHABFWkAkAf+MnKSj6wasJIyEdWW/JZccUVtbz44ou1/PHHH+u1x24oyys3ltkIrdgAGjAs8nBs+PC8wn4DhmmPPfbQOsJYUOdzzjlHf//HP/6hJUygfIfZwSMP+42YFVsMA4iMPv/887r8BgwYoN9pxxRTTKHHsAasPn/++Wf9HfuUe++9V49habGlc9s27bTT6jmuHUoVTiD+Vqg8Y7/99tNnYQ+3zjrr6DGr4plmmkmPWdljX/bwww/r7zA22NXJbzBQWUxgEbCRymzQXphw2EpsgWg7ZZ5dbF3xzpfYcVKUNfOfRR958MEH9a+tttpKy++//15L2rn22mvr8XHHHacl/Ui+o4tm3o1VMoCuze+QIUO0Luuuu66WMH7Ylg4cOFB/Z3y88847eoxn9gUXXKDH7jjJswsM9a8iDCDsnTz/0Ucf1Xpsv/32WuL1CwPIjgY7GNgKogO24Jmj5B55doFF5q6y48RnVbH7ff7557WN2Mbdf//9egxrS39jzpP/JpxwQj0HL3Pm8emmmy64dVpEJy4ry/uO9xzzMwwf/bCZaQ3vp7322kvrLp+DDz5YS39HR36L0Un9Rt30iwHABMUaADQAaADwrVos2Cj7YmOIGgBsW0jIxwBgmxyKgA0DgG3OEQYA2/qOAUCzAUyAf+m2TcYAGgOYknXCGMA2e0VjABunsRBr5gKnGDbTGMB2b2FjAI0BTAINnexiYwATFFKWAfSpbLbrMFidb775tFY4eXBMqALoeJcKP/PMM/WaLJo8dmur2RYw9/z222/1Gauuumpdau+++65+py5sHVx55ZX6O1uKBIT2nSloM4Ft5RqM3TfddFO9B9fGrNhitoBpD1tr8oyjjjpKn8V2J1s7hD8gBAElW2E4GLD9s/TSS9dlw7Y82+HuVlcVW8Bsn9B/5MG77rqrPn/LLbfUsn///lpONtlkWrIt6mfNuOWWW/R/tk9nmWWWejsuuugi/U5IBXcruAjYKMsA+ltbZ5xxhtbn2GOP1ZJQKJdffrke0weLhuqIHScxoKkuPOcL+sLYfrfddtN/n3jiCS3HH398LQ855BAtxUlIPmzNxW5pF9FJTFtc+QO22VbEdGOqqabSujJHMLYI0XHEEUfo/+JE4H9C3vJ5DHNZBvDxxx/Xamy33XZawg5ed911eswWMKYdW2yxhf7uh4tZfPHF683JczYqMneVHSe0ga3dHXfcUetGSC7qOs000zT0K0JBMb7lT8a/b4YjYyp2nOSZFDEHI0+3noyLr776Suvph+Dx+w/zEaZSmBfJeWztN0uZKO+YvHiZI3TWbvaDAcAEhRoArNUMALZFnzcAmJ0/96+Xyfw9evR4seyLzQBgmz2qAcDm+ZlD9ssuyJPvBgDbFxYGAJvPXQnwoEtcagAwQU1FAKD7EmP1Q6BambzkA3uDYTKrI5hAHCgwYL777rvrtV9wwQX1e5ahfuqKjRUYBt4YBsvzWPWOO+64+vzTTjtNS1ZjWca38j8ywKmC8DHy36STTqr3YDUOe/X666/XQiu2GAYQY2FCWcizYF1gOKg3Mqd91Bum0A9RgHG43BMHjGbOE2XDwKAP6rbRRhvV+wH1g4GFfWwWysUPGUH4BzeUAqwmunVZ5iJsU1kACLNB+CMM8nHMwZFo4YUXVjnweyxgQnix4ySGNXOnFZi/999/X3/eZZddtIT5oz8SwPrvf/+7/k+7Wxmcu2hb6C+0iYUPTh133nmn1h0Whx0Adij8cEuh6TfUv4owgC6TBEt0zDHHaBWYY2DTYQBxDpPAx27fuvHGG/V40UUXrTdhZDGAfjgUHG1oG7sbOBXR32DHKN1+hl4pXZY2dpxkgXLmDnZ1YIZFiDfffLPKkneCXwcETf1pN+McZhPnKjl/6qmn1sssEHT2SDMAGJqBcv43AGgA0ABg651ADAC25amN/YRAk9ynbBgYA4BtMfQMAG5eKg6gAcDYUdwx5xkATJBzEQDohj0gtc3++++vTyfwpdi6uB8YgzXXXFN/hoFbZpll9PiGG26on46rfJatQ8qKTR7Aap/wLNRb/iO4KKtLgtj6Nma+mHmRUF9sbOS82267TU+HjZp77rn1+N///nclDCB1cY3bWUVSr9dee01P+/rrr7WE9eSas88+W39ndU0dCafiyq1ZqI6iDKC/4iVc0FVXXVUXL9+XW245/c0Pnhrq7tg88oKT82E/WKGvtNJKehuRWRGwUZQB9Ld+Tz31VH3uySefrCWsN8w5rAJMIAb7sUxg7DiJYc1ctolwFrCqMM+wyti6YttIfymaNg3dFtFJTFuy+ow7duR/mLJtttlGT4elheGBtSlqlxlqSwwDSD9y+9Oee+6p9WS+Img47Bl2lwSA7swMIO+WO+64Q9sE+4pdNTphrkYH9K88G8ws3ceOE5cB9G2/6S9rrbVW/REwkIwd3jtu+CM5mfA2PjPOdaS/lHMXWWQRvX9WW2PsMkPzZVf/3wBgggYNABoANADYOgbQAODwUrNTCDTJTcsygFTIAGDn2QI2ANjWKw0AFp8uDAAWl1n9ihgA6Id6kYtJ04UnKR6YrMRY2bz44ov6LBgCvBsJBO0GT86zEyqzYnPFwhYctonXX399/W9Si2FzBvMUslvyV+WuRy7MFu2fa6659HlVM4BZqmcSwQMN+xhSW7Fyha0l4C02RehK7p3HPJXxAmZF/Oyzz2rVsf1bYIEF6k2hb+BRWpRFykr3R5vwRseeS3RcBGwUZQDRBeMEmRPEmr6HnLEdIug4DIgb4DaPgYodJ3msGf3afQ62vthQohM8UNkBoI8V1Znfj4vopCgD6LPQBIXHdo62rL766lotwAnsU9HpNtSWsgwg3sh4KRNZAR0xF+Pt3NkYQDf7D8G2sTlm7B922GEqbuZPxseMM86ovzOfdCQDyLN4l9x66631LsF7hvHcu3dv/Y+oEFwLe4s3PbLgnUOQcrkWhpeHWCq4xhFoALDojOScbwCwVjMA+I32CAOA1XsBGwAsNzmFQJPctSwDaACwc9gAGgBsz11sALDcPCFXGQAsL7uoJPdslbgrYFafpH4imT3JsFkVkWUCr1jsu/BQc++Zt4qLZTZ8ry3fQxTP3rvuuqsuNWJHPfDAA/ob3rGhFT/35jzsyuQepCyinGeeefTeHcEAIkc/9hT1JUUa9miwYwBAbOikvqHUUEVtALk3DNwBBxygcnEZ2TXWWEN/C8k/1O3dFE08Bx2THqvVNoAwArBLeMP7DNlYY42lzcFrnvGCd73LlOfJJXac5LFmyA0ZSb1Ig/bJJ59oPYmjee655+ox3ovYMHZmBpCX7U033aR133nnnbXE1gr2fvLJJ9ffYdDRSWhnwO+XITBbhAF0xyMe1/fdd58+EiaT8UM9sEPubAwgNt9ST2xijzzySK02rCsRADhmVwMbQRjCojqJHSfu+4T3IH0bObuRGHxv5DnmmEPbww4ZOoHhI3Uq8wTjx43Filc61xoD2DjCDACG3oQ5/8cwgAYAswVoAPAtDfRbJBOIAcCDtDMZAMyftEKgSa4uywAaAOwcDKABwFrNAGACePnrUgOACTKMAYDc3s1DSegQklZj44TtBszgBx98oJeff/75WpLdoahnZ5kVmysW6g6jwupZzgHg4uEIQ0ZbmjGTfjiApZZqS+slH+RBPKeZZppJfxfP3CriABZROYyOn9T+s88+09vAvi2//PJ6nBcLzH1uGRtAACDZU7BXwlZS7o/cfVu0WDsfmE+3j2Gr9sYbb9T1IF9abQNIvyNuHl7IgBA8CHkZwhQS2JbMIG5WkypsZWMYQOwURU4wgDAwjGcYdWyZsAHEZjErBltM320lAEQnMH/IGBYWFgf7LdqCbSBsfqxndqgtMQwgdZZ78YHRo370LfoS4wAbQLKyoBMYUNf+tiPiAPretO58SdYSmPAZZphBm/vpp59qSfQGYh7Cbo4MBpCxS0BuqZ/PAPbt21frzY4Yc9h6662nvzcDgNihyzlElEDvxgA2ziAGAGNm1CbnGAA0AGgAsHVewAYA/9CZJxa8M02FQJOcV5YBNADYphMDgMXiAPpbwAYAE4BHhZcaAEwQZhEA6D6GVRyMACs2bABZXWPrQM7TsvHBUhlABi+slxv9nty41I2YhbBTrDZZOfsrWOxXsGsTOZ144okqLlbpsAUxcZtiMoHEqNw3dsfW7/7779fLsaPBw7PMSzp1CxiZvfzyy/Um4elHnEIi4eMxTOy5ZnZmrMLJruG2lXhixKtrBQPohn6BmcC7EVYNJpR4mLA09EVC81DfWLYpdpzEMICw/CK/DTfcUPVD/DLXS1F+xw4KppKsNLSv6LhvJQBkLmCuIu4ltpWw0djvkioSm9l99tlHZUE/DY3FUFtiGMAsu0zG86yzzqpVIP4fLB5AFz0y3mEMYeH79etXb0Iop3Hs7kWWt7wfN9UdJ37cPBhyZMyODWwt3vHsQI0MBpC4r242K98rmagX2PQxZ8EakrUJWWADaAxgaFS1/28AMF5WI5xpALBWMwB4fGmWxgDgiIPPAGB7WkIDgLVgmCEDgO3x7wBQBgDbguDLx7aA8wGOAcCRCABhW8hxuu2222ptsJ+BCYPxKBpFn6bFMhvNEqrzUmaFy2pe7n/SSSfpY2gLjBjsnR8wltUqKz/Yztlnn72uCVaqU001lf42MhhAJtErrrhC60CcMGyYsDfr1atXQx1ju1MZG0BkTMR/4mG5XsCia/ngjUm2GLJj+J6m6IeXB2wa9mlyL5grcjPDYLWaAYQZx77yww8/1Lb5WWZgbXbYYQf9H4ajaKaD2HGSxwD6Oa7dvsO2IX3LZ2EZX+gZ5h/7WtczPcQ2SczEZg5GUqeyW8D0b+ri959HHnlET4F1+vbbb/WYPkrO71jWqQoGkDpiWy31wa4UNgmvZT93OePFzy890UQTabvwjJfv0003nf6Wxa4X2b3IYgBhJMly8cMPP9SnGmzD6VfYK/u55tkFIGIB/azoeyV2nORlAiGWKRmkpDH0CTfXuDv/02A/FzC/M1+49uRk3fIZVLkmRiex83lXPc8AYILmUhlAA4DtYSQMADZ2xKwXtAFAA4D0EgOAbZKIYQANAF6rsjIA2AjODQBaHMAE+Nc++RTNcMAKhiwSO+64o9aDY1bLU045pf4ea8PUrDFlVmxZ96LebPu6K31iFmIrQwwnP2YhNkKsTn12Se5JXk4/ZlvMgE21ASRm1tNPP60igMmEZSKyPHELY5kMX55lGEBeZLAq2OLh/SfPwG4GHeEVjB7wSCVeI/J/9NFHtYrY/knMRT6LL764fiVrAtcKcxBiaNyXdMw4cbeAsWGCAcQrnnrBXBBTjD4Fm9MqZiMme4bL1pHDe5VVVtGqf/HFF1rC6sAYMb4Y77CyxAvEljA0JxTRSUxbsuYC9MR4wY6RXQzaiC0wLFUZW9k8NjMGACJH1y6TXMXYMpJvljkX22UYf8YFjD/2pehUZMROTbPc3yk2gMiZjEnuWCD7D/bJsP/YYdJWbIbHG288VWnZuSvlfcK4GDx4sNbBjdnHnOWzy748/R0pWFo8uJkX5f603Wd25b+Y90mzd2p3+d0YwARNlmUADQDWagYAi8cBNADYFhbJAGA4zWCrt4ANAG6j3dAA4KCX/FdoHig3AJgAOFpwqQHABKEWAYCuLRwrfkAQtlWyGpfPggsuqCUrm4Qq6qUpK7asZ7sxDf34eByzYiUDAGweMf6YCPBEI06YPI///JVfzIqtLAMIKGdlTd5ZGMt9991XRYF9WWy8v2a6K8MAci8/pAJspfz/9ddf62kwsDAGjz32WEOf8vNuYlPENjO2mXIRXrVZtmtF2KYYBtCVFyADVgkbOlgY4hNSYpfVamajKGvGWMC798Ybb9RmEp8NT21sHJEBGULoc7C38n8oz3SrAKDvxQ/rxPigj8BCERWANhXNchLqXzEMoL9wkrqccsopWiVYJ/KzY4rCHISnKbKn77ET4M5ReW0rMndljRPiLGL36+bQnX/++bUtzzzzjJawmLvuuqseb7XVVlr6Y77seyXlfeLHJ3X7PLaJxMnkXDfotdSZnQGYXTL9MGfB+sm5eXbAMTopK6Oucp0BwARNGQCs1QwAlutABgDDcjMAOI0KyQBgc4cWA4C1mgHAeXWcGAAMz6n+GQYAi8usfoUBQAOAZbuPAcCw5AwAGgA0BrBtnBgD2D5fGAMYnjtjzzAAGCupjPNiAKBr1M4trrzySv1KEGRW+Dg/cF5Rg+lmTUmh7LPu6baJrSgCwhKAmG04DI6h4tmGwIkCup4AxfK8Zsb7MZR9kS1gd1veD5rKdjzG6wR+zTP0LtKVUgCg/xy23eR330AaWeLk8cQTT+jlhLXwt/RIbZVl29QsvEXsdmPRLWD0Q6BrQtTMNddc2oZFFlmkQRRFtxd9OcaOk6JbwMgYPQ0YMEAfTcgeghGTao96zT333PoVhqczhIHBRIA0jWwv4niDQwJOR5hKlJ3LqgCAPNsd73z3x4vfh5A58wBbwH/7299GGO4hz+wUJxDmTeZZHAelEtSZ0Ds4RfXp00fryBydOj5ocOw4aRZWzJ2n3D6NE+Sdd96pj3r//fe1dIPSyzF9buaZZ9b/ae8kk0yix+77I1UnReb0rniuAcAErRkAbJ9cDAAW60gGAMPyMgBoANAAYNs4MQDYPl8YAAzPnbFnGACMlVTGeXkAkJUlA/eWW26p34EgpDiBYOTOSq3sarlZU6pYsTW7t89usIrzQ1twPS91wpNwXszqtCoG0F/1S90wQMZQH3aJQNAkVi/rYODLr0oAmNeFaSsG09S/mbw5z3UyCBm3t4oBpF3UyW8DjkVVjZfYcVKUAfT1g1OIH/bFZXLlGnRQtJ0h0CT3jgkEnRU896677tLmHHbYYVoSYLx///56PNNMM2mZ6iSFzEJtibEBTJji65eStpOtWHfHIub+ReauvFRw9AnC7Miz0ROBqJljGetVjQ/aGTtO8hjALJnBBjI+6EN++CdYWOYDzisa+D1GJzG67crnGABM0J4BwPbJxw9tYwAwv2MZAIwfeAYAf1Nhxb7IQ6DJAGB83+NMA4DtMjMAWLz/dNYrDAAmaCYGALIawwZLHodNE276rCqLBq6NrXqrBmzeKq5Z3fyAnLEvNblfzIotxgYQVpZE9XJvUhKxsoYRXGeddbQpANwi9c3TT0cBQL8OWTap7jlF21cEbBS1AYzt31WdFztOUhnAqurb7D5FdJLXFvqKywZjvwy7RPq9qkKM+G0KtaWjGEA/NFXMjoXbliJzV9448Xdc3Ge0agfJ10nsOCnKAPIcf45qxoxzftE5i+tidNLqsTqy728AMEEDBgBHFJ5r1JslWgOAbVIxAJgw8Fp0aeyLzQBgexYJA4BxnTEGbBSxKfdBkdTCAGCcLgwAtsvJAGCxPtNwdsyA5QK2seSYwYsnZtkVTGzVY19sZVdssfVIPa/IJCrp9Nz8wu6zWWG6CdVfeeUVPQU9cS3HeD9WpauRBQBTdeBfH2Jo5Pwi46Tq+hW5X+w4+V8BgFmyYxwwhghWX9W4KNq/OooBLNKPss4tMnd1F6a8O7xPUvXe2a83AJigoT59+iw6fPjwpyXq/Ywzzph7J3fFxveqMn2EmvCf//yndsQRR9R69Oix2Ntvv90Wg8L50I5jjz022I7Qs1r5v7RDjM+btUOeTVvEwSakE0K/yHUEtGYri2s5dgF8FW2UtojDSUgnxxxzTLAdVdSn7D2kHZLFJUYnMeOkbD2quC52nHQnnRRtCwb6yLuog0pRPYX6V3ecu7rLOOkO75Oi/bWrnW8AMEFjvXv33nSUUUZpy9/WBT5//vnnZgMHDrzWr2p3aYe0q7u0pbu0w3Qy8iaGZuPddGI6qUIC/wvvkyrk1JnvYQAwQTuzzz77JMOGDVtp1FFHHTxs2LBfE27V0kt79uw55h9//NGrZ8+eD7z11lvf+A/rLu2QdnWXtnSXdphOWjq0M28eGu+mE9NJigRC/as7zV0pcuoK1xoA7ApasjqaBEwCJgGTgEnAJGASqFACBgArFKbdyiRgEjAJmARMAiYBk0BXkIABwK6gJaujScAkYBIwCZgETAImgQolYACwQmHarUwCJgGTgEnAJGASMAl0BQkYAOwKWrI6mgRMAiYBk4BJwCRgEqhQAgYAKxSm3cokYBIwCZgETAImAZNAV5CAAcAELXUXd/fu0g5RZXdpS3dph+kkYYIpeWkoTIfppKRgEy4znSQIr0WXxuikRY/uNLc1AJigiu4SrLe7tENU2V3a0l3aYTpJmGASL7VA0IkCbMHlppMWCDXxlnk6Sbx1p7/cAGCCitxUcL169Uq4U9ul5Nfs0aOHHpNfc/jw4Un3Hjx4cKdJBUfbKGlbTBuLpIL7+9//XkvRCbL364si+P+PP/5o0F2sokQnRx555P9UKrjjjjuu06e1O/TQQ4M66ertkD7K3NW/f/+kcRLb38ueJ+NE6hhKmSjp01LGe6h+zAPM0cxXsTmQQ3Owq5OjjjqqpW0JtTX0v7Tlb3/7W1AnRdMMNnuuL/tm5xV9X4bSDIbk0B3+NwCYoEUSkV911VUyoSbcqREAjjrqqA0AEJBR9gGS5H6LLbaoDR8+vN+gQYNe8u/TkQnVGcy0kbbFAMAiCdWvvPLKJJ34AJD6IjvqWxYAik623HLLoE6uueYa2dYuq/qWXyc62WyzzZq2QypA/7ruuus6fVs22WSToE66ejtcnVxxxRVJ46TVHUzGydZbbx3USVVzcLP2MP4BgIz7WAAYmoNdnfzjH//o9DrZaqutgjqpau7yASA68HVVhEyQa2Pmrlb375F9fwOACRqoGgAyyXz++edaq3HHHbehLAsEQ5NPRwBABi3J4z/66CNt29RTT63lWGONVddEs0m1IwEg9f3pp5+0XnvuuaeWX331lZYnnHCClnPOOaeWRXVjADBh4LXoUulfBgCLCdfftQhdXZSlGdkAkPZ9801bBs0ff/xRy6mmmkrL0UcfPThvyQmhOVjOYR6uGgDyXhljjDG0rgClX38tl71U2tIKAIisqSd95bvvvmuQ/X//+189/v3337UcbbTRtJxgggm0HG+88ULdUP83AFirGQCM6irZJxkAjBeeAcBGWRkAjO87HXWmAcDikjYAaADQ7zW8F4sygAYAi4+/1CsMACZIsCoAOOaYY2ot7r33Xi0POeQQLf/v//5Py1NOOUVLzovZLnWbFVp9dgQDyEr5+OOP16qJzY587r77bi1XWGGFepV/+eWXTK10JAPIqvLss8/Wuhx77LFasmrefPPN9Zj/hw0bVqgntQoAMomy6ve3rnwGpsgWfFYDY1bRrd4CbrYlFLs9R7taBQCb1S+2w1TdDnkuOim6BUxbGB+Mh6FDh2pzQm2lP0400UT15jN2stpZBQNInYrKUSpIO3fYYQetL3P0bbfdpscLL7xwvR0wU1l6Dc3Brk5SGUBkzJz75ZdfapUeeughLSeeeGItV1lllYY5LVY+VTKAbO9KRZj3BwwYoPV67bXXtHz11Ve1fOedd7T84osvtPz222+1pC8tssgieix9mk/Pnj31a1bbYuauLF12p98MACZo0wBgvPAMADbKygBgfN8JnWkAsFFCISArZxsADPWqtv8NAI4oJwOAcX2nK5xlADBBS6kAkMnlvffe01qIXYV8Xn75ZS0nnHBCLZ988kktZ555Zi2xfYitemj12UoG0DeaZtX5+uuva/XvvPNOLRdbbLF6c5rZpnQEA8jqGRvFbbbZRuvF6pOVJB6HV199tf4/wwwzaBnLzlYBALO232AhXnnlFa3Piy++qCV2peOPP74eTz/99Fqyap522mkL1R9lxayiUxlAn3Xi2cgaO01+x4aoKPMTAk5F2uGCUlhWdDPOOONoVfm9WX9n0QTznwV0Yc/cfhdqhzy7LAD8+eefte5PPPGElo8//riWb775Zmb/cRkeOQHdbLzxxvXxvu666+p33/lNfkthAJux367s65Vo8oU5er311tMzmItvvfVWPV566aXrV+bZ1IXmYFcnRRlAn+0XL135XHvttVo+8sgjWsKk8V456KCD9PcNN9xQS/qlfM+bx6oAgPQLd+eE3aHLLrtM6wPDN/bYY+sxduILLLCAHs8444xa/vOf/9Tyk08+0ZJ3inzHRjtr7MTMXaH+0dX/NwCYoEEDgGHhGQDMlpEBwHDf4QwDgG0mIgYAm0cwyPICNgBoANAAYP48awAw/j00wpllASCrHxiBvffeW+8tRrPymXupk+sAACAASURBVGyyybTk/6eeekqPuyIDCIuBrd+2226rbVl88cW1vPDCC7XELkW+N/Oo7QgGkBX/G2+8ofWClRXvUPn88MMPWp588slaYhu4//7763Ez+0W/86QAQIAAq+dbbrmlfvvLL79cv7/77rta4nWNhxztg0VmVX3aaafp+SuuuGKhdsSsooswZ66cqCvtlGfJB8YcpuPSSy9tEO/qq6+ux7vttpuWeJrn9S35L8ScxbTDj+Ep95XYgvKR8DHykfA/8vnss8+0vOuuuxrqT7uxAV5ppZX0fzccEHZPMLcwu8JQh9oh94phALNYGomvKZ+LLrpIS3TDudSDPuo7f8GSTTHFFPU2X3DBBfp9ySWX1NK1pSvDAFIX5Hv77bfrfV22rm/fvvpbyHsfXcBSYk8ngFM+sFDyPW9npmoG0GVWYWVh/LBLRsbsrjzzzDNaZ8pZZ51Vj3nvIBP5jXmjoWP+dVAFA4ht3v33319/xO67767fv//+ey2XWWYZLRnPK6+8ckOf4x7UFSbT9cxGT4wTV98xc1dW+7vTbwYAE7RpADAsPAOA2TIyABjuOwYA25zADAAWiwNoALDNcc0AYK1mADB/njUAGH4PNT3DAGBYeAYADQDGMGdZUjIAaADQGMDs+cMYwFrNGMDw+zd0hgHAkIRy/i8LAHmx4ViwxBJL6FPYooDSJ+jwHXfc0bCiKxNypKMzgWB/Q1t23nlnbQMGuhdffLEeb7rpplrGBCXtiC1gJhW2UNkCxhkEZ4/tt99e6832PaF7aG+oW6UwgPSfBx98UB+z66671h9HOI65555bf1t//fW1ZLsHI3wC2ko6OvmwpShpt+Sz4IIL1u+ZZxAes40SAwD9FFvycMYHW1tsdWPsjdH6QgstpHXld3RHOAi2huScvK2t0NZpTDvQjbstTx8hoC1bnPS1+eabT+vPdjxmBBjtI/9JJpmkrhP0uM8++zT0AZkbQu2QC2K2gHmYmwUHBzVCU00zzTR6Glu/hEUBoFDPxx57TM87//zztXRNPs4991z9bdlll9UydQuYZ5533nl6P8wzJMUanwMOOGCEZ9X/dL6gz7XXXlt/ZXzTtwgILf/lzctVbQFnjRPMUWgvW6ky58vnueee05KtcJxCcKa45JJL9H9Mj2LaUjYQtG++QjgteSZ9BKcn3ouYcDB+cA5BTWwNY5bgmnzcfPPNelpWOJiYuSurT3Sn3wwAJmjTAGBz4RkAzO9YBgAb5WMA0ACgAcBZ5u/Ro8eLeV7ABgDbvYMNACaAl78uNQCYIMOyAJDVMWzNo48+qrVgRbbvvvs21ArDflLDhQyX/SaFVp9VhoHxPTavv/56rc4ee+yhJcwUDAltigmf0hEMILKjPugGlgajZVgFmITDDz9cL+0IBpAVMnWATZXnr7HGGloPSdYun1lmmSWzh7MiPuuss/R/HBX222+/hmM5yMt7GrOKzmPO/FAtBAiX58JM4HiDExRsLKwMbBLjhDbgXABbK/dsFQNIO6jrqquuWpc7AW1hphjnO+20k56DQxTzArphjKDLIUOG1O8JW3jEEUfob6QqbAUD6HYgGDHmLupB3embhEviGHYGNtRlM/lvqaWW0keVZQBxksHs5KSTTmoYC8cdd1y9KTCnecGb5WQ/DAzOYcxrzAuhvhWag/8aq0EASN/49NNP622RXNzyoe/h5EHbYMTZUaLtjB93zHHTvKDQKU4gvlPQRhttVG8HoatoB7tCfl0YR7Cv66yzjt4DZtN9l8DUzjXXXHqO66gTM3dlTp7d6EcDgAnKNAA4ovAMALbFSQt9UhhAA4BtsRkNANZqBgDbWDMx9jcA2BahwADg8Pr0awAw/01kADD0ps75vywA5JY+WIKdcFdFci7MBkmuOzMD6LObeDASwuOmm27S5sOQhFbgrvg7ggFktemnVIOphGlhYjnnnHO0itiZxbYnBQDCSpCOCvtKqQdsF+FpWA1T0i6YhA8//FDrT6gFgsQSskT+w5swi6WNWUUXYQAJBivPxfZ1gw020Dpi0+QHraYtMKGEfyGgLHamco9WMYDohADB2223Xb3r0iew1YTRw26O8Uw7CDWCXh944AG9F+fLd8KxbL311vof/bbKMDBZgcZhZfy+4D5f6kPwXlgnwj+98MILDf1NDk444QT9DRs0d34r4gTiA0Bs45C327dgIpvZHvtzM30QlonQPcstt1xdzwQkz5qfq2IAMa0hVIo8HJs/6oadJfZ1zz//vNaR9wpB4Q888ED9nfECsya/tToQNDJ69tln6/Kj35MkALaOdwrXTDrppHoNzDn9Bjm8//779XsyJ2Bf787PMXNX/Ubd9IsBwATFGgAcUXgGAP8b1aMMALaJyd8CNgBYqxkA/KM+hgwANk4nBgBrNQOAUa+YqJMMAEaJKfukVADIXX3PKNIkMdhhMroCA8jKH487vEoJ8uoHuy7CZnYEA+hrGh34L2XYGtrjp7wKdasUAMizSYFEYGF5JmzdqaeeqlUg1RseithusbomuT1sCYwIrLPcg4CsWV6OMavoGO9ZxoCb1u3rr7/WNpB2z88q44NHbP/uu+8+ve6GG27Qsl+/fnV1tIoBxO4MZti144WZwpuZNHzoAPYQL0dstEgzSPt32WWXejv22muvhi5WZSo4+jyyclNr8R17RL/fUw/aDFOFTghITnw2acT888+vbckKpJwCAE888US9LwygK7NjjjlG//O9Q2mPzz7BnuGpio4AI3IvPKCxc3bbUxUDiNJdz2y8xbEFxDbuzDPP1NMJlI5NLWYDMMx408fYYcv9UmwA/XmRvi+/+zawzeZQ2GbmI/optsGkv5TrxaFGPgRVd8d/zNwVmse7+v8GABM0aABwROEZAIzrUAYAG+VkALBWMwD4+wiDxwBg9nxiALA97I4BwLh3TtZZBgDLy64eSysrD2WR27LyIb4Rcc2wkyNNF6vV2JUadQitPqvwAmYlh/0G9lq81FiJwSbFxP3zZVg1A+h6l/k2fxz76fpgLrCfgeHkvKx8rVl9IQUA+qEgiOUnz8HmhXiF9CX6DGwBdkAwsPRB7o1nptwTO84shiZmFR3DACIjl1HiJcdK3/cGxBmGvoUNEB7nsDxuvfO8G0Px82LawbMGDBhQVzvpwmaaaSb9jfbQPjw6/ZRxvXv31vNhZ1dZZZX6PWlHM7tMSV04fPjwfoMGjZg/V26SFQeQ+eU///mPPgcvc5wK5DdetsjeT33nxzj0x8OUU06p93bT3xG3LYthLgIA+/Tpo/eGjYVxhRl2U4SRHo3Uh+gN72R/nCADxg1yd+MZwv5yb9+bOS8Wq6uTvDAwWXMJ7WJHgPkA+15YWFjpgw8+uOE2ZeLKlo0DWOS9GDqXd87HH3+sp+IN7OqEFKT+boGcHzN3herQ1f83AJigwaoYQAOAcUowANgmJwOAbXIwAJhtrB8CsgYAazUDgO1zrgHA5guluDdT1z3LAGCC7qoGgNg8zTnnnFqr9dZbT8vTTz+9YWXbmRhAWAxsy4hthgcndcfeJC+mXEgVVQFA2BN3G4V6sWrmnIEDB2q18JSDUSN+HjZAZXQitnvNWBr6ltgYYk/ly4f6Dx48uP4XzOTjjz/ecDrn8uKDNcC2kVhheDtfeeWV9evJCtJKG8CQ7t3/acs333yjP2P7hF0adpkwaLEvuBBwimEAfSZZ6ud7YsO0wczgIUuMSezkiGOIh7bLXqYwmc0AILZgPBc7N+xK5ToYM7IvAMLpg8Tag+F3x5hcjy6IVym/4bEO+1bWCxgG0LepJs6dGy8TJtPvG/7cwOKc8UJ7+H2HHXaod03klRXbNLQL4+qkKAPo22wedthhWifaS92xC6a/wVDm9aWscVmlDWCRcc+5yJ6Yq9g6Mu533HHH+m35joez21ZjAGs1A4BleuBf1xgArNUMALaFJDAAGN5ulNAyzcBskWFoALA97EuW3EJA1gBg+1a2AcD8vmQAsMjM1PXONQCYoLOqACC2DHjKwWhgy4HtBqvWMiu2VuUChgFgFY/dFawRtj5kDCgKlFz1VMUAZjFnrCKJpeVHrCfPLBk/8KRjFc2LpCNsAP0uC6Mkv8Mif/bZZ3oa9aHE3gpWgDys2Jlip+baaJEnuBVxAMsMP/oSjNlaa62lt6EPYrtGTt3YZ4SAUwwDmPcsWAj6Emw5454YjGSwIKZjUaYm1I4QAKRPMO/gSS7XYRtKhhnyUVNnPDCJ1YgnLnKBnXIzWRAHkLzb7jxXxgaQZzHOyXv95ptv1tVDbDxixrljyF3Q8TvsMrllybF9xhln1O+JfrPGSdUMoDvP0D/wEsezH69k2oCtHJ7ceAvHMuQ0tAwDSH0Zu74nr9zbt2v15ch7khKPbBhyvOWffvrpuk54P5Wdu2Lnjq56ngHABM0ZAGy3wzIAOKwBcIW6VYoTiAHAsVQEBgCze5kBwDa5GABcWOVgALC5rayQLXnOUqF5vKv/bwAwQYOpANBfFRHvj7hV2HBgd1PGc1aaF1p9FvUCdlfLrKDF61A+ZPwgV+aaa66pv5etu6ueqhhAVprY7MgzHn74YX0Uq2Lyt7JixS4Luy0YQOKDwd5kecpmdbEqAaB7f99GyX82K2E/ewYeqMSoI6OFXA9rWHYVncqc0QY/VAxxv2A9yV6CDovEmKTv5nnPlm0Hsv7ggw+0KTD7sEnIF+9MbLSQd1HGPxUAnnfeeVpPxgeeu/IbXvzoBBAO2wrrhCc2toLojvNh++Q+ffv21dvBpnEs+kthAKkjNmO+PWLM1A/bRF5m+tw888yjl8O2uUArS1+hOViup3/F2AC6WTuoG17wRI/AHhO75tVWW03rTIxWGOjYOQt5FWEA0SUsJTsL7EDA2sm9mUPZcZh88sn1kfQdPLNvv/12/Z2MJ9yDXQziSso5eXOA2QCaDWDMHND0HAOAtZoBwLZk5gYAW28DaAAwbroyANgoJwOAbekeDQA29gsDgAYA42bUJmeVBYB+TCJYs3vuuUefRNwvSlZ2ebkm8xoSWn3GMoDU2119HnTQQfroU045Rct1111XS2zqsvJ7lhV6KgPIap74YNRd6sNqE5sRVs2wIGSTwIYJnRF7CsaDFW+oja1iAEPP5X/aiZ0ZLAJewjfeeGP9VjAnWcxGzCRaljnz24L+sNNce+219RS8G8m1W9T2j+eEgFORdrgZDvC0pn6McxYNxJZcaqmltCoAlrL2sqF2yDPy4gDi+U6ea3JOy3V+LmDGN0w/OXbxHPb7DMfYCss9yVQB80meY2GmqmAAY8dE1nnokXzMZN0htiO6lGvRZ0fYABJwX56L/SU7RtRpttlm0ybR/xjrxGZl16OVDOBcc82ldYD5RX7MP8y7cg7e05TkvmY8DBo0SO+FLSfx/tgxI4OWO/bydB8zd6X0na5wrW0BJ2jJAGCtZgBwHe1BBgBbzwAaAIybrAwAxskp5iwDgCNKqcgWsAHAmF428s4xAJgg+7IAEJsgWCZWzxzDsGH7R8ysxRdfXGvLqimWIaiKAWQyfOqpp+pSw44E1gAGiThy0003nZ5bdJWZpZaqGcADDjig/hhYowUWWEB/I54eMmfFzZY3rBO2ctgKPvroo/V7TjPNNPq9GSOQGgewTNf1g45vvvnmehuyP+CRCbMp/+V5CcasooswZ1ltwl7ovffe07+Jvcbv5MzFdqio7R/PDAGnmHbAln700Uf1psCKkZUAD1k8ymFmkHPsuG6m/1A75LosBpD75eUCxnsXGcN4M1fRv5rF++R/t0/BSDHvwQAJW9hZGED62J577qlioo6urSy7BM0ymlSZCcRlufBoxj4R7203RqHUmf/feOMNbQPZTYrOzUUAIHmRmWf8qBAuQ+x7u/vjgH7JuOda2ES2uF3PbD/XsztmYuauMnNsV7rGAGCCtgwA1moGAG/VHmQAsHUMoAHAYpOUAcBi8so7G6BlALBdSgYAq+tfI/tOBgATNGAA0ACgMYBvaSaOmLyzZQNBGwAsNkkZACwmLwOAvxcSmAHAQuLq1CcbAExQT1kAyDYIlDfGuwTofPnll7VWGFxjXAx9zlZDLHWfugWM8werYQlTwIftqyWWWEJ/YluLrdOsJNxlRZ66Bcxz2Z7CMFl+J5UdW9gEuiUoLdeyDUEaIhKws31PgFg5n9AxzcJCjIwtYLZL2CbBGH/ZZZfVJl544YVassUl31NDKcRsnWb1CX+7cL/99tPT2Eol7AuhR4oGtPWfGQJOee2gX7Cd6W6/ESpk5pln1kf2799fSwJYVzlG5L6hdsg5eVvAyMUf9/K7H+icbTpkHxuyxr2P3373HiN7C5gtxNdff13FssEGG2g5xxxzaElgbPnekU4gbt9lgYTjHeFRCJCMo87ll1+ul2HmgvNR7HuEZxYBgMiJ+ZEQSJjKMMbl3oTWGW+88fRRzfoSv7PrssIKK+j5JB8gmH3ePRgnocVr1rzUnX4zAJigTQOAtZoBwH9qDzIAWP0WsAHAcpOTAcBycsu6ygDgiFIxAFhd/xrZdzIAmKCBsgCQR/rhHggyTNohPzE5xuN5YTmympPKAPr1dcNskNaKRO44qJRNW5enjlQGEHn6AbjlmX7qN1bFPuPBPdAdhus+Myj3hB3JSg/X0WFgqB99iyTpsGkYiOPcAlPotiNLNzGG1GUZQF6+BBXfa6+9tAqEvdhuu+30uIog4zACRQNB+4npYSmvuOKKurgIVEuA5eWWW07/a+YokTAl6aVVAcDUelRx/chmAH12EieYccYZR5uH41FonITmYLm+SCBoV7bUkb5I2B7C+MBKw7ARZof3SVGnqSIAkNzfflYWQtO4cyM7Juw0hdhk7kk4GN45sTsBMXNXFX24M9/DAGCCdgwA1moGAMfQHmQAsHoG0ABgucnJAGA5uWVdZQBwRKkYAKyuf43sOxkATNBAKgDk0f4KzrWLcKtX1M6Ga0Orz9hA0NzPrR/AB7ar6GqyiPhTGcAiz2r1uR3NANLH0A/plAgJQSgiwja4Os5bicesossygNQZu0xW+HfccYeqh7R1RW2Ymuk2BJyy2oH9FSE1sBFzmQ1ssrD5g7EMMRxl+2CoHS7bJExlnz59yj6q5deNbAbQn6P93ZfY+S40B6cwgH4d3VSd8p+/85E6V5cBgP67I+sdVzb8UdnrYuaulnfwkfwAA4AJCjAA2M58pU4qMWowABgjpexzDACGZRcCTgYAwzKs+gwDgPESZYwbAIyTmQFASwUX11OanFUVAEyqRMTFodVnUQYw4pEtOcUAYHVixcYPRgOP9Fj7GWoSM4mWZQB5Bl7xMH2wlHgBVsWklQGAfn5iEtbjyShtgGGLtW1K1XKoHcYApkq4+PWhObgKBrB4rcpdkcIAlntia66Kmbta8+TOc1djABN00adPn0WHDx/+9NFHH13D0Dvhdi27dPDgwbUjjjhCcowu9vbbbw/wH0Q7jj322Bo5LltWmYQbS7YKycXbrB1/vWxVJ2Lo3Nl1IiERQjqRMC2t0AnOK2zFsL0au6WFGkUnEvonRifHHXdcqbbIC0c+gNPevXvrMSC2KgAobTn00EODOnHbAQDEMerdd9/Vurm5WtFfXlaChGExwqWhdrjjRELSdPZxInUMjZOuPge7OjnqqKM6vU4k/25IJ62au6oaKzFzV1XP6qz3MQCYoJnevXtvOsooo1yTcIsOvfTPP//cbODAgdf6D+0u7ZB2dZe2dJd2mE46dIg3PKzZeDedmE6qkMD/wvukCjl15nsYAEzQzuyzzz7JsGHDVhp11FEHDxs27NeEW7X00p49e475xx9/9OrZs+cDb7311jf+w7pLO6Rd3aUt3aUdppOWDu3Mm4fGu+nEdJIigVD/6k5zV4qcusK1BgC7gpasjiYBk4BJwCRgEjAJmAQqlIABwAqFabcyCZgETAImAZOAScAk0BUkYACwK2jJ6mgSMAmYBEwCJgGTgEmgQgkYAKxQmHYrk4BJwCRgEjAJmARMAl1BAgYAu4KWrI4mAZOAScAkYBIwCZgEKpSAAcAKhWm3MgmYBEwCJgGTgEnAJNAVJGAAMEFL3cXdvbu0Q1TZXdrSXdphOkmYYEpeGgrTYTopKdiEy0wnCcJr0aUxOmnRozvNbQ0AJqiiuwTr7S7tEFV2l7Z0l3aYThImmMRLLRB0ogBbcLnppAVCTbxlnk4Sb93pLzcAmKAiUqhVnfKG9FKk6aKKpLwaPnx4oVqHUt7QjirTp9EGKuof05YiabwkpV1e+jR5lpuerxUp1AoJPudk0UlMer7UvkUf8vuS36eKpoDj+lDfcnXS1VMN0rfKprSrqu+E7lMkFVxq/wrVJfX/UP+qKh1naJww55aZt0QGoXScKXMXc2uz9wY6SG2DO+Zj5i5JFzfDDDOkdoGWXf/BBx/UJO1eXhrLlj28k9zYAGCCIkhyf80118jWY8KdGi9lII866qgNfzCAiwLAUNJr2nHllVfWE9enNsYHfEyw/gRaBABKTtgtt9yyNnz48H6DBg16KauOtOXqq6+urC2pssi6Xtqy+eabN21LVX0Luft9yX8plAWAob4lz6Et1157baXjpGq9SFs23XTToE6uu+66Tt+OTTbZJGqcVD13tUInm222WVAnV111VdJ4Z3w0Wyj5c2+ReUtkIuN9iy22iNKJzF1F3ic+APTHuk8clAWx6FbGSczcddlll9Vmm222qrtEZfd75513attuu22uTip7WCe9kQHABMVU9ZKmCgxkXsaffPKJ/sXkM/XUU+vxmGOOqWXsSzv0kq4CADLpkPD+l19+aaj7t99+q8djjDGGluOMM46Wo48+esN5eeqoGgC6INUHqMic36k3x377inajVgNA9MFkf9FFF2kV33zzTS1XXXVVLRdeeGEtxx9//Gg9uG0N9S05t1UAkL5GH0InRV/OtKezAMCxxhqrQRe//tqWZdJfVDXrc9KOKgGgC4qYe/y6MF5+//13rdZoo43WUD1+RzdVz11lASB9591339X6XnrppVq+/vrrWi633HJabrDBBlpONdVUWhYFUVUDQBfkIeuhQ4dq3T7//POG/sI4mXTSSfV35l50NmzYsGZdKfP3VgFA6slc+9tvv+nz6Tt+ZWg3fakoMWIAsFYzAFio6zeebACwXR4GAIt1JAOAxeSVdbYBwGwZGgCM71sGAGs1A4DNd5Tie1LXPNMAYILeqgKAvu3Geeedp7USmyn5sLJZd9119fjoo4/WcuKJJ67XPm9FHWJpijKA7uof4Pf1119rXQYMGKDls88+qyWr0ueee06PWYXOMssserzhhhtqudRSS9Xb4rMF/FEVA0j93Ynv+++/18ewOka23333nf7+yCOPaMnqep111tHjiSaaqEFH9UYEvrQKAMLW/PTTT1qDM844Q0sYQNoDg7HRRhvp/+eee66WrKpjWbRQ35J7Vs0A0ufef/99rfOLL76o5WqrraYlLFVsG1DVyGYAqfcNN9ygVZpyyim1XHzxxbVsxoT4Xa0qAAjA/vHHH+uPuOeee/Q7jD5jadppp9Xf2fKDaWaMzT333A26ce1zOScLiIT6F32rKANIH/ryyy+1Xvvuu6+WwgrJp1evXlq+/PLLWvbt21fLK664Qsui474qBpDxPWTIkLpObrvtNv1+9913a/noo49qif5g92H755tvPv1/m2220XLyySfXMhYIVskAukzmhx9+qPV4/PHHtezXr5+Wc845Z0P96HPvvfee/g4rO/bYY+tx7Lg3BtAYwPogKvPFAGCtZgDQAGCejZaMKwOAcbOLAcARtyINADb2HQOA7aYQBgDj5pW8s4wBTJBhKgBkMMO6PP3001qbjTfeWEvstJZcckk9Fi9d+Wy33XZa7r///vXa57EDsZNoyAkEsOeuPk899VStwzPPPKOleO3JB6aJek0wwQQNqzNYBZhA8Rjjs+yyy+pXf0VXFQPIyvjOO++sP/PEE0/U75NMMomWU0wxhZZffPGFli+88IKWMK2ssueYYw79PXb1zANbxQDSl2699VZ9FKt8ZLnmmms2tAum9uKLL9bf11prLS2xv5HveSvqUN+S66sGgOivf//+Wld09+qrr+rxrLPOWkonHc0AwmQwRmD+YKOYB84//3xtjzvGQzpJsQFkXvr000/1ue7YvP322/U3GGbaALMPEygelv/f3nnHy1WUb3wJUQHhJ4jYQgskGEQEA9IjvRdFQKX33o3UBASCgCGANAkIIn4AkSogHUVpIk2kf0zAUBQEggqKoCH5feZdv3vnTs6eM2fP7L33XJ/9Z7acM2fmmbLPPPO+77gXuxcoaqhRKGrumvXWW8+uZb7zbbmK+lcZBdDfueD9wQcfbM92CqJ7XXLJJZZutNFGlj7xxBOWohQyF2OnGas2VVUAQ/tw/gNc2ZibsFMEW7BmLDPnMjewa4P6j0ob9jUDwHulVACx93PZ33zzzfYU+v1BBx1knydOnGjp22+/bSnjn/6y4YYb2veHHXaYpe+8805Y5MzPUgClAEZ1lHYXiQA2GiKAIoB9rQCKABaTchHA2WdtEcDmVr4IYLNviACKAPYLAWSFzUrFhWJwL+xLRo0aZZ+xBZx//vntM6tTVmw33nhjq/zzzTefvc9akcauotspgEycrMwPOeSQ1nNRLUKv2eWXX96uwX6JVRo2dtjUURdWq+4eFwbBvbD9YAWbSgFEJWPV756199572zMp90ILLdQLz/XXX98+4xW45JJL2ud2YSOKOla3FEDI0T333GNFmDRpkqUuvIl7sbpG+cOW0ZE49zrrrLMs9VfRRWpTXxNADPcp67hx46zMjz/+uKXEHiuryva1Akg9sGHEHvPll1+2etAnUThpW/dbnsdjVRtAxsf1119v5UAlc+9R9lHCwzBDlMsvq7svbAs8tt1vRx11lD0HpZG8Xb+LnbtibAD9Mk2ZPLr1owAAIABJREFUMsWeidI3ZswY+8ycO++882YO4Xb2yTHjvUoYmNBu+cEHH2w9cuTIkfaeKBFhWBgu5HuUNJRm1FqIobserNr9n6QKA8MYcM/Efhy7cGzezz77bKsC/wOYSmBvioJ8/vnn23XUr6hNRABFAIv6SO7vnSqAIoA9ThUigNkeaJ32LRFAEUARwOxpWwSwafElAtjsHyKAIoAigJ6NlhRAKYBSAPsuELQUwOb0KwWwiYMfxD4MBC0FUApgJbLS5mY5gVRAtYxK49ufsB3ijmFyrzPOOMNSvsdQny1fDI5xvmAbj9Tdi1Gwb7xP1WK3UdoRQBRLwgzsueeeLdTC7QaMpE855RS7hm1cDJAJo4KrP9tbr7zySitPHBfYEuKP0tUjxUkgbHERRsQ9GCzZKj3yyCN7tQkYsD3VLuyOv9WVt3XarS3g0FgcY33C2lB3ttnZZqRNzzzzTKv3QNwCDsMl4QR1++23W5lxzMEhITbYsD9O+vIkENoCFXz8+PFWFBymGP9rrbWWfZ81trOmr6oKIDizTetvNxIWBeeo119/3YrA92xftzu2kjZZbrnlWkVni4/v/HaLnbtitoAxP3EPxqEOBwNsmRkHBN8O8Y11+gjvq+oEQn5Zp0SVPeINxwtC3hxwwAGWvTvhhhd9MMvUIKUTiB8Ghq3ojTfe2Iqx4oorWjp58mRLMXOi3GwVH3jggfY7c5lvXpA1PvhOCqAUwLz+UfibCGCPSz4TkwhgTygLEcDmEErlBSwC2DwZoeglApiNkAhgExcRwCYOIoAigEVzae7vZQgghqsuQ9SXY489lj9IS1GZUL5YEbNKQjHA6J3Vtp9n1uondhUdKoBMFHfccYeVj5UiQWDdd6zWCR+CmklgZRxcONaOgNCE6sAu55ZbbmlhjQG2O0vSvSCV7nimFAogOPur/D322MOeRXncubXuhepCua+++mr7nhAZkBLCwWBY7a5Bucwigt1SAAExJEus5OmHKK/0JUIuEDh6ICuA9HEUAgz56XuhIhI7yPvKCYQ+RvgOHHDoU85ZwL3OOeccS8secVWVAIZ9yD/WjfGOen7xxRfb5Y899pilOLSgwtLfcGRDzfzKV77SahZ2CbJCWcXOXTEKoO9ott9++9nz3ZznXtdcc42la6+9tqXhmA2VdZT+WEUwlQIY25ezrqMOEGH+h5gLUNDdveFxcX5+KRXArEMFVlppJXsc/wO0Ec6RY8eOtd/pezjz0XaxSrkIoAhglfHUUjZiDlQXAWyeaywC2OxyIoDlh164NSkCmI2hCGA2LiKATYsvEcBm/xABFAEs/y/k3RGjAKI2+ccpYa9HsGHUs6uuuspyZ+WP8scqE0WJlc8VV1zRKg1KGyvtToKphgogEwWOAay8/K0UjJUJFcGh6tiToBRgx3jEEUdYmVHKUNr8oNas4LDL2Xnnne2eVApglh0NQUQJT3PbbbfZMy+88EJLCZQM6cAeBSUAYoui5u6h3Fkr0m4RQH9F7Xdu+tK0adPs63333dfSu+66y9JDDz3U0tNPP93SgagAUgdCeCy77LJWVlRLVMxYG6Bw8PeVAoiixlGPKDCMc/re6quvbkWMVTSoTyoCGB4r6PJn7rnyyivtce5Z/mv06NH2kbGLMh7uYvhqX164nhQKIPXwcUTxJ3A9dqTU5aGHHrK3pARXJvSIf5Qd9xSZfFQJAxP21TKfqT9zMEof8zm2dMwBLu88FT2lAujbALJLtMEGG1j12AEjvAtHvmHzh40s/32Eg4kdLyKAIoBlxtFs14oANhoigE2bPxHA9geqp7IBFAGMm65EAHvjJAI4xAARAezdL0QARQDjZtQ2V8UQQFQ7CILLykXpd69TTz3VUg69ZuXvgmy6V2hDxmdWPigI7lq+W3XVVe1efxUUu4pupwCiSKLa+QogB9ajarz00kv2fOzrKA+rS+z5yIPg1yiDftmx6cImKrUC6K/YCW6NjR82ing5Hn300VavrbbaylLsIyEltKmfJ3ZFWYpUSgXQD0aNfVkYqJf2QeE75phjrB4cBI8Si8IZ681c1LfcM1ITQI58W3nlla0O2IriPR57FFQ4rLutANI2qLCM80cffdSKQiBo+j1blv1lA0jfZm5xZUSpD4Py0u/xNidQOkfAMQ+wQ0FgeJdnXjD1ov4VcxQcuKMwuWcypxA8mTqyk3HddddZmxD4GsUfJZBdEVRod22eXWBf2gCyC8Achcc23uYE72cnCuXcb4eiQOOpAkH7R8Hdeuuthrmz83YvysecRTvSRuzOSAEMZ7L4zwoDE4/VbFeKADYaIoBzWr8QAew7BVAEMH/SSqUAigCKAGb1tJRbwCKAFQhIgltFACuAGEMAWbVgp+Qeh33M3XffbU/HnoRVdbsVMXnhJXzDDTe0So/NHVuyvo1N7Co6VgFkNewezkoxXP2yMr7gggusjKyc33vvPftMXfDgOvzww1t1AYduKYD8sXHAu3vwbrvtZs/HJm7zzTe3z9j0YY9CfUlRMlFv3nrrrVY9brrpJnufpUilUADpJ35b41lKPbCbQelA6aTu2AHRp8A+1ruxqG+5+qdSAPmzIIYbqg1HltHHsrxJY4Z5txTA0CMb9ei4446zYuExixqOp2wVW8YqZwGDFX3g+OOPb8GH/RiRAIjrGR4XGR4JhwLNLga7Ci5jVHXmBr+tivpXGQUQL2uXPwog8T85HYM4mKjLpMQ5xEZ4zTXXtGLioerehzbbfj36QgFkPmBuxSOb8UL9Uf+JN8vcHas0pySA/lFwYbQJyk1sRo56ZE7+9a9/bRAzbmQDGDPL9b5GBLA8Zq07RABFAEUAn2n01VnAIoBxk1UqBVAEsNEQAZy9z4kAxo3DOlwlAlihlfIIYOiN6ceHe+CBB+yp2Jmg0rQ7uSA8BogYWn5oGQ7yzvLeil1Fx3oB++EU+JNg9UsUd2z+8AIMVZnQo5njoBwu3VYAWSH7cRQ5AQRMUZdQzsLyh4oHnnTzzDNPq0fhKZnaBpBng72vpnCqwvTp060cKC+hOsGqnxNbsJ9DRfC988Ih4qu9RX0rhQIY1nfddde1Ii244IKWooS3O70hdoh3SwEMlVrGBjZMq6yyihUR2yzMKsqeZEI9UxFA8iOmpz82p06daj9jz0gdOaWBvo9CyHhnbPs2gBdddJHlxdjpJIJBXhxAxruv+O+yyy72TAgetsuoyJzKQhu88cYbdj07A07Rcy880t37vNh53VQAGauc+oMihj0ztqabbLKJlXnhhRe2lDktVu33+1cqG0BfAcQTm3izxAOkvNjIE1kC++XzzjvPiiYFMHam67lOBLA8Zq07RAB7AqaKAH6t15+Y+yAC2BwqVbeARQDLTVIigL3xEgFsOhWKAPbuF/IClhdwuZk1uLrMFjAevy4LYspxHi4qU7t4WExgeHOhAHICgstzwoQJVrosFaRIpaEe7U4CufPOOy3v/fff31L/JBBWjyNHjrTf8MjC+6+d8od3HStx7CFdHigA2ACmjgNIM/pKw4svvtiLwBW1CStXPDipBxi5zDibMnUcQJ6NYuTH78KOirM8iT9JXbk3tPdBTRsxYoThwOkM7v3yyy9v37ESR9V1YSWKVLMUBDAM47HGGmtYeSgH9q+dev/SH4rqwjhxz8PWNmYCYXFEn6c/Y0+21157WTaTJk3qlV1ZZcavRwobQIg384/LH0WM7fjwLHBUKFQaYhxyjjhjgRioLs8UEQzyFEDK6O+YMDax7WPcEnuR+Ys24Bx2FEDiB6IEunr0pQKYFe+TnQDUWWKbLrHEEtY1+H9ppyzH9rdubQHff//9Vk7mM86H50SQYcOG2e+MIxTdTs/MFgEUAYyZv9teIwLYowCKADa3lEQAZx8uVRVAEcBy01QqBVAEsGd+EwHs6YMigOXG40C+WlvAFVonhgCyUr7xxhtbT+IcSmweiC4fqmWhVxcqH56zfp7E3cry5OpUAaTAKADYl/nxB1lV4rGFlyl1Cf9EsJlBBcVexVcuIZOsaDld4KmnnkpyFjD18lfR1BH8iuyvsFfC/gTPNNRSX6HKyquKFzB9Cgx9+0nqRLw1/rgo75FHHmnVJygsnne0F+3DKtu/lnagrq7fPv300w3nSTlzZvfCwKCgYU+26aabWh2IScdZup16//rKmbMFbVeXThVA7DCfe+45exS2TSgunK6Bsh97kkG7qSsVAWQs+GfEYuOH92xorxiqbSjrnHaEYsa5ra4OeEWjMPvjJXbuijkL2LfPnTx5ssGHRyzev9gC0wa0HfMU0QoWWGABu9+P78qYypqDU9sA+momJ0iddNJJViZiemLPGMYEZc4mpY5+ufPmv5QE0O/DjHPUVewu2YEgxiS7afznYMfM6S6x3vNSAKUAVqB/PbZNeWcBiwA21xgQLBHAZpcTAYwfeiKA8Vi5K0UAs/ESAWyeCCIC2OwfIoAigOVm1uDqGAWQ1RVn5Lostt56a8sJJQNFjRVYeOg9ih8rPFatxEfyB3VWhWJX0aENIHmF58iOGTOm9RhsfvbZZx/7DhWDqPvYC2JrgwKAkoDyRyw0lwe2f+DDatzd66LEx6hNl156aWPUqFG57euveFFjslbDLhPaBBs62hMlBI80/3xm/nCybGuqEEDKgCqBrY9fTnDFY5s4f36fcdcT/4wyEivMP7satQG7SJQOR+qL7ObcM6puAdMmTgF2L1QalA7s8YpU26LBXlSXThVAFj+oRdjucioOtpzUM9YWq119qhJAxvuDDz5oj8BD3L1HUeY8Vrz+UZypKyfoEOmAtkJZ5vQWlydxAFFufGU+du6KUQD9fJlTCOBOjDnsz1AoUaFQl8Ace02UTfd93vm5qRRA6kBfcc9l7sXzn7iYYI3Kj70ygdQZ4+weEZfS5cl8ljWmuqUAgi19KIx+ER4FiSc5/YcdI+a0ovEuAigCWNRHcn8XAWw0RAC/YX1EBLB7W8AigOWmKRHAbLxEAJtHDooANvuHCKAIYLmZNbg6hgAy6fgrKTzjOB1kgw02sJzxPEO9QTHAdoj4SNhx+bHais5uzAvW284LOASHrQPK734n1hSKX+gJR7nanXKC1yqnH7g8zz//fHs08RF5bioFkBUm3qPuWU4xdC/skfCCDcuPCoUKi+cayt8666zTgi3rZAN+rKIAYhuKOoEi5vKmz+AhS5/h5AP6ISpTeOoMfcr/s+Ra7vWVjiKFxpUplQL42GOPGXzY0KKcoUzGnmTQbtCnVAB9/FgkbbPNNvZoTjBAjUXxDsPddDo5VSWAjA9slDnlxpUntEvmMx6aqNPYceGZTdtsttlmvcaZ+4BtV5byWdS/Yk4CycKROqLkMxcTo5X5jPpgl4zdKfXw7U7zlNtUCiCLIbysXd040QO1n7JRF9pxkUUWMSiwX2Q8M6fxP+Su4RzzrD7ZbQWwXb8P7ck5bQoVlnHk2y/njSERQBHATudYu08EUARQBLD7J4HwpycCGDddiQAW4yQC2BPSRwSw/e5FcU+q9xXyAq7QfiKAIoAigCKAWVOIFMA/GixSAJu9QwpghT/a/94qBbA6hmEOIoAVMI0hgGTvb7WxxXvuuefaz4QkYFVKUF7Cw+A0gtFr2a2i2G2Udk4gIUT+8T0Es6UuhIwItxbJg60gtrtXW201+2n33XdvPQa3/9AAOfUWMIG43YM5qo+wFquuumqvarOtcM8999j3GFwTioBt2CzHkqwuVmULmPYH44ceeqj1iCeffNLec1g9W1edHvtUNDyK+pa7v+oWMOPihRdesOIQxBcnGOwvB9IWsN//6SsEGWbrfuLEib36flUnFtqqqgJI2XHk8J1AHnnkEXtMO/OGcBt0xRVXtOtx6OLIREK+uN/aBcB3vxX1r063gMEqNHlwYY3c6+GHH7aUbVWOjAuP7Yx12ElNAP0j6MCWkDuYf3A0GuGbSBdbbDGrG+MFpxFMjdxvmI5kBbfury1g2owdARyQ6KeY9DDnuevzQkNpC1hbwEX/b7m/iwA2GiKAJ1gfEQHsnhOICGC5aUoEMB4vEcBGQwRQW8DxI0ZXthAoQwB92EJ1jNAbYagRjsAhxZEidtXpKwIpnECymp66vPXWW/Yzq7F23YSys7JE7SReoruvnRKSSgEMj69yzyTI8GmnnWZFJ6Az1/JHgaE04SNYbVPf2LapogCG2PrYQZboK6grseUqO7yLFBqXX1UFkD5G2ArOWCYED2FpqtYxpROIP8YJneJCGLkXYZQImt7ueL6ybeGP95RHwflj+r777rPHEN4J1YmjHLfcckv7nRBI6667rn1GlaE/xqq1Rf2rqgIIZmF4lTAcFEpS6EQV20apFMAwNIp7PkemgS1ONaTMD8wJ4fyat6PU7mCBHXbYoTBgugv1wy5WLE4x1zHH3XbbbXY5oYbGjh1rn5daaqlWNlIA8xHVFnBMj2tzjQhgj1egCGCzk8SSEBHA+IEnAhiPlbuyqgIYkiIRwJ6tRBHAZv8SASw3Jgfq1SKAFVqmUwIYTrB+OBefREAmYlfL7aoSu4qOtQHMeg5/0u1s/8J7wrrFEKdUCmBW+WkDyt+uPOFqucofQswkmnfKTIWum+zWor7lHlRVAQwLS1ulspkj/5QKYBbA7QLcxvT9Mg2WigDyTH9+ylLP88oWe7Ri1bkrJhB0GQxTX5tKAQz/O9xn+hW/gXleYGq/fr7DEt/n9cn+JoCUMRxPYZiqojaUDaBsAIv6SO7vIoA98IgAzirVl1IqgKUenPhiEcB4QEUA47HySXmM+YoIYA+2IoAzozqaCKAIYFRHaXdRVQJY6eElbi76k44NBF3ikV25tJsKYFcKnJOpCGBfI178vG4rgMUlSHNFagUwTak6yyV27vpfI4CdoZnmroGiAFatjQigCGClPjRq1KjVZs6ced+JJ57YGD58eKW8unmzi8o/fvx4F8V/9Wefffb+8FnUw4U0ITxLN8vTad7Tpk1rHHvssW3r4fKlLhMmTBjwbeJOEylqk7r3Lb9N3JnXA32cjBs3rrBN3JncA70eRx99dNQ4qXv/8sf7QJ+78sb7YJy73PnjhJzpdM7v5n0urNTxxx+fO066+fyBkLdsACu0wsiRI7ebY445LquQRZ/eOmvWrO2nTJlyefjQwVIPV6/BUpfBUg+1SZ8O8V4Pazfe1SZqkxQI/C/8n6TAaSDnIQJYoXWWXnrpBWfMmLHhnHPOOW3GjBnvVsiqq7cOHTp0rvfff3/xoUOH3vbMM89MDx82WOrh6jVY6jJY6qE26erQzsy8aLyrTdQmVRAo6l+Dae6qglMd7hUBrEMrqYxCQAgIASEgBISAEEiIgAhgQjCVlRAQAkJACAgBISAE6oCACGAdWkllFAJCQAgIASEgBIRAQgREABOCqayEgBAQAkJACAgBIVAHBEQA69BKKqMQEAJCQAgIASEgBBIiIAKYEExlJQSEgBAQAkJACAiBOiAgAlihlQaLu/tgqYdrysFSl8FSD7VJhQmmw1uLwnSoTToEtsJtapMK4HXp1pg26dKjB0y2IoAVmmKwBOsdLPVwTTlY6jJY6qE2qTDBVLxVgaArAtiF29UmXQC1YpZ5bVIx6wF/uwhghSYaLEeoDdbjlOp8NBRt4o5TGuj1KDpOqa+OTPzQhz5ko3nIkCGWvvfee5bOnBl3OHzskYl1P9LOYdJXbVJherVbY9tkMB1jefLJJw/4owaPOuqowiMTB8M4qdp/B/r9IoAVWmjEiBGjhwwZ8siPf/xjN6FWyKm7tz777LONnXbayf0RrjB16tRHw6dRj24eqD7nnHP2+nOeNWuWfX7//fct5XMeEq4eO+64Y9t6uHtT12WOOZpDhPKH5e605YrqQj0uvvjixmc+85lOH9P1+9yB6rvuumtUm1x22WVuiz5ZmWiT//znP5bnJZdcYumf//xnS3fffXdLhw0b1nom/S2rEO6Q++23375wnFx++eVJ69EOkLDv+dfNmDGjLY6uHtttt12/tEmyxv1vRrFtUvc52J+7rrjiij7pX522lWuTb3zjGwNmnFSpR9E46TTvutwnAlihpUQA48ETAeyNlQhgfN9pd6UIYDYyIoDV+1bqHIoW4SKAqREvzi9mnBTnUu8rRAArtJ8IYDF4H/zgB+2iJ554wtKrr77aUtSNww8/3D5znXvfbsuuiDT5k2gqNROS8eqrr1o555133l5pnqKUh05RXaQAtkePNnnzzTftIrdl5l7f//73LV1sscUsveqqqyz9/Oc/38rs3//+d9uMY9WmbiuAjA2UzVdeecXKTL3d+09+8pP2HdvdfqVi/tjoX6lV2bw+38lvsW0iBbATdDu7RwpgZ7gNxLtEACu0ighgMXgigNkYiQAW9512V4gAigDSNwbLHOzqQ120Bdz53FDmzpiFUpn86nitCGCFVhssk09KuznUC4jf888/bwgffPDBlt5xxx2Wrrnmmpb+8Ic/tBRFw71vZ99URJr8SbSqAjjXXHNZuW6++WZLndGze6288sqWTpo0yVKui3U0oLsV1SWVAviBD3zAHknK87FlLOsoEQ6XvrQBpG+h4h1wwAFWnGuuucbSnXfe2dJ9993XUuwNUdLCsoefY9WmbiuAtNVzzz1nRdxyyy0tXWCBBVpFvvbaa3t95yvRMX9sqRVA2qYI4xhbXz+P2DYpqwBS3iwF1R8vLDaYk0gZ77H16eYWcDvsY8tW1GZZ40Q2gGVRG5jXiwBWaBcRwNnBEwGM61AigHE4+VeJAIoAhr2m0zlYBLD8+OMObQF3jt1Au1MEsEKLdDr5VHik3Vo0eblr/BVq0eozhQIYlunee++1sp500kmWPvjgg5ZSrvXXX98+T548uZeS4T60s6srIk3u3qp1CdUXVKXf/e53Vs7555/f0rvvvtvSJZdc0tJYlYm2L6pLVQWQkCgomM6b2Mf2Yx/7mH0+5phjLP3Upz7V6/fYPtqXCiB1+t73vmfFO+ywwyzddtttLT3vvPMsnWeeeSxF3YxVp2LVpm4pgJSTev7sZz+zeqBofu5zn2s1i7Pdcy9UwW4qgL5KFnrtU2a+R53le1Qo8qBuqdskRgEcOnRoC79//OMf9v7FF1+0NFT0rrzySvv+ySeftHSNNdawdMMNN7R00UUXtRSbYD+PrLFTNAe7e8psAfs7DmDMd9STXZhYrH3FEKUzS0XsKwLIXEwZ8jzfHX5c57cz7+mfzNMOkxilPKstB9N3IoAVWlMEsAc8EcBmKJLYlwhgLFI914kAigCGvabMHCwCmD/mRADLz0l1v0MEsEILlpl8OnkMpIqVEBPYO++8Y9n97W9/my1b7kGpcitvt9LZYYcdCuM2dWI3F5bxxhtvtDJ961vfshTvWTwxWUmjzkyYMMGu4889byVdRJr8VXTZuoTBgw855BArF0rLQgstZJ8pNwrnQFMA6SuoRwcddJCVG4Vv7rnnts8omuPHj7fPqGlllcy+UABRMn77299aWVH8UDGxI1122WV7tVHZMdffCiDj25XDvXbZZRdLp06daumFF17YqhJ2gVmqSIyyEWMDyNhmTLuH33TTTVYG1CZs5Ii9+Pvf/95+Dz2Zhw8fbt+jRPtxU/P6XGyb5CmAzC33339/C78f/OAH9v5Xv/qVpe+++26vcv/rX/+yzyia5EEb7bbbbvY7OxzufZ5qlkoBZCw89NBDrbp897vftfcvv/yypcQNHTNmjH1GEYfgkdJGpJ/4xCdaea666qr2PlTh3HcpFUCfdDIH06ccZu7F90sssUSrfFlvKOtrr73W+vkPf/iDvWf+Zr52z40ZJ7kPHAQ/igBWaEQRwJ6JnsEnAhjXoYrIbKdbwCKAPSQ9riV6roolG93aAhYBnL3FYttEBFAEUASw7IzXaIgAlsesdYcIoAigFMDunwQiBVAKYNEpRiKAIoAigOXJjAhgecySE0A/wKvLHFmcbQgcDpDEH3/8cSvDG2+80SpLaADLdtiee+7ZcOEkxo4d25UtYFQLjKlxmnj44YetbBhNn3LKKfaZrUi2ilZYYQX73rfPaRe+oEg1c/l06gTC5OG2NN2L7ZO11lrLPrPt/vrrr9vn66+/3lK2TYoMlMNuVlSXMgqgb+TNFvXaa69tj8QUgCDJDzzwgH2///77W8pW1hlnnGGfB9IWMFs/YM/RbrfeequVlaPftthiC/scOhyAeWyw7li1KbUCSCghtijHjRtnRaetvvCFL9hnHBPc+49//OP2XVb4oZitrZgtYPBnu9Q9z51N7V6YnzBumcM+8pGP9Bov9Cfq4Iiae+FE4d4XHWsXczxfFgFkTD/yyCP2TMwh3HucO7gm7CPUvV2fop6XXnppa2ivssoq9j6rPqm2gMH5L3/5S+u5Bx54oL2nH4WxV9s5gdB33HnL7kWd/LFFuC7mFfdbyi1gf95nG/5HP/qRlefMM8+0lLmKUGK0VehoxH/OiSee2MIGU52tt97avsPp0LVRzDhpZTRI34gAVmjYVAqgCKAIYNgNRQB7bH9EAEUAO1EARQCbpy+JADYaIoDZREcEsB8JICs1VKef/vSnVhpWRSgdGLuj5nDU1TLLLNMqvR9I2X0533zz2W+LL754wxnCOiWwaBIt6zjh8sc4euLEifY8DJJRoFjFDRs2zH5ndcykVEY5K1LNXP6dKoCs+N966y0r5y9/+UtLV1xxRUu/+c1v9uopGLMTBiJWZSKTorqUIYB+kGfU4l133dUetd9++1l6/PHHW0rQ5B133NE+O3XFvU477TRL+1sB9NVfHFZwfthnn32sjF/72tcsRZmiD3Lv9OnT7XcUjgUXXLDVdnnBcftaAWScP/bYY1Y+QvIQLB1j/lNPPdV+R00vaqcYZSNGAcwaoxjV33nnnVYm5iCM7Dm2zu04uNe0adMs3XTTTS296KKLLGV+8tup1Ujem9g28RVAcEXZcnOfexGMQMskAAAXq0lEQVSKyr1n7qWP4Zy211572bU4HPz973+3zxxZiUqL6kxIInfNRz/60V79zq9PKgWQPH3RgF0J6kL933777SxIW3M2jiR77723XYc5i3vP/PbpT3/afgvDDFUNBE0Zfcecs846y55F///yl79sn/lvoc7Ul7kORx4Uc/qgX27a9eyzz7Y83TwXM04yARxEX4oAVmjMqgqgCGD+9k/YNEWkyV0vAtiMTygCKALYbsHnj5O8s4BFABsNEUARwAoUYcDfKgJYoYk6JYCsflixYPODvdk222xjpcJ2hdXm//3f/9n3ZY74cSu3IuJUljT5dht/+tOfrEzbbbedpSNHjrT0/PPPt5QQBNh3YEvy4Q9/uLUSc29ijlIrqkcVAkg3CMPaEAbi61//eq+ewgoZJaM/FUA/hA7hX7CbQYkh3Au2gCeccILVZ7PNNrMUJaO/FUBf2SCsBWUkeC+K4AYbbGBlf/PNNy3FJvDqq6+2z7QJoYbcdyjTWfWMVZuq2gCiNkMuCPT885//3MqNqowqSzgYbIKLpqwYZSNGAQzHhPvsj32/HCxmb7/9dvvahZ3y2wDlha04f7znHasW2ya+Ahja86J2T5kypVVkAmhznCD2gdQDezrsrQkLddddd1kehMOhD7rv/vnPf7ZtmtQKoP+gdsfZhVu/jC12OVD+XnjhBcsOO233HhvoduOkrAIY2qi/9NJL9kyUYfee9sG+Fftk7kUtfPrpp+1ebOBpM3Dw52Js4Zkb+H9y18SMk6KxVvffRQArtKAIYKMhAtjcahcBnLnC1KlTH80aTmXIhgigCKDfh0QAi/+gRAA/aCCJABb3lfAKEcDymLXu6JQAYovCqhOPOuxQ8Cbbaqut7FmsiMqqMxS0aPUZqwAywHy7ve985zv2GGc/6F477bRTL0Q50D70GmTljLLmH3Tfn0fBUfhw+8uteN0LgkLw4YGgAPqkCZsrAgWzesa+56mnnrJ60B5HHnmkfcbGsWwfSx0IGsXYlQmbOPoYKiaK3vPPP29lP+qooywlBiWKKIrMeuut1+qTeKGiQPtKVCzZqKoAUkdsmyZNmmTlQxHE25H6ZgXjzZu2YpSNPFJOnwFHfzy285YFa3Yv7rvvPiviyiuvbOmxxx5rKXMHdszuu0UWWcR+Q8nx55fYNslTAJmTsF90z8JeD+WbPoLif9111/Wa1wiczvjAXnvzzTdvNQW7HFltUzQHu3vKHAWX1/7hb8zbqLeMJ3YxUNTXWWedqLp04gXMfApGHBTAPOoeHKrL9AO+pz8SeQGbWGwCUf79IxPPPfdcqxOBrf35LWaclMG5jteKAFZoNRHARkMEsP8VQBFAEUB/Gov5YxMBbDpsiAD2nDAjAliBDNT0VhHACg0XQwBZ+bCydI9jpULsPFbATzzRdNt/9NHmThorntNPP90+4xXYyXajWwVX9QJmJcaxT65M2GngcYYSgAceChmrNlQbYCe2G0TSXwmGto59YQNIuVg1Y1+20kor2U+bbLKJpbQJmMTYMPpdraguZbyA/XwpDwoGti/0GeKv4Q1MPfAG7i8FkHJjj+TqhDr817/+1ar4m9/8xlKuQSnDTuvkk0+237Gpo60wU3C/YWfHmOtEbSqrAIbxylDHUDLxxlx33XWt/Oecc46leGCW8ZR391UlgCwoOHrvF7/4RauL0RZ8QbuhkHEPqmVoh8Zn7BxdPthpofiOHj3assdOq2wcQJ7N7gMKIOq3P8eER7xRL+xNUazwsGUcMV6In+nuC9s5HO95c7C7NrUCSHmYm8477zwrEsrz0UcfbZ+JFOD/rxR5y5e1AQQ/jtbkf8P3PB4xYoSVh/8MxigxJDk+kP8S7Eppg+WWW87u9+NWck87W0Znu57nLOW34WB8LwJYoVVFAEUARQDTnAQiAthoiAAeY7OxCOAVjaWXXrrCP1PzVhHARkMEML8biQBWGGYxBJDs/W06bF34jhUaK1e8oThVg3hIeKyVVQSK7E9ibQCzFMA99tjDqohHM3Vg9YanGRHluY5VGoqgHw8KlSpUOotUM38V3UlMQ78roADiaYZdCXaZrDppy4GiAFIH2grPUf4Mrr322l6rflbkeNr2lwKI1yXxF10h8RAkBhvx/7DHpG2IPUnoG055+OpXv2p1xQ7NvUcFCU96cL/F2puVVQBpi6lTm0e64THPaTjLL7+8fY9a+9nPftY++7sGZaapqgogfZoYnocddljr8eDG3MXnEE/ywH6Z6+mP/kkWRAaA+OFh66IeFNUlaw4Od104QYVTTFxl8ISl3IxfUuIa0neYn7DTRF0mrqHLkzpmqWdFc7A/d11xRRoCiLqJ6o3SR4SAQw89tFe3io0u0YkNIP2BmH3sPGDn6gqC0se1tCMp4x3l/IILLrDyf/GLX7QUr3nycd/lzWdFfavMmKvrtSKAFVpOBLDREAFseqCJAFbzAhYBFAEUARwxesiQIY+IADbnVBHACuQk8lYRwEigsi6LIYCsqrCNcfmw+qWDo4K9+uqr9hjsbIiIzmqJGFoDSQHElgNlj/hfrOxYSbOqY1WK/QnR37nf1X/48OGGQ38qgCiZt9xyi5UFmx+8GfGaRaWJXT3Tj4rUzE5tAMN+GnoAEgfwpJNOskuJa4YtTtm+lcoLmHJyYokrG8oenoKMB8qMssN50nhAH3HEEVY34gj+5Cc/acFC38qqZ0oF0Ld9w/4JBfOGG26w8uD5jiqJ4llWhQ3bPEbZyHMCoeyodSir7jnY0dHvUcT4vNpqq1lxUJfYgkMFRXnDRthfPOGZjjOCs/Vyddl2220L7ZezzgIOw4IQV9U9E5UYdQw7wdBmGftHYuShVmKzjJrmz1f9rQAyd/G/QkQAlDLmXBZdZW3KO1EA6aMslOlb/vnDlAP8QpvK4447zrLhZJyqynnMOKlAD2pxqwhghWYSAeyxARQBnFWqJ4kA9oZLBLBny1sEsBmORASw1JTSulgE8N9RwIkANhoigFFdJfuiPAIYxpFDGXM5oSoxUFn5sDrCQ47YVHjHEcW8k+3GFF7A/En7JxKghLltC/faeOONLcUegzM1WdXhwYn3LxHhUXXcve3O1CwiTe7eWHvGds1Ou6HaoD5hP4TtInEM82J/5XWtorqkUgBDQ3C27PGQxCYQpbasGpBKAcR+CtXPYceKHxtY7LBQ0jg5h5hsnE+LykyID+w2XZ55dnUpFMAQb/dMlEtUMWyZOF2C8R0qIJ1OTTF/bDHBuakLqp0rD+SUtiH+Jzayzj7yv+PQ0lBpDb2C3TWh0tOJZ3aWAgh+5O/bYWeVw10f2jmjDLLApWyouP5JIHkntfSFDSD1IyIDZ2ejhNM22Gd3utDoRAEMVb3Q9tJhzzWhXSle8cQOJCID9peozGVtZmPGSadjsC73iQBWaCkRwJ4AwiKA5TqSCGBvvEQAe0weypoThD0v5o9NBDD7r08EsHgeEwEsxqguV4gAVmipMlvAfhR6TiwgFhuectg0ELWck0E4A7is8kfVilafZVUz7Plc/vfcc489hphsxDYktheKILYe119/vV1PTDdsvvBwdr+1U0KKSNN/lQczpC7rBRyqEG6Scy88ErE7IaW8xD0sq5wV1SWVAshq+rXXXrP6rL/++pbS17AJzDoZI2ZopFYAXX68sK8ibh5tRF9CQedkDVR2bJ6WWmopy8pXforim8XEnMvzAqZMrn15oVjiBbznnnvaTyeeeKKllL/T8d0tAki+Pn6ol/QjVBc8Mr/0pS/ZbWXVmHZ9LVaVzVMAY/ox16AeozZzsgm2f6h8KOfMb+7+/lIAQ8UM+0R2L/AuX3311a2aZeeqrP5VNg5guzbwx2NYj8mTJ9ttnPTDeMY7HXvTKkqm4gCWGR26thcCIoAigCKAaeIAQjJEAKtPsqkUQBHARkMEcPb+2IkCKAJYfVx3IwcpgBVQjSGAZI8y4K/AWDGy8kFZC4MLV12xpVYAffsZ3nPyBNHZse3Ds486YBO41157GTS77LKLpb6q2E4JKVLNXD5l1UzaB8xRMLfYYgv7ic8oA9j8cAYoKi0qbqyKU1SXVAogxIrYkmuvvbbVC5UMOznq319ewGE7uM+cOIOn5t13322XQbo58QPVKRw/KAOxW6qxalOeAgje2MC68mIvF9rJ4XndqYLRbupKRQCpC6diuOcxbm+//XZ7PIo44xisYzEvmn5j2yS1AojNH6fRYFdHW7F7s9FGG7Wq0F8KIO2EKjl27FgrE/bZ2JqmVGWrKoChvZ8rL/+DKH948y+++OJWH+xN2b2oOm5ixklR/6z77yKAFVpQBLDHgFsE8OPWk0QAZx9QMfZmIoAVJqLg1pg/tpg2EQHsOY5QBLCnk6VQAEUA0433KjmJAFZATwRQBFAKYJotYBHAChORCOAjUgAbDSmA5cZQzEKpXI71u1oEsEKblSGAWY8JQxGk2jYJn5V6C9jPnzog3+M8MX36dLuMrWC2H3Dh56xL6hyjnBVtm7rndboFTPkx9ibcC+EeOOyesC/zzz+/1Q+HHoIRx25LFNWlW1vAHMnH1hWBvNlmGTZsWCklM5UTSNb4CINYs03NtfSplOFTqjqBoJpNnDixVSWCh2OUzxGPnYYQKpqyYv7YYhRA8Ge70z2XY+FWWWUVK4YjXu6VdwxaUXnzfu/vLWAceF5//XUrJvXGsYLx4n7LM58omoP9uSvmJBB/LOBgSLgjjqkjvBAOXlVNiWinFApgVhgewjkRLglzIZw+OJYvdo4t6ncx46Qoj7r/LgJYoQVFAHsUQBHAFawnxU5OIoDFA08EsBijrCti/thEALOxxdYXG0ARwNlxEgHsbFwOxLtEACu0SlUCWOHRpW4tWn12qpplFQJnl/DQ+PCAdlbLZVTPItLkr6LLhoGhLmGAUo664ng+yovisfDCC3ekgBTVJZUCSH1eeeUVKyfOKzhYEET15JNPtt/LhlbopgJYqpMnuDhWbcpzAqGfYzPmikUInkUXXdRKyRgp0/fLVK8qAaRvoyz5jg6U+eabb7YiLbPMMqUWPmXq4a6NbZPUW8CEgdlss82syBBDnHtwDvFVtbz2LJqD/bkrTwFE+Xv66adbUBKCCycUdiXYpUil/PHAFAQQrFBSXd4cD8pBAPzGnMTuTNk+1O76mHGS6lkDNR8RwAotIwI4O3gigHFHwokAVhh4Xbo1lmyIADYaIoBft14oAjj10XA48r+YN05EALs0iZXMVgSwJGD+5SKAFcDr4NYi0uSvojtVAClWaNuIkhYWuxMl0+VRVJdUCiDlRdW599577SuOJ0MRxIYxxhbTx0AKYHZH9vsL2HfaV8oOlRhlI28LGJWJ4xm33XbbVhEIgI5akzrsS1jXWFKeSgGk7n/84x+tKNhtEsIHO7swcHxRG1VVAMPnHXjgga1HXnjhhfaeAOMcp0iA8dRKcxUFkHqws+IrgKjmY8aMsfqss07zTOhYs5qiNsjqWwoEXRY1Xd9CQASwbztDEWkSAWzfHiKAxX01lmzkKRs8RQSwGO+YK2LbRARQBDCmP/nXxCyUyuZZt+ulAFZoMRHACuB1cGtfEsAOilfqlqK6pFYAKRxb9ARNxq6mbABo8pMCWKrZ++TimD+2GCcQlJfHH3/cX/Tae+y0UtuXZak0MZ7ZqQggz2fBNPfcc9tXjA/GS1lVraoCSLl47pNPPtmCiogLo0ePtu84KrFsGWM7ZxUFMIz/N9dcc7UeizpIv8PLP8tjOLasedfFjJMUzxnIeYgAVmidUaNGrTZz5sz7TjjhhAZhNCpk17Vbp02b1nChKIYMGbL6s88+e3/4IOoxYcKEAV8PF9qgXT1cvQZLXajHt7/97aRtwhYXRDAMpVK2E7q+5c5zjmkTd/bt8OHDyz6iz653237jx48vHCfurNWBXo9x48ZVbhNID6fIuIZYZJFFepGMbhPA2DZJPQej4EJQwKLs6TJ03qI52J+7nENWu/4FgeJcaXcf26k4dM0777xdHTOuTdz5vEX/J1njJCSA/glQEL0Q624RQFePonHSVSAHQOYigBUaYeTIkdvNMcccl1XIok9vnTVr1vZTpky5PHzoYKmHq9dgqctgqYfapE+HeK+HtRvvahO1SQoE/hf+T1LgNJDzEAGs0DpLL730gjNmzNhwzjnnnDZjxox3K2TV1VuHDh061/vvv7/40KFDb3vmmWeaEZq912Cph6vSYKnLYKmH2qSrQzsz86LxrjZRm1RBoKh/Daa5qwpOdbhXBLAOraQyCgEhIASEgBAQAkIgIQIigAnBVFZCQAgIASEgBISAEKgDAiKAdWgllVEICAEhIASEgBAQAgkREAFMCKayEgJCQAgIASEgBIRAHRAQAaxDK6mMQkAICAEhIASEgBBIiIAIYEIwlZUQEAJCQAgIASEgBOqAgAhgHVpJZRQCQkAICAEhIASEQEIERAATgqmshIAQEAJCQAgIASFQBwREAOvQSiqjEBACQkAICAEhIAQSIiACmBBMZSUEhIAQEAJCQAgIgTogIAJYh1ZSGYWAEBACQkAICAEhkBABEcCEYCorISAEhIAQEAJCQAjUAQERwDq0ksooBISAEBACQkAICIGECIgAJgRTWQkBISAEhIAQEAJCoA4IiADWoZVURiEgBISAEBACQkAIJERABDAhmMpKCAgBISAEhIAQEAJ1QEAEsA6tpDIKASEgBISAEBACQiAhAiKACcFUVkJACAgBISAEhIAQqAMCIoB1aCWVUQgIASEgBISAEBACCREQAUwIprISAkJACAgBISAEhEAdEBABrEMrqYxCQAgIASEgBISAEEiIgAhgQjCVlRAQAkJACAgBISAE6oCACGAdWkllFAJCQAgIASEgBIRAQgREABOCqayEgBAQAkJACAgBIVAHBEQA69BKKqMQEAJCQAgIASEgBBIiIAKYEExlJQSEgBAQAkJACAiBOiAgAliHVlIZhYAQEAJCQAgIASGQEAERwIRgKishIASEgBAQAkJACNQBARHAOrSSyigEhIAQEAJCQAgIgYQIiAAmBFNZCQEhIASEgBAQAkKgDgiIANahlVRGISAEhIAQEAJCQAgkREAEMCGYykoICAEhIASEgBAQAnVAQASwDq2kMgoBISAEhIAQEAJCICECIoAJwVRWQkAICAEhIASEgBCoAwIigHVoJZVRCAgBISAEhIAQEAIJERABTAimshICQkAICAEhIASEQB0QEAGsQyupjEJACAgBISAEhIAQSIiACGBCMJWVEBACQkAICAEhIATqgIAIYB1aSWUUAkJACAgBISAEhEBCBEQAE4KprISAEBACQkAICAEhUAcERADr0EoqoxAQAkJACAgBISAEEiIgApgQTGUlBISAEBACQkAICIE6ICACWIdWUhmFgBAQAkJACAgBIZAQARHAhGAqKyEgBISAEBACQkAI1AEBEcA6tJLKKASEgBAQAkJACAiBhAiIACYEU1kJASEgBISAEBACQqAOCIgA1qGVVEYhIASEgBAQAkJACCREQAQwIZjKSggIASEgBISAEBACdUBABLAOraQyCgEhIASEgBAQAkIgIQIigAnBVFZCQAgIASEgBISAEKgDAiKAdWgllVEICAEhIASEgBAQAgkREAFMCKayEgJCQAgIASEgBIRAHRAQAaxDK6mMQkAICAEhIASEgBBIiIAIYEIwlZUQEAJCQAgIASEgBOqAgAhgHVpJZRQCQkAICAEhIASEQEIERAATgqmshIAQEAJCQAgIASFQBwREAOvQSiqjEBACQkAICAEhIAQSIiACmBBMZSUEhIAQEAJCQAgIgTogIAJYh1ZSGYWAEBACQkAICAEhkBABEcCEYCorISAEhIAQEAJCQAjUAQERwDq0ksooBISAEBACQkAICIGECIgAJgRTWQkBISAEhIAQEAJCoA4IiADWoZVURiEgBISAEBACQkAIJERABDAhmMpKCAgBISAEhIAQEAJ1QEAEsA6tpDIKASEgBISAEBACQiAhAiKACcFUVkJACAgBISAEhIAQqAMCIoB1aCWVUQgIASEgBISAEBACCREQAUwIprISAkJACAgBISAEhEAdEPh/ZOOZV4792W4AAAAASUVORK5CYII=\" width=\"799.9999880790713\">"
      ],
      "text/plain": [
       "<IPython.core.display.HTML object>"
      ]
     },
     "metadata": {},
     "output_type": "display_data"
    }
   ],
   "source": [
    "plot_100_image(X)\n",
    "plt.show()"
   ]
  },
  {
   "cell_type": "markdown",
   "metadata": {},
   "source": [
    "# 代价函数"
   ]
  },
  {
   "cell_type": "code",
   "execution_count": 5,
   "metadata": {},
   "outputs": [
    {
     "data": {
      "text/plain": [
       "(5000, 401)"
      ]
     },
     "execution_count": 5,
     "metadata": {},
     "output_type": "execute_result"
    }
   ],
   "source": [
    "X_raw, y_raw = load_data('ex4data1.mat', transpose=False)\n",
    "X = np.insert(X_raw, 0, np.ones(X_raw.shape[0]), axis=1)#增加全部为1的一列\n",
    "X.shape"
   ]
  },
  {
   "cell_type": "code",
   "execution_count": 6,
   "metadata": {},
   "outputs": [
    {
     "data": {
      "text/plain": [
       "array([10, 10, 10, ...,  9,  9,  9], dtype=uint8)"
      ]
     },
     "execution_count": 6,
     "metadata": {},
     "output_type": "execute_result"
    }
   ],
   "source": [
    "y_raw"
   ]
  },
  {
   "cell_type": "code",
   "execution_count": 7,
   "metadata": {
    "collapsed": true
   },
   "outputs": [],
   "source": [
    "def expand_y(y):\n",
    "#     \"\"\"expand 5000*1 into 5000*10\n",
    "#     where y=10 -> [0, 0, 0, 0, 0, 0, 0, 0, 0, 1]: ndarray\n",
    "#     \"\"\"\n",
    "    res = []\n",
    "    for i in y:\n",
    "        y_array = np.zeros(10)\n",
    "        y_array[i - 1] = 1\n",
    "\n",
    "        res.append(y_array)\n",
    "\n",
    "    return np.array(res)\n",
    "# from sklearn.preprocessing import OneHotEncoder\n",
    "# encoder = OneHotEncoder(sparse=False)\n",
    "# y_onehot = encoder.fit_transform(y)\n",
    "# y_onehot.shape #这个函数与expand_y(y)一致"
   ]
  },
  {
   "cell_type": "code",
   "execution_count": 8,
   "metadata": {},
   "outputs": [
    {
     "data": {
      "text/plain": [
       "array([[ 0.,  0.,  0., ...,  0.,  0.,  1.],\n",
       "       [ 0.,  0.,  0., ...,  0.,  0.,  1.],\n",
       "       [ 0.,  0.,  0., ...,  0.,  0.,  1.],\n",
       "       ..., \n",
       "       [ 0.,  0.,  0., ...,  0.,  1.,  0.],\n",
       "       [ 0.,  0.,  0., ...,  0.,  1.,  0.],\n",
       "       [ 0.,  0.,  0., ...,  0.,  1.,  0.]])"
      ]
     },
     "execution_count": 8,
     "metadata": {},
     "output_type": "execute_result"
    }
   ],
   "source": [
    "y = expand_y(y_raw)\n",
    "y"
   ]
  },
  {
   "cell_type": "markdown",
   "metadata": {},
   "source": [
    "# 读取权重"
   ]
  },
  {
   "cell_type": "code",
   "execution_count": 9,
   "metadata": {
    "collapsed": true
   },
   "outputs": [],
   "source": [
    "def load_weight(path):\n",
    "    data = sio.loadmat(path)\n",
    "    return data['Theta1'], data['Theta2']"
   ]
  },
  {
   "cell_type": "code",
   "execution_count": 10,
   "metadata": {},
   "outputs": [
    {
     "data": {
      "text/plain": [
       "((25, 401), (10, 26))"
      ]
     },
     "execution_count": 10,
     "metadata": {},
     "output_type": "execute_result"
    }
   ],
   "source": [
    "t1, t2 = load_weight('ex4weights.mat')\n",
    "t1.shape, t2.shape"
   ]
  },
  {
   "cell_type": "code",
   "execution_count": 11,
   "metadata": {
    "collapsed": true
   },
   "outputs": [],
   "source": [
    "def serialize(a, b):\n",
    "  \n",
    "    return np.concatenate((np.ravel(a), np.ravel(b)))\n",
    "# 序列化2矩阵\n",
    "# 在这个nn架构中，我们有theta1（25,401），theta2（10,26），它们的梯度是delta1，delta2  \n"
   ]
  },
  {
   "cell_type": "code",
   "execution_count": 12,
   "metadata": {},
   "outputs": [
    {
     "data": {
      "text/plain": [
       "(10285,)"
      ]
     },
     "execution_count": 12,
     "metadata": {},
     "output_type": "execute_result"
    }
   ],
   "source": [
    "theta = serialize(t1, t2)  # 扁平化参数，25*401+10*26=10285\n",
    "theta.shape"
   ]
  },
  {
   "cell_type": "markdown",
   "metadata": {},
   "source": [
    "# feed forward（前向传播）\n",
    "> (400 + 1) -> (25 + 1) -> (10)\n",
    "\n",
    "<img style=\"float: left;\" src=\"../img/nn_model.png\">"
   ]
  },
  {
   "cell_type": "code",
   "execution_count": 19,
   "metadata": {
    "collapsed": true
   },
   "outputs": [],
   "source": [
    "def feed_forward(theta, X):\n",
    "    \"\"\"apply to architecture 400+1 * 25+1 *10\n",
    "    X: 5000 * 401\n",
    "    \"\"\"\n",
    "\n",
    "    t1, t2 = deserialize(theta)  # t1: (25,401) t2: (10,26)\n",
    "    m = X.shape[0]\n",
    "    a1 = X  # 5000 * 401\n",
    "\n",
    "    z2 = a1 @ t1.T  # 5000 * 25\n",
    "    a2 = np.insert(sigmoid(z2), 0, np.ones(m), axis=1)  # 5000*26\n",
    "\n",
    "    z3 = a2 @ t2.T  # 5000 * 10\n",
    "    h = sigmoid(z3)  # 5000*10, this is h_theta(X)\n",
    "\n",
    "    return a1, z2, a2, z3, h  # you need all those for backprop\n"
   ]
  },
  {
   "cell_type": "code",
   "execution_count": 23,
   "metadata": {
    "collapsed": true
   },
   "outputs": [],
   "source": [
    "def sigmoid(z):\n",
    "    return 1 / (1 + np.exp(-z))\n"
   ]
  },
  {
   "cell_type": "code",
   "execution_count": 24,
   "metadata": {
    "collapsed": true
   },
   "outputs": [],
   "source": [
    "def deserialize(seq):\n",
    "#     \"\"\"into ndarray of (25, 401), (10, 26)\"\"\"\n",
    "    return seq[:25 * 401].reshape(25, 401), seq[25 * 401:].reshape(10, 26)\n"
   ]
  },
  {
   "cell_type": "code",
   "execution_count": 25,
   "metadata": {},
   "outputs": [
    {
     "data": {
      "text/plain": [
       "array([[  1.12661530e-04,   1.74127856e-03,   2.52696959e-03, ...,\n",
       "          4.01468105e-04,   6.48072305e-03,   9.95734012e-01],\n",
       "       [  4.79026796e-04,   2.41495958e-03,   3.44755685e-03, ...,\n",
       "          2.39107046e-03,   1.97025086e-03,   9.95696931e-01],\n",
       "       [  8.85702310e-05,   3.24266731e-03,   2.55419797e-02, ...,\n",
       "          6.22892325e-02,   5.49803551e-03,   9.28008397e-01],\n",
       "       ..., \n",
       "       [  5.17641791e-02,   3.81715020e-03,   2.96297510e-02, ...,\n",
       "          2.15667361e-03,   6.49826950e-01,   2.42384687e-05],\n",
       "       [  8.30631310e-04,   6.22003774e-04,   3.14518512e-04, ...,\n",
       "          1.19366192e-02,   9.71410499e-01,   2.06173648e-04],\n",
       "       [  4.81465717e-05,   4.58821829e-04,   2.15146201e-05, ...,\n",
       "          5.73434571e-03,   6.96288990e-01,   8.18576980e-02]])"
      ]
     },
     "execution_count": 25,
     "metadata": {},
     "output_type": "execute_result"
    }
   ],
   "source": [
    "_, _, _, _, h = feed_forward(theta, X)\n",
    "h # 5000*10"
   ]
  },
  {
   "cell_type": "markdown",
   "metadata": {},
   "source": [
    "# 代价函数\n",
    "<img style=\"float: left;\" src=\"../img/nn_cost.png\">"
   ]
  },
  {
   "cell_type": "markdown",
   "metadata": {},
   "source": [
    "think about this, now we have $y$ and $h_{\\theta} \\in R^{5000 \\times 10}$  \n",
    "If you just ignore the m and k dimention, pairwisely this computation is trivial.  \n",
    "the eqation $= y*log(h_{\\theta}) - (1-y)*log(1-h_{\\theta})$  \n",
    "all you need to do after pairwise computation is sums this 2d array up and divided by m"
   ]
  },
  {
   "cell_type": "code",
   "execution_count": 26,
   "metadata": {
    "collapsed": true
   },
   "outputs": [],
   "source": [
    "def cost(theta, X, y):\n",
    "#     \"\"\"calculate cost\n",
    "#     y: (m, k) ndarray\n",
    "#     \"\"\"\n",
    "    m = X.shape[0]  # get the data size m\n",
    "\n",
    "    _, _, _, _, h = feed_forward(theta, X)\n",
    "\n",
    "    # np.multiply is pairwise operation\n",
    "    pair_computation = -np.multiply(y, np.log(h)) - np.multiply((1 - y), np.log(1 - h))\n",
    "\n",
    "    return pair_computation.sum() / m\n"
   ]
  },
  {
   "cell_type": "code",
   "execution_count": 27,
   "metadata": {},
   "outputs": [
    {
     "data": {
      "text/plain": [
       "0.28762916516131892"
      ]
     },
     "execution_count": 27,
     "metadata": {},
     "output_type": "execute_result"
    }
   ],
   "source": [
    "cost(theta, X, y)"
   ]
  },
  {
   "cell_type": "markdown",
   "metadata": {},
   "source": [
    "# 正则化代价函数\n",
    "<img style=\"float: left;\" src=\"../img/nn_regcost.png\">"
   ]
  },
  {
   "cell_type": "markdown",
   "metadata": {},
   "source": [
    "the first column of t1 and t2 is intercept $\\theta$, just forget them when you do regularization"
   ]
  },
  {
   "cell_type": "code",
   "execution_count": 29,
   "metadata": {
    "collapsed": true
   },
   "outputs": [],
   "source": [
    "def regularized_cost(theta, X, y, l=1):\n",
    "    \"\"\"the first column of t1 and t2 is intercept theta, ignore them when you do regularization\"\"\"\n",
    "    t1, t2 = deserialize(theta)  # t1: (25,401) t2: (10,26)\n",
    "    m = X.shape[0]\n",
    "\n",
    "    reg_t1 = (l / (2 * m)) * np.power(t1[:, 1:], 2).sum()  # this is how you ignore first col\n",
    "    reg_t2 = (l / (2 * m)) * np.power(t2[:, 1:], 2).sum()\n",
    "\n",
    "    return cost(theta, X, y) + reg_t1 + reg_t2\n"
   ]
  },
  {
   "cell_type": "code",
   "execution_count": 30,
   "metadata": {
    "scrolled": true
   },
   "outputs": [
    {
     "data": {
      "text/plain": [
       "0.38376985909092365"
      ]
     },
     "execution_count": 30,
     "metadata": {},
     "output_type": "execute_result"
    }
   ],
   "source": [
    "regularized_cost(theta, X, y)"
   ]
  },
  {
   "cell_type": "markdown",
   "metadata": {},
   "source": [
    "# 反向传播"
   ]
  },
  {
   "cell_type": "markdown",
   "metadata": {},
   "source": [
    "读取数据和权重过程与前向传播相同"
   ]
  },
  {
   "cell_type": "code",
   "execution_count": 35,
   "metadata": {},
   "outputs": [
    {
     "data": {
      "text/plain": [
       "((5000, 401), (5000, 10))"
      ]
     },
     "execution_count": 35,
     "metadata": {},
     "output_type": "execute_result"
    }
   ],
   "source": [
    "X.shape,y.shape"
   ]
  },
  {
   "cell_type": "code",
   "execution_count": 36,
   "metadata": {},
   "outputs": [
    {
     "data": {
      "text/plain": [
       "((25, 401), (10, 26))"
      ]
     },
     "execution_count": 36,
     "metadata": {},
     "output_type": "execute_result"
    }
   ],
   "source": [
    "t1.shape, t2.shape"
   ]
  },
  {
   "cell_type": "code",
   "execution_count": 37,
   "metadata": {},
   "outputs": [
    {
     "data": {
      "text/plain": [
       "(10285,)"
      ]
     },
     "execution_count": 37,
     "metadata": {},
     "output_type": "execute_result"
    }
   ],
   "source": [
    "theta.shape"
   ]
  },
  {
   "cell_type": "code",
   "execution_count": 39,
   "metadata": {
    "collapsed": true
   },
   "outputs": [],
   "source": [
    "def sigmoid_gradient(z):\n",
    "    \"\"\"\n",
    "    pairwise op is key for this to work on both vector and matrix\n",
    "    \"\"\"\n",
    "    return np.multiply(sigmoid(z), 1 - sigmoid(z))\n"
   ]
  },
  {
   "cell_type": "code",
   "execution_count": 40,
   "metadata": {},
   "outputs": [
    {
     "data": {
      "text/plain": [
       "0.25"
      ]
     },
     "execution_count": 40,
     "metadata": {},
     "output_type": "execute_result"
    }
   ],
   "source": [
    "sigmoid_gradient(0)"
   ]
  },
  {
   "cell_type": "markdown",
   "metadata": {},
   "source": [
    "# theta gradient\n",
    "super hard to get this right... the dimension is so confusing"
   ]
  },
  {
   "cell_type": "code",
   "execution_count": 43,
   "metadata": {
    "collapsed": true
   },
   "outputs": [],
   "source": [
    "def gradient(theta, X, y):\n",
    "    # initialize\n",
    "    t1, t2 = deserialize(theta)  # t1: (25,401) t2: (10,26)\n",
    "    m = X.shape[0]\n",
    "\n",
    "    delta1 = np.zeros(t1.shape)  # (25, 401)\n",
    "    delta2 = np.zeros(t2.shape)  # (10, 26)\n",
    "\n",
    "    a1, z2, a2, z3, h = feed_forward(theta, X)\n",
    "\n",
    "    for i in range(m):\n",
    "        a1i = a1[i, :]  # (1, 401)\n",
    "        z2i = z2[i, :]  # (1, 25)\n",
    "        a2i = a2[i, :]  # (1, 26)\n",
    "\n",
    "        hi = h[i, :]    # (1, 10)\n",
    "        yi = y[i, :]    # (1, 10)\n",
    "\n",
    "        d3i = hi - yi  # (1, 10)\n",
    "\n",
    "        z2i = np.insert(z2i, 0, np.ones(1))  # make it (1, 26) to compute d2i\n",
    "        d2i = np.multiply(t2.T @ d3i, sigmoid_gradient(z2i))  # (1, 26)\n",
    "\n",
    "        # careful with np vector transpose\n",
    "        delta2 += np.matrix(d3i).T @ np.matrix(a2i)  # (1, 10).T @ (1, 26) -> (10, 26)\n",
    "        delta1 += np.matrix(d2i[1:]).T @ np.matrix(a1i)  # (1, 25).T @ (1, 401) -> (25, 401)\n",
    "\n",
    "    delta1 = delta1 / m\n",
    "    delta2 = delta2 / m\n",
    "\n",
    "    return serialize(delta1, delta2)"
   ]
  },
  {
   "cell_type": "code",
   "execution_count": 44,
   "metadata": {
    "collapsed": true
   },
   "outputs": [],
   "source": [
    "d1, d2 = deserialize(gradient(theta, X, y))"
   ]
  },
  {
   "cell_type": "code",
   "execution_count": 45,
   "metadata": {},
   "outputs": [
    {
     "data": {
      "text/plain": [
       "((25, 401), (10, 26))"
      ]
     },
     "execution_count": 45,
     "metadata": {},
     "output_type": "execute_result"
    }
   ],
   "source": [
    "d1.shape, d2.shape"
   ]
  },
  {
   "cell_type": "markdown",
   "metadata": {},
   "source": [
    "# 梯度校验\n",
    "<img style=\"float: left;\" src=\"../img/gradient_checking.png\">"
   ]
  },
  {
   "cell_type": "code",
   "execution_count": 47,
   "metadata": {
    "collapsed": true
   },
   "outputs": [],
   "source": [
    "def gradient_checking(theta, X, y, epsilon, regularized=False):\n",
    "    def a_numeric_grad(plus, minus, regularized=False):\n",
    "        \"\"\"calculate a partial gradient with respect to 1 theta\"\"\"\n",
    "        if regularized:\n",
    "            return (regularized_cost(plus, X, y) - regularized_cost(minus, X, y)) / (epsilon * 2)\n",
    "        else:\n",
    "            return (cost(plus, X, y) - cost(minus, X, y)) / (epsilon * 2)\n",
    "\n",
    "    theta_matrix = expand_array(theta)  # expand to (10285, 10285)\n",
    "    epsilon_matrix = np.identity(len(theta)) * epsilon\n",
    "\n",
    "    plus_matrix = theta_matrix + epsilon_matrix\n",
    "    minus_matrix = theta_matrix - epsilon_matrix\n",
    "\n",
    "    # calculate numerical gradient with respect to all theta\n",
    "    numeric_grad = np.array([a_numeric_grad(plus_matrix[i], minus_matrix[i], regularized)\n",
    "                                    for i in range(len(theta))])\n",
    "\n",
    "    # analytical grad will depend on if you want it to be regularized or not\n",
    "    analytic_grad = regularized_gradient(theta, X, y) if regularized else gradient(theta, X, y)\n",
    "\n",
    "    # If you have a correct implementation, and assuming you used EPSILON = 0.0001\n",
    "    # the diff below should be less than 1e-9\n",
    "    # this is how original matlab code do gradient checking\n",
    "    diff = np.linalg.norm(numeric_grad - analytic_grad) / np.linalg.norm(numeric_grad + analytic_grad)\n",
    "\n",
    "    print('If your backpropagation implementation is correct,\\nthe relative difference will be smaller than 10e-9 (assume epsilon=0.0001).\\nRelative Difference: {}\\n'.format(diff))\n"
   ]
  },
  {
   "cell_type": "code",
   "execution_count": 49,
   "metadata": {
    "collapsed": true
   },
   "outputs": [],
   "source": [
    "def expand_array(arr):\n",
    "    \"\"\"replicate array into matrix\n",
    "    [1, 2, 3]\n",
    "\n",
    "    [[1, 2, 3],\n",
    "     [1, 2, 3],\n",
    "     [1, 2, 3]]\n",
    "    \"\"\"\n",
    "    # turn matrix back to ndarray\n",
    "    return np.array(np.matrix(np.ones(arr.shape[0])).T @ np.matrix(arr))\n"
   ]
  },
  {
   "cell_type": "code",
   "execution_count": 50,
   "metadata": {
    "scrolled": true
   },
   "outputs": [
    {
     "name": "stdout",
     "output_type": "stream",
     "text": [
      "If your backpropagation implementation is correct,\n",
      "the relative difference will be smaller than 10e-9 (assume epsilon=0.0001).\n",
      "Relative Difference: 2.1455623285988868e-09\n",
      "\n"
     ]
    }
   ],
   "source": [
    "gradient_checking(theta, X, y, epsilon= 0.0001)#这个运行很慢，谨慎运行"
   ]
  },
  {
   "cell_type": "markdown",
   "metadata": {},
   "source": [
    "# regularized gradient\n",
    "Use normal gradient + regularized term"
   ]
  },
  {
   "cell_type": "markdown",
   "metadata": {},
   "source": [
    "<img style=\"float: left;\" src=\"../img/nn_reg_grad.png\">"
   ]
  },
  {
   "cell_type": "code",
   "execution_count": 52,
   "metadata": {
    "collapsed": true
   },
   "outputs": [],
   "source": [
    "def regularized_gradient(theta, X, y, l=1):\n",
    "    \"\"\"don't regularize theta of bias terms\"\"\"\n",
    "    m = X.shape[0]\n",
    "    delta1, delta2 = deserialize(gradient(theta, X, y))\n",
    "    t1, t2 = deserialize(theta)\n",
    "\n",
    "    t1[:, 0] = 0\n",
    "    reg_term_d1 = (l / m) * t1\n",
    "    delta1 = delta1 + reg_term_d1\n",
    "\n",
    "    t2[:, 0] = 0\n",
    "    reg_term_d2 = (l / m) * t2\n",
    "    delta2 = delta2 + reg_term_d2\n",
    "\n",
    "    return serialize(delta1, delta2)"
   ]
  },
  {
   "cell_type": "code",
   "execution_count": 53,
   "metadata": {},
   "outputs": [
    {
     "name": "stdout",
     "output_type": "stream",
     "text": [
      "If your backpropagation implementation is correct,\n",
      "the relative difference will be smaller than 10e-9 (assume epsilon=0.0001).\n",
      "Relative Difference: 3.1905824084956572e-09\n",
      "\n"
     ]
    }
   ],
   "source": [
    "gradient_checking(theta, X, y, epsilon=0.0001, regularized=True)#这个运行很慢，谨慎运行"
   ]
  },
  {
   "cell_type": "markdown",
   "metadata": {},
   "source": [
    "# ready to train the model"
   ]
  },
  {
   "cell_type": "markdown",
   "metadata": {},
   "source": [
    " remember to randomly initlized the parameters to break symmetry\n",
    "\n",
    "take a look at the doc of this argument: `jac`\n",
    "\n",
    ">jac : bool or callable, optional\n",
    "Jacobian (gradient) of objective function. Only for CG, BFGS, Newton-CG, L-BFGS-B, TNC, SLSQP, dogleg, trust-ncg. **If jac is a Boolean and is True, fun is assumed to return the gradient along with the objective function.** If False, the gradient will be estimated numerically. jac can also be a callable returning the gradient of the objective. In this case, it must accept the same arguments as fun.\n",
    "\n",
    "it means if your `backprop` function return `(cost, grad)`, you could set `jac=True`  \n",
    "\n",
    "This is the implementation of http://nbviewer.jupyter.org/github/jdwittenauer/ipython-notebooks/blob/master/notebooks/ml/ML-Exercise4.ipynb\n",
    "\n",
    "but I choose to seperate them"
   ]
  },
  {
   "cell_type": "code",
   "execution_count": 56,
   "metadata": {
    "collapsed": true
   },
   "outputs": [],
   "source": [
    "def random_init(size):\n",
    "    return np.random.uniform(-0.12, 0.12, size)\n"
   ]
  },
  {
   "cell_type": "code",
   "execution_count": 57,
   "metadata": {
    "collapsed": true
   },
   "outputs": [],
   "source": [
    "def nn_training(X, y):\n",
    "    \"\"\"regularized version\n",
    "    the architecture is hard coded here... won't generalize\n",
    "    \"\"\"\n",
    "    init_theta = random_init(10285)  # 25*401 + 10*26\n",
    "\n",
    "    res = opt.minimize(fun=regularized_cost,\n",
    "                       x0=init_theta,\n",
    "                       args=(X, y, 1),\n",
    "                       method='TNC',\n",
    "                       jac=regularized_gradient,\n",
    "                       options={'maxiter': 400})\n",
    "    return res"
   ]
  },
  {
   "cell_type": "code",
   "execution_count": 58,
   "metadata": {
    "scrolled": true
   },
   "outputs": [
    {
     "data": {
      "text/plain": [
       "     fun: 0.31677973007087407\n",
       "     jac: array([ -4.85498059e-05,   1.52435475e-09,  -2.42237461e-08, ...,\n",
       "         5.36244893e-05,   5.82601644e-05,   7.84943560e-05])\n",
       " message: 'Max. number of function evaluations reached'\n",
       "    nfev: 400\n",
       "     nit: 28\n",
       "  status: 3\n",
       " success: False\n",
       "       x: array([  0.00000000e+00,   7.62177373e-06,  -1.21118731e-04, ...,\n",
       "        -1.12048523e+00,  -1.00430109e+00,   1.42107038e+00])"
      ]
     },
     "execution_count": 58,
     "metadata": {},
     "output_type": "execute_result"
    }
   ],
   "source": [
    "res = nn_training(X, y)#慢\n",
    "res"
   ]
  },
  {
   "cell_type": "markdown",
   "metadata": {},
   "source": [
    "# 显示准确率"
   ]
  },
  {
   "cell_type": "code",
   "execution_count": 59,
   "metadata": {},
   "outputs": [
    {
     "data": {
      "text/plain": [
       "array([10, 10, 10, 10, 10, 10, 10, 10, 10, 10, 10, 10, 10, 10, 10, 10, 10,\n",
       "       10, 10, 10], dtype=uint8)"
      ]
     },
     "execution_count": 59,
     "metadata": {},
     "output_type": "execute_result"
    }
   ],
   "source": [
    "_, y_answer = load_data('ex4data1.mat')\n",
    "y_answer[:20]"
   ]
  },
  {
   "cell_type": "code",
   "execution_count": 60,
   "metadata": {
    "collapsed": true
   },
   "outputs": [],
   "source": [
    "final_theta = res.x"
   ]
  },
  {
   "cell_type": "code",
   "execution_count": 61,
   "metadata": {
    "collapsed": true
   },
   "outputs": [],
   "source": [
    "def show_accuracy(theta, X, y):\n",
    "    _, _, _, _, h = feed_forward(theta, X)\n",
    "\n",
    "    y_pred = np.argmax(h, axis=1) + 1\n",
    "\n",
    "    print(classification_report(y, y_pred))\n",
    "\n"
   ]
  },
  {
   "cell_type": "markdown",
   "metadata": {},
   "source": [
    "# 显示隐藏层"
   ]
  },
  {
   "cell_type": "code",
   "execution_count": 62,
   "metadata": {
    "collapsed": true
   },
   "outputs": [],
   "source": [
    "def plot_hidden_layer(theta):\n",
    "    \"\"\"\n",
    "    theta: (10285, )\n",
    "    \"\"\"\n",
    "    final_theta1, _ = deserialize(theta)\n",
    "    hidden_layer = final_theta1[:, 1:]  # ger rid of bias term theta\n",
    "\n",
    "    fig, ax_array = plt.subplots(nrows=5, ncols=5, sharey=True, sharex=True, figsize=(5, 5))\n",
    "\n",
    "    for r in range(5):\n",
    "        for c in range(5):\n",
    "            ax_array[r, c].matshow(hidden_layer[5 * r + c].reshape((20, 20)),\n",
    "                                   cmap=matplotlib.cm.binary)\n",
    "            plt.xticks(np.array([]))\n",
    "            plt.yticks(np.array([]))\n",
    "\n",
    "\n",
    "# nn functions starts here ---------------------------\n",
    "# ps. all the y here is expanded version (5000,10)"
   ]
  },
  {
   "cell_type": "code",
   "execution_count": 63,
   "metadata": {},
   "outputs": [
    {
     "data": {
      "image/png": "[encoded data removed]",
      "text/plain": [
       "<matplotlib.figure.Figure at 0x8e2e400>"
      ]
     },
     "metadata": {},
     "output_type": "display_data"
    }
   ],
   "source": [
    "plot_hidden_layer(final_theta)\n",
    "plt.show()"
   ]
  },
  {
   "cell_type": "code",
   "execution_count": null,
   "metadata": {
    "collapsed": true
   },
   "outputs": [],
   "source": []
  }
 ],
 "metadata": {
  "anaconda-cloud": {},
  "kernelspec": {
   "display_name": "Python 3",
   "language": "python",
   "name": "python3"
  },
  "language_info": {
   "codemirror_mode": {
    "name": "ipython",
    "version": 3
   },
   "file_extension": ".py",
   "mimetype": "text/x-python",
   "name": "python",
   "nbconvert_exporter": "python",
   "pygments_lexer": "ipython3",
   "version": "3.6.2"
  }
 },
 "nbformat": 4,
 "nbformat_minor": 1
}
